{
 "cells": [
  {
   "cell_type": "markdown",
   "metadata": {},
   "source": [
    "# 統計2009年冬季到2018年冬季臺灣各縣市的空氣汙染物質"
   ]
  },
  {
   "cell_type": "code",
   "execution_count": null,
   "metadata": {},
   "outputs": [],
   "source": [
    "from ipywidgets import interact_manual\n",
    "import matplotlib.pyplot as plt\n",
    "import matplotlib as mpl\n",
    "import pandas as pd\n",
    "import numpy as np\n",
    "\n",
    "%matplotlib inline"
   ]
  },
  {
   "cell_type": "markdown",
   "metadata": {},
   "source": [
    "從行政院[環境保護署環境資源資料庫](https://erdb.epa.gov.tw/DataRepository/EnvMonitor/AirQualityMonitorMonData.aspx?topic1=%u5927%u6c23&topic2=%u74b0%u5883%u53ca%u751f%u614b%u76e3%u6e2c&subject=%u7a7a%u6c23%u54c1%u8cea)下載2008年12月到2019年1月的全臺的\"空氣品質監測月值\"至本機後 用pandas_read_csv抓取資料~<br>\n",
    "或是從敝人的[google drive](https://drive.google.com/open?id=17hwzkzdy9ad50QH1alnbiVsXLeHFnRtQ)下載也可以喔~<br>\n",
    "(政府資料開放平台好像只有2019年1月的月均值QQ)"
   ]
  },
  {
   "cell_type": "markdown",
   "metadata": {},
   "source": [
    "## 前置作業\n",
    "###    抓檔案並作資料整理\n",
    "把檔案的路徑輸入pandas.read_csv的函數中 注意Windows路徑中的反斜線(\\)要改成斜線(/)喔~"
   ]
  },
  {
   "cell_type": "code",
   "execution_count": null,
   "metadata": {},
   "outputs": [],
   "source": [
    "air = pd.read_csv(\"C:/Users/User/Machine Learning/Homework_pandas/Air_Pollution_2008_Dec-2019_Jan.csv\")\n",
    "#air = pd.read_csv(\"C:/Users/User/Downloads/Air_Pollution_2008_Dec-2019_Jan.csv\")\n",
    "new_column = []\n",
    "for i in air.columns.values:\n",
    "    new_column.append(i.replace(\"<br />\", \"\"))\n",
    "new_column[4:13] = ['二氧化硫SO_2 (ppb)','一氧化碳CO (ppm)','二氧化碳CO_2 (ppm)','臭氧O_3 (ppb)','懸浮微粒PM10 (μg/m^3)','細懸浮微粒PM2.5 (μg/m^3)','氮氧化物NO_x (ppb)','一氧化氮NO (ppb)','二氧化氮NO_2 (ppb)']\n",
    "A = zip(air.columns.values,new_column)\n",
    "air.rename(columns=dict(A), inplace=True)\n",
    "air = air.iloc[:-2,:].copy()\n",
    "del new_column"
   ]
  },
  {
   "cell_type": "markdown",
   "metadata": {},
   "source": [
    "### 偷看一下"
   ]
  },
  {
   "cell_type": "code",
   "execution_count": null,
   "metadata": {},
   "outputs": [],
   "source": [
    "air.head()"
   ]
  },
  {
   "cell_type": "markdown",
   "metadata": {},
   "source": [
    "### 將資料分成各年的DataFrame,並做成一個list: air_year"
   ]
  },
  {
   "cell_type": "code",
   "execution_count": null,
   "metadata": {},
   "outputs": [],
   "source": [
    "air_year = []\n",
    "y = 2008\n",
    "m = 12\n",
    "ym = []\n",
    "ym.append(f'{y}/{m}')\n",
    "year = []\n",
    "for i in air['監測月份'].values:\n",
    "    if i in ym:\n",
    "        year.append(True)\n",
    "    else:\n",
    "        year.append(False) \n",
    "air_year.append(air[year])\n",
    "\n",
    "for y in range(2009,2019):\n",
    "    ym = []\n",
    "    for m in range(0,13):\n",
    "        if m<10:\n",
    "            ym.append(f'{y}/0{m}')\n",
    "        else:\n",
    "            ym.append(f'{y}/{m}')\n",
    "    year = []\n",
    "    for i in air['監測月份'].values:\n",
    "        if i in ym:\n",
    "            year.append(True)\n",
    "        else:\n",
    "            year.append(False) \n",
    "    air_year.append(air[year])\n",
    "\n",
    "y = 2019\n",
    "m = 1\n",
    "ym = []\n",
    "ym.append(f'{y}/0{m}')\n",
    "year = []\n",
    "for i in air['監測月份'].values:\n",
    "    if i in ym:\n",
    "        year.append(True)\n",
    "    else:\n",
    "        year.append(False) \n",
    "air_year.append(air[year])\n",
    "\n",
    "del ym; del year"
   ]
  },
  {
   "cell_type": "markdown",
   "metadata": {},
   "source": [
    "### 檢查有沒有資料遺漏"
   ]
  },
  {
   "cell_type": "code",
   "execution_count": null,
   "metadata": {},
   "outputs": [],
   "source": [
    "index = 0\n",
    "for i in air_year:\n",
    "    index += len(i.index)\n",
    "#    print(f'{len(i.index)}', end=\", \")\n",
    "if index==len(air.index):\n",
    "    print('沒缺資料喔~')\n",
    "else:\n",
    "    print('漏資料囉QQ')"
   ]
  },
  {
   "cell_type": "markdown",
   "metadata": {},
   "source": [
    "### 做一些方便找資料的list (compounds, county, factors)及dictionaries (year_list, county_list)"
   ]
  },
  {
   "cell_type": "code",
   "execution_count": null,
   "metadata": {},
   "outputs": [],
   "source": [
    "county=[]\n",
    "for i in air['縣市'].values:\n",
    "    if i not in county:\n",
    "        county.append(i)"
   ]
  },
  {
   "cell_type": "code",
   "execution_count": null,
   "metadata": {},
   "outputs": [],
   "source": [
    "year_list = dict(zip(np.arange(2008,2020),np.arange(0,12)))\n",
    "county_list = dict(zip(county,np.arange(len(county))))\n",
    "compounds = air.columns.values[4:13]\n",
    "factors = air.columns[22:]"
   ]
  },
  {
   "cell_type": "markdown",
   "metadata": {},
   "source": [
    "## 計算全國空汙物質的季度平均\n",
    "1. 春季3-5月;夏季6-8月;秋季9-11月;冬季12-2月<br>\n",
    "因為冬季會有跨年的問題 所以把上一年的12月歸類在下一年的冬季(所以資料才從2008/12開始)<br>\n",
    "2. 計算各汙染物質平均時 會把全國各有效測站加總(但沒有加權) 再除以總共的有效測站數目 如果該測站沒有該汙染物質的觀測量 則當作無效的測站\n"
   ]
  },
  {
   "cell_type": "code",
   "execution_count": null,
   "metadata": {},
   "outputs": [],
   "source": [
    "AP_compounds_season_country = []\n",
    "for item in compounds:\n",
    "    AP_season_country = np.zeros((len(year_list)-2)*4+1) #data is only available from 2008/12(winter) to 2019/1(winter)\n",
    "    season = []\n",
    "    count = 0\n",
    "    Start = 2008\n",
    "    End = 2019\n",
    "    YEAR = Start\n",
    "\n",
    "    while YEAR in range(Start,End):\n",
    "        #winter\n",
    "        month=12\n",
    "        weight = 0\n",
    "        temp = air_year[year_list[YEAR]][air_year[year_list[YEAR]]['監測月份'] == f'{YEAR}'+'/'+f'{(month)}']\n",
    "        for i in temp[item].values:\n",
    "            if i!='-':\n",
    "                AP_season_country[count] += float(i)\n",
    "                weight += 1\n",
    "            \n",
    "        YEAR = YEAR +1 # go to next year\n",
    "\n",
    "        for month in range(1,3):\n",
    "            temp = air_year[year_list[YEAR]][air_year[year_list[YEAR]]['監測月份'] == f'{YEAR}'+'/0'+f'{month}']\n",
    "            for i in temp[item].values:\n",
    "                if i!='-':\n",
    "                    AP_season_country[count] += float(i)\n",
    "                    weight += 1\n",
    "        if weight!=0:\n",
    "            AP_season_country[count] /= weight\n",
    "            season.append(f'{YEAR}'+'冬')\n",
    "        else:\n",
    "            print(f'No available data in {YEAR} winter!\\n')\n",
    "        count +=1\n",
    "    \n",
    "        # insert this after the season in which data ends\n",
    "        if YEAR>=End:\n",
    "            break\n",
    "    \n",
    "        #spring\n",
    "        weight =0\n",
    "        for month in range(3,6):\n",
    "            temp = air_year[year_list[YEAR]][air_year[year_list[YEAR]]['監測月份'] == f'{YEAR}'+'/0'+f'{month}']\n",
    "            for i in temp[item].values:\n",
    "                if i!='-':\n",
    "                    AP_season_country[count] += float(i)\n",
    "                    weight += 1\n",
    "        if weight!=0:\n",
    "            AP_season_country[count] /= weight\n",
    "            season.append(f'{YEAR}'+'春')\n",
    "        else:\n",
    "            print(f'No available data in {YEAR} spring!\\n')\n",
    "        count +=1\n",
    "\n",
    "        #summer\n",
    "        weight =0\n",
    "        for month in range(6,9):\n",
    "            temp = air_year[year_list[YEAR]][air_year[year_list[YEAR]]['監測月份'] == f'{YEAR}'+'/0'+f'{month}']\n",
    "            for i in temp[item].values:\n",
    "                if i!='-':\n",
    "                    AP_season_country[count] += float(i)\n",
    "                    weight += 1\n",
    "        if weight!=0:\n",
    "            AP_season_country[count] /= weight\n",
    "            season.append(f'{YEAR}'+'夏')\n",
    "        else:\n",
    "            print(f'No available data in {YEAR} summer!\\n')\n",
    "        count +=1\n",
    "\n",
    "        #fall\n",
    "        weight =0\n",
    "        month=9\n",
    "        temp = air_year[year_list[YEAR]][air_year[year_list[YEAR]]['監測月份'] == f'{YEAR}'+'/0'+f'{month}']\n",
    "        for i in temp[item].values:\n",
    "            if i!='-':\n",
    "                AP_season_country[count] += float(i)\n",
    "                weight += 1\n",
    "        for month in range(10,12):\n",
    "            temp = air_year[year_list[YEAR]][air_year[year_list[YEAR]]['監測月份'] == f'{YEAR}'+'/'+f'{month}']            \n",
    "            for i in temp[item].values:\n",
    "                if i!='-':\n",
    "                    AP_season_country[count] += float(i)\n",
    "                    weight += 1\n",
    "        if weight!=0:\n",
    "            AP_season_country[count] /= weight\n",
    "            season.append(f'{YEAR}'+'秋')\n",
    "        else:\n",
    "            print(f'No available data in {YEAR} fall!\\n')\n",
    "        \n",
    "        count += 1\n",
    "        \n",
    "    AP_compounds_season_country.append(AP_season_country)\n",
    "\n",
    "whole_country = pd.DataFrame(AP_compounds_season_country,index=compounds, columns=season)\n",
    "whole_country = whole_country.T # .T means transpose the data\n",
    "whole_country.head()"
   ]
  },
  {
   "cell_type": "markdown",
   "metadata": {},
   "source": [
    "## 計算各縣市平均\n",
    "###    把各月份的值歸類到所屬的季度 並依據縣市做成各自的 DataFrame 方便以後呼叫"
   ]
  },
  {
   "cell_type": "code",
   "execution_count": null,
   "metadata": {},
   "outputs": [],
   "source": [
    "def AIR_POLLUTION_L(location):\n",
    "    AP_compounds_season_location = []\n",
    "    for item in compounds:\n",
    "        AP_season_location = np.zeros((len(year_list)-2)*4+1) #data is only available from 2008/12(winter) to 2019/1(winter)\n",
    "#        season = []\n",
    "        count = 0\n",
    "        Start = 2008\n",
    "        End = 2019\n",
    "        YEAR = Start\n",
    "\n",
    "        while YEAR in range(Start,End):\n",
    "            #winter\n",
    "            month=12\n",
    "            weight = 0\n",
    "            AP_year_location = air_year[year_list[YEAR]][air_year[year_list[YEAR]]['縣市']==location]\n",
    "            temp = AP_year_location[AP_year_location['監測月份'] == f'{YEAR}'+'/'+f'{(month)}']\n",
    "            for i in temp[item].values:\n",
    "                if i!='-':\n",
    "                    AP_season_location[count] += float(i)\n",
    "                    weight += 1\n",
    "            \n",
    "            YEAR = YEAR +1 # go to next year\n",
    "\n",
    "            AP_year_location = air_year[year_list[YEAR]][air_year[year_list[YEAR]]['縣市']==location]\n",
    "            for month in range(1,3):\n",
    "                temp = AP_year_location[AP_year_location['監測月份'] == f'{YEAR}'+'/0'+f'{month}']\n",
    "                for i in temp[item].values:\n",
    "                    if i!='-':\n",
    "                        AP_season_location[count] += float(i)\n",
    "                        weight += 1\n",
    "            if weight!=0:\n",
    "                AP_season_location[count] /= weight\n",
    "#                season.append(f'{YEAR}'+'冬')\n",
    "            else:\n",
    "                print(f'\\t\\tNo available {item} data in {YEAR} winter!\\n')\n",
    "            count +=1\n",
    "    \n",
    "             #insert this after the season in which data ends\n",
    "            if YEAR>=End:\n",
    "                break\n",
    "    \n",
    "            #spring\n",
    "            weight =0\n",
    "            for month in range(3,6):\n",
    "                temp = AP_year_location[AP_year_location['監測月份'] == f'{YEAR}'+'/0'+f'{month}']\n",
    "                for i in temp[item].values:\n",
    "                    if i!='-':\n",
    "                        AP_season_location[count] += float(i)\n",
    "                        weight += 1\n",
    "            if weight!=0:\n",
    "                AP_season_location[count] /= weight\n",
    "#                season.append(f'{YEAR}'+'春')\n",
    "            else:\n",
    "                print(f'\\t\\tNo available {item} data in {YEAR} spring!\\n')\n",
    "            count +=1\n",
    "\n",
    "            #summer\n",
    "            weight =0\n",
    "            for month in range(6,9):\n",
    "                temp = AP_year_location[AP_year_location['監測月份'] == f'{YEAR}'+'/0'+f'{month}']\n",
    "                for i in temp[item].values:\n",
    "                    if i!='-':\n",
    "                        AP_season_location[count] += float(i)\n",
    "                        weight += 1\n",
    "            if weight!=0:\n",
    "                AP_season_location[count] /= weight\n",
    "#                season.append(f'{YEAR}'+'夏')\n",
    "            else:\n",
    "                print(f'\\t\\tNo available {item} data in {YEAR} summer!\\n')\n",
    "            count +=1\n",
    "\n",
    "            #fall\n",
    "            weight =0\n",
    "            month=9\n",
    "            temp = AP_year_location[AP_year_location['監測月份'] == f'{YEAR}'+'/0'+f'{month}']\n",
    "            for i in temp[item].values:\n",
    "                if i!='-':\n",
    "                    AP_season_location[count] += float(i)\n",
    "                    weight += 1\n",
    "            for month in range(10,12):\n",
    "                temp = AP_year_location[AP_year_location['監測月份'] == f'{YEAR}'+'/'+f'{month}']            \n",
    "                for i in temp[item].values:\n",
    "                    if i!='-':\n",
    "                        AP_season_location[count] += float(i)\n",
    "                        weight += 1\n",
    "            if weight!=0:\n",
    "                AP_season_location[count] /= weight\n",
    "#                season.append(f'{YEAR}'+'秋')\n",
    "            else:\n",
    "                print(f'\\t\\tNo available {item} data in {YEAR} fall!\\n')\n",
    "            count += 1\n",
    "        AP_compounds_season_location.append(AP_season_location)\n",
    "    return (AP_compounds_season_location)"
   ]
  },
  {
   "cell_type": "markdown",
   "metadata": {},
   "source": [
    "### 執行上面的函數(如果該季度沒有觀測值的話會跟你說喔 像CO<sub>2</sub>只有少數測站有觀測到 所以很多地點都沒資料...) 最後再把所有縣市加上全國的 DataFrame 合成一個 list: air_season"
   ]
  },
  {
   "cell_type": "code",
   "execution_count": null,
   "metadata": {
    "scrolled": true
   },
   "outputs": [],
   "source": [
    "air_season = []\n",
    "print ('計算各縣市各年份季節平均空汙物質\\n\\n我是處理報表')\n",
    "for i in county:\n",
    "    print (f'\\t現在處理{i}...')\n",
    "    temp = pd.DataFrame(AIR_POLLUTION_L(i), index=compounds, columns= season)\n",
    "    air_season.append(temp.T)\n",
    "air_season.append(whole_country)\n",
    "print('\\t完成囉!!')"
   ]
  },
  {
   "cell_type": "markdown",
   "metadata": {},
   "source": [
    "### 將結果作圖(可以你居住的地方或老家看一看嚇自己喔~)\n",
    "先定義畫圖的函數"
   ]
  },
  {
   "cell_type": "code",
   "execution_count": null,
   "metadata": {},
   "outputs": [],
   "source": [
    "def AP_LOCAL_ALL_SEASON(location, item):\n",
    "    plt.rcdefaults()\n",
    "    plt.style.use('ggplot')\n",
    "    plt.figure(figsize=(30,15),dpi=200)\n",
    "    plt.plot(air_season[county_list[location]].index, air_season[county_list[location]][item].values,color='blue',lw=5.0,marker='o',markersize=20.0,label=f'{location}')\n",
    "    plt.plot(air_season[-1].index, air_season[-1][item].values,color='red',lw=5.0,marker='o',markersize=20.0,label='全國平均')\n",
    "    plt.xticks(range(0,41),season, rotation=45,fontsize=20)\n",
    "    plt.yticks(fontsize=20)\n",
    "    plt.xlim(-1,41)\n",
    "    plt.rcParams['font.sans-serif'] = ['Microsoft JhengHei']\n",
    "    plt.xlabel('年份-季節',fontsize=20)\n",
    "    \n",
    "    item = item.replace('_2', '$_{2}$')\n",
    "    item = item.replace('_3', '$_{3}$')\n",
    "    item = item.replace('_x', '$_{x}$')\n",
    "    item = item.replace('μ', '$\\mu$')\n",
    "    item = item.replace('^3', '$^{3}$')\n",
    "    \n",
    "    plt.ylabel(r'{}'.format(item),fontsize=20)\n",
    "    plt.title( r'{} 2009冬-2019冬 {} 趨勢圖'.format(location,item),fontsize=30)\n",
    "    plt.legend(loc='best', prop={'size': 30}, facecolor='white') #prop adjust the legend fontsize\n",
    "    plt.show()"
   ]
  },
  {
   "cell_type": "code",
   "execution_count": null,
   "metadata": {},
   "outputs": [],
   "source": [
    "def AP_ALL_COUNTY_SEASON(time, item):\n",
    "    AP_area_comparsion = []\n",
    "    label = []\n",
    "    for i in county:\n",
    "        temp = air_season[county_list[i]].loc[time,item]\n",
    "        if temp>0:\n",
    "            AP_area_comparsion.append(temp)\n",
    "            label.append(i)\n",
    "    plt.rcdefaults()\n",
    "    plt.rcParams['font.sans-serif'] = ['Microsoft JhengHei']\n",
    "    plt.style.use('seaborn-notebook')\n",
    "    color = ['r','orange','yellow', 'limegreen','b','purple','brown','gold','silver','lime','cyan','magenta','red','darkorange','greenyellow','chocolate','aqua','m','lawngreen','orangered','deepskyblue','indigo']\n",
    "    fig = plt.figure(figsize=(5,15), dpi=200)\n",
    "    \n",
    "    ITEM = item # for calling the whole country average value\n",
    "    item = item.replace('_2', '$_{2}$')\n",
    "    item = item.replace('_3', '$_{3}$')\n",
    "    item = item.replace('_x', '$_{x}$')\n",
    "    item = item.replace('μ', '$\\mu$')\n",
    "    item = item.replace('^3', '$^{3}$')\n",
    "    \n",
    "    ax0 = plt.subplot2grid((2,1),(0,0))\n",
    "    ax0 = plt.pie(AP_area_comparsion, labels=label, colors = color, autopct='%1.2f%%', shadow=False, startangle=0,radius=2.0)\n",
    "    ax0 = plt.title( r'{} 各縣市 {} 百分比'.format(time,item),fontsize=30, y = 1.4) # y adjust the poisition of the title\n",
    "\n",
    "    temp = pd.DataFrame({'county':label,item:AP_area_comparsion}).sort_values(by=[item],ascending=False)\n",
    "    ax1 = plt.subplot2grid((2,1),(1,0))\n",
    "    # use iloc because the index is not changed after sorting, print temp then you can see!\n",
    "    ax1 = plt.bar(temp.iloc[0:5,0],temp.iloc[0:5,1],color=color)\n",
    "    ax1 = plt.ylabel(r'{}'.format(item),fontsize=20)\n",
    "    ax1 = plt.axhline(air_season[-1].loc[time,ITEM],linestyle=':',color='black',)\n",
    "    ax1 = plt.text(4.75,air_season[-1].loc[time,ITEM]*0.975,'全臺平均值')\n",
    "    ax1 = plt.title( r'{} 各縣市 {} 排名'.format(time,item),fontsize=30, y=-0.15) # y adjust the poisition of the title\n",
    "    plt.show()"
   ]
  },
  {
   "cell_type": "code",
   "execution_count": null,
   "metadata": {},
   "outputs": [],
   "source": [
    "def AP_FACTOR(reason, item):\n",
    "    x = []\n",
    "    temp = air.loc[:,reason][(air.loc[:,reason]!='-')&(air.loc[:,item]!='-')]\n",
    "    for i in temp:\n",
    "        x.append(float(i))\n",
    "    x = np.array(x)\n",
    "    y = []\n",
    "    temp = air.loc[:,item][(air.loc[:,reason]!='-')&(air.loc[:,item]!='-')]\n",
    "    for i in temp:\n",
    "        y.append(float(i))\n",
    "    y = np.array(y)\n",
    "    \n",
    "    if len(x)!=0 and len(y)!=0: \n",
    "        plt.rcdefaults()\n",
    "        plt.rcParams['font.sans-serif'] = ['Microsoft JhengHei']\n",
    "        plt.style.use('seaborn-notebook')\n",
    "        plt.figure(figsize=(10,10), dpi=200)\n",
    "        plt.grid(alpha=0.5,ls=':')\n",
    "    \n",
    "        item = item.replace('_2', '$_{2}$')\n",
    "        item = item.replace('_3', '$_{3}$')\n",
    "        item = item.replace('_x', '$_{x}$')\n",
    "        item = item.replace('μ', '$\\mu$')\n",
    "        item = item.replace('^3', '$^{3}$')\n",
    "        reason = reason.replace('μ', '$\\mu$')\n",
    "                            \n",
    "        plt.scatter(x,y,s=60.0)\n",
    "        plt.xlabel(r'{}'.format(reason),fontsize=20)\n",
    "        plt.ylabel(r'{}'.format(item),fontsize=20)\n",
    "        plt.title(r'{} 與 {} 的相關性'.format(item,reason), fontsize=30, y=1.05)\n",
    "        #x_max = x.max()\n",
    "        #x_min = x.min()\n",
    "        #y_max = y.max()\n",
    "        #y_min = y.min()\n",
    "        #sx = x_max-x_min\n",
    "        #sy = y_max-y_min\n",
    "        #plt.xlim(x_min-0.05*sx,x_max+0.05*sx)\n",
    "        #plt.ylim(y_min-0.05*sx,y_max+0.05*sx)\n",
    "    \n",
    "        #plt.xticks(np.arange(x_min,x_max+0.1*sx,0.1*sx))\n",
    "        #plt.yticks(np.arange(y_min,y_max+0.1*sy,0.1*sy))\n",
    "        \n",
    "    else:\n",
    "        print('沒資料點可以畫圖喔QQ')"
   ]
  },
  {
   "cell_type": "markdown",
   "metadata": {},
   "source": [
    "### 指定縣市及汙染物質對季度-年份作圖\n",
    "請選擇地點及想查詢的汙染物質"
   ]
  },
  {
   "cell_type": "code",
   "execution_count": null,
   "metadata": {
    "scrolled": false
   },
   "outputs": [],
   "source": [
    "interact_manual(AP_LOCAL_ALL_SEASON,location=county, item=compounds);"
   ]
  },
  {
   "cell_type": "markdown",
   "metadata": {},
   "source": [
    "1. 可以觀察到各空氣汙染物質都是在冬天比較高(蠻意外CO<sub>2</sub>也是，以為大家都在吹冷氣所以火力發電量比較大XD) 可能是因為空氣比較乾燥的關係嗎~ 果然冬天躲在家裡最棒了!<br>\n",
    "2. 大致上:<br>\n",
    "二氧化硫SO<sub>2</sub>,一氧化碳CO,一氧化氮NO,二氧化氮NO<sub>2</sub>,氮氧化物NO<sub>x</sub>,PM10, PM2.5<br> 逐年減少\n",
    "臭氧O<sub>3</sub>持平<br>\n",
    "二氧化碳CO<sub>2</sub>逐年增加\n"
   ]
  },
  {
   "cell_type": "markdown",
   "metadata": {},
   "source": [
    "### 指定年份及汙染物質對各縣市作圓餅圖 並將排名前五的縣市作長條圖(黑虛線是全臺平均值)\n",
    "請選擇 年份-季節 以及 想查詢的汙染物質"
   ]
  },
  {
   "cell_type": "code",
   "execution_count": null,
   "metadata": {
    "scrolled": false
   },
   "outputs": [],
   "source": [
    "interact_manual(AP_ALL_COUNTY_SEASON, time=season, item=compounds);"
   ]
  },
  {
   "cell_type": "markdown",
   "metadata": {},
   "source": [
    "1. 果然高雄冬天PM2.5很多 QQ\n",
    "2. 台東花蓮空氣品質真的讚 OWOb\n",
    "3. 新北跟台北好多一氧化氮NO(這是不是有毒性啊)喔~ 不知道為什麼@W@a\n",
    "4. 離島冬天的空汙也頗嚴重 (>口<)"
   ]
  },
  {
   "cell_type": "markdown",
   "metadata": {},
   "source": [
    "### 用散佈圖觀察汙染物質是否跟其他大氣條件有關係\n",
    "可能影響汙染物質的大氣條件可從 factors 這個 list 查詢喔"
   ]
  },
  {
   "cell_type": "code",
   "execution_count": null,
   "metadata": {},
   "outputs": [],
   "source": [
    "interact_manual(AP_FACTOR,reason=factors,item=compounds);"
   ]
  },
  {
   "cell_type": "markdown",
   "metadata": {},
   "source": [
    "1. 一氧化氮NO,二氧化氮NO<sub>2</sub>,氮氧化物NO<sub>x</sub>,二氧化硫SO<sub>2</sub>,一氧化碳CO,二氧化碳CO<sub>2</sub>, PM10, PM2.5好像與風速呈反比 臭氧O<sub>3</sub>則有正比的趨勢 該不會是被吹過來的 OWOa"
   ]
  }
 ],
 "metadata": {
  "kernelspec": {
   "display_name": "Python 3",
   "language": "python",
   "name": "python3"
  },
  "language_info": {
   "codemirror_mode": {
    "name": "ipython",
    "version": 3
   },
   "file_extension": ".py",
   "mimetype": "text/x-python",
   "name": "python",
   "nbconvert_exporter": "python",
   "pygments_lexer": "ipython3",
   "version": "3.7.1"
  },
  "varInspector": {
   "cols": {
    "lenName": 16,
    "lenType": 16,
    "lenVar": 40
   },
   "kernels_config": {
    "python": {
     "delete_cmd_postfix": "",
     "delete_cmd_prefix": "del ",
     "library": "var_list.py",
     "varRefreshCmd": "print(var_dic_list())"
    },
    "r": {
     "delete_cmd_postfix": ") ",
     "delete_cmd_prefix": "rm(",
     "library": "var_list.r",
     "varRefreshCmd": "cat(var_dic_list()) "
    }
   },
   "position": {
    "height": "144px",
    "left": "1092.2px",
    "right": "20px",
    "top": "74px",
    "width": "350px"
   },
   "types_to_exclude": [
    "module",
    "function",
    "builtin_function_or_method",
    "instance",
    "_Feature"
   ],
   "window_display": false
  }
 },
 "nbformat": 4,
 "nbformat_minor": 2
}
