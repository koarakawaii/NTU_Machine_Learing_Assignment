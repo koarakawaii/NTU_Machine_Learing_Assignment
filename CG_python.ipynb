{
 "cells": [
  {
   "cell_type": "markdown",
   "metadata": {},
   "source": [
    "# Conjugate Gradient with Python"
   ]
  },
  {
   "cell_type": "code",
   "execution_count": null,
   "metadata": {},
   "outputs": [],
   "source": [
    "import numpy as np\n",
    "from numpy.linalg import inv"
   ]
  },
  {
   "cell_type": "markdown",
   "metadata": {},
   "source": [
    "## For Real Matrix\n",
    "### CG Function Call"
   ]
  },
  {
   "cell_type": "code",
   "execution_count": null,
   "metadata": {},
   "outputs": [],
   "source": [
    "def CG(D, x, b, criteria, iter_max):\n",
    "    D_deg=D.transpose() \n",
    "    r = b - D_deg@(D@x)\n",
    "    p = r\n",
    "    bb = b@b\n",
    "    rr = r@r\n",
    "    error = np.sqrt(rr/bb)\n",
    "    i = 0\n",
    "    while (error>criteria and i<iter_max):\n",
    "        if i!=0:\n",
    "            rr = RR\n",
    "        Dp = D@p\n",
    "        alpha = rr/(Dp@Dp)\n",
    "        r = r - alpha*D_deg@(Dp)\n",
    "        x = x + alpha*p\n",
    "        RR = r@r\n",
    "        error = np.sqrt(RR/bb)\n",
    "        beta = RR/rr\n",
    "        p = r + beta*p       \n",
    "        i += 1\n",
    "#        print(f'iteration={i}, error = {error:.10e}\\n')\n",
    "    print(f'Total iteration = {i}, final error = {error:.10e} .\\n')\n",
    "    return x"
   ]
  },
  {
   "cell_type": "markdown",
   "metadata": {},
   "source": [
    "### Main"
   ]
  },
  {
   "cell_type": "code",
   "execution_count": null,
   "metadata": {
    "scrolled": false
   },
   "outputs": [],
   "source": [
    "N = 100\n",
    "criteria = 1e-14\n",
    "iter_max = 1e6\n",
    "D = 100*np.random.randn(N,N)\n",
    "#D=np.array([[13.5,-3.24,9.17],\n",
    "#            [4.8,-7.5,1.353],\n",
    "#            [-2.245,1.45,-6.456]\n",
    "#           ])\n",
    "D_deg=D.transpose()\n",
    "b_prime=10*np.random.randn(N)\n",
    "b=D_deg@b_prime\n",
    "x=np.zeros(N)\n",
    "x=CG(D, x, b, criteria, iter_max)\n",
    "#x"
   ]
  },
  {
   "cell_type": "markdown",
   "metadata": {},
   "source": [
    "### Error Check"
   ]
  },
  {
   "cell_type": "code",
   "execution_count": null,
   "metadata": {},
   "outputs": [],
   "source": [
    "x_exact=inv(D)@b_prime\n",
    "total_error = (x-x_exact)**2\n",
    "total_error = total_error.sum()\n",
    "print(f'Total error is {total_error:.16f} .')\n",
    "#x_exact"
   ]
  },
  {
   "cell_type": "markdown",
   "metadata": {},
   "source": [
    "## For Complex Matrix\n",
    "### CG Function Call"
   ]
  },
  {
   "cell_type": "code",
   "execution_count": null,
   "metadata": {},
   "outputs": [],
   "source": [
    "def CG(D, x, b, criteria, iter_max): \n",
    "    D_deg = np.array(np.matrix(D).getH())\n",
    "    r = b - D_deg@(D@x)\n",
    "    p = r\n",
    "    bb = np.conj(b)@b\n",
    "    rr = np.conj(r)@r\n",
    "    error = np.sqrt(rr/bb)\n",
    "    i = 0\n",
    "    while (error>criteria and i<iter_max):\n",
    "        if i!=0:\n",
    "            rr = RR\n",
    "        Dp = D@p\n",
    "        alpha = rr/(np.conj(Dp)@Dp)\n",
    "        r = r - alpha*D_deg@(Dp)\n",
    "        x = x + alpha*p\n",
    "        RR = np.conj(r)@r\n",
    "        error = np.sqrt(RR/bb)\n",
    "        beta = RR/rr\n",
    "        p = r + beta*p       \n",
    "        i += 1\n",
    "#        print(f'iteration={i}, error = {error:.10e}\\n')\n",
    "    print(f'Total iteration = {i}, final error = {error:.10e} .\\n')\n",
    "    return x"
   ]
  },
  {
   "cell_type": "markdown",
   "metadata": {},
   "source": [
    "### Main"
   ]
  },
  {
   "cell_type": "code",
   "execution_count": null,
   "metadata": {},
   "outputs": [],
   "source": [
    "N = 500\n",
    "criteria = 1e-14\n",
    "iter_max = 1e6\n",
    "#D = 100*np.random.randn(N,N)\n",
    "D = 100*np.random.randn(N,N)+100j*np.random.randn(N,N)\n",
    "#D=np.array([[13.5,-3.24,9.17],\n",
    "#            [4.8,-7.5,1.353],\n",
    "#            [-2.245,1.45,-6.456]\n",
    "#           ])\n",
    "D_deg = np.array(np.matrix(D).getH())\n",
    "b_prime=10*np.random.randn(N)+10j*np.random.randn(N)\n",
    "b=D_deg@b_prime\n",
    "x=np.zeros(N)\n",
    "x=CG(D, x, b, criteria, iter_max)\n",
    "#x\n"
   ]
  },
  {
   "cell_type": "markdown",
   "metadata": {},
   "source": [
    "### Error Check"
   ]
  },
  {
   "cell_type": "code",
   "execution_count": null,
   "metadata": {},
   "outputs": [],
   "source": [
    "x_exact=inv(D)@b_prime\n",
    "total_error = (x-x_exact)**2\n",
    "total_error = total_error.sum()\n",
    "print(f'Total error is {total_error:.16f} .')\n",
    "#x_exact"
   ]
  },
  {
   "cell_type": "markdown",
   "metadata": {},
   "source": [
    "## Real Matrix Using Restart CG\n",
    "### CG Function Call"
   ]
  },
  {
   "cell_type": "code",
   "execution_count": null,
   "metadata": {},
   "outputs": [],
   "source": [
    "def CG(D, x, b, criteria, iter_max, inner_criteria):\n",
    "    D_deg=D.transpose() \n",
    "    r = b - D_deg@(D@x)\n",
    "    bb = b@b\n",
    "    rr = r@r\n",
    "    error = np.sqrt(rr/bb)\n",
    "    i = 0\n",
    "    while (error>criteria and i<iter_max):\n",
    "        \n",
    "        t = np.zeros(len(r)).astype(np.float32)\n",
    "        r_in = r.astype(np.float32)        \n",
    "        rr_in = rr.astype(np.float32)\n",
    "        p = r_in\n",
    "        error_in = np.sqrt(rr_in/rr).astype(np.float32)\n",
    "        j = 0\n",
    "        \n",
    "        while (error_in>inner_criteria):\n",
    "            if j!=0:\n",
    "                rr_in = RR_in\n",
    "            Dp = D.astype(np.float32)@p\n",
    "            alpha = rr_in/(Dp@Dp)\n",
    "            r_in = r_in - alpha*D_deg.astype(np.float32)@Dp\n",
    "            t = t + alpha*p\n",
    "            RR_in = r_in@r_in\n",
    "            error_in = np.sqrt(RR_in/rr_in).astype(np.float32)\n",
    "            beta = RR_in/rr_in\n",
    "            p = r_in + beta*p       \n",
    "            j += 1\n",
    "        print(f'Total inner loop iteration={j} for {i+1}th outer loop iteration, error = {error:.10e}\\n')\n",
    "        \n",
    "        x = x + t\n",
    "        Dx = D@x\n",
    "        r = b - D_deg@Dx\n",
    "        rr = r@r\n",
    "        error = np.sqrt(rr/bb)\n",
    "        i += 1\n",
    "#        print(f'iteration={i}, error = {error:.10e}\\n')\n",
    "    print(f'Total outer loop iteration = {i}, final error = {error:.10e} .\\n')\n",
    "    return x"
   ]
  },
  {
   "cell_type": "markdown",
   "metadata": {},
   "source": [
    "### Main"
   ]
  },
  {
   "cell_type": "code",
   "execution_count": null,
   "metadata": {},
   "outputs": [],
   "source": [
    "N = 500\n",
    "criteria = 1e-12\n",
    "iter_max = 1e6\n",
    "inner_criteria = 0.5\n",
    "D = np.array(100*np.random.randn(N,N))\n",
    "#D=np.array([[13.5,-3.24,9.17],\n",
    "#            [4.8,-7.5,1.353],\n",
    "#            [-2.245,1.45,-6.456]\n",
    "#           ])\n",
    "D_deg=D.transpose()\n",
    "b_prime=np.array(10*np.random.randn(N))\n",
    "b=D_deg@b_prime\n",
    "x=np.zeros(N)\n",
    "x=CG(D, x, b, criteria, iter_max, inner_criteria)\n",
    "#x"
   ]
  },
  {
   "cell_type": "markdown",
   "metadata": {},
   "source": [
    "### Error Check"
   ]
  },
  {
   "cell_type": "code",
   "execution_count": null,
   "metadata": {},
   "outputs": [],
   "source": [
    "x_exact=inv(D)@b_prime\n",
    "total_error = (x-x_exact)**2\n",
    "total_error = total_error.sum()\n",
    "print(f'Total error is {total_error:.16f} .')\n",
    "#x_exact"
   ]
  },
  {
   "cell_type": "markdown",
   "metadata": {},
   "source": [
    "## Complex Matrix Using Restart CG\n",
    "### CG Function Call"
   ]
  },
  {
   "cell_type": "code",
   "execution_count": null,
   "metadata": {},
   "outputs": [],
   "source": [
    "def CG(D, x, b, criteria, iter_max, inner_criteria):\n",
    "    D_deg=np.array(np.matrix(D).getH())\n",
    "    r = b - D_deg@(D@x)\n",
    "    bb = np.conj(b)@b\n",
    "    rr = np.conj(r)@r\n",
    "    error = np.sqrt(rr/bb)\n",
    "    i = 0\n",
    "    while (error>criteria and i<iter_max):\n",
    "        \n",
    "        t = np.zeros(len(x))\n",
    "        r_in = r.astype(np.complex128)        \n",
    "        rr_in = rr.astype(np.complex128)\n",
    "        p = r_in\n",
    "        error_in = np.sqrt(rr_in/rr)\n",
    "        \n",
    "        j = 0\n",
    "        \n",
    "        while (error_in>inner_criteria):\n",
    "            if j!=0:\n",
    "                rr_in = RR_in\n",
    "            Dp = D.astype(np.complex128)@p\n",
    "            alpha = rr_in/(np.conj(Dp)@Dp)\n",
    "            r_in = r_in - alpha*D_deg.astype(np.complex128)@Dp\n",
    "            t = t + alpha*p\n",
    "            RR_in = np.conj(r_in)@r_in\n",
    "            error_in = np.sqrt(RR_in/rr_in)\n",
    "            beta = RR_in/rr_in\n",
    "            p = r_in + beta*p       \n",
    "            j += 1\n",
    "        print(f'Total inner loop iteration={j} for {i+1}th outer loop iteration, error = {error:.10e}\\n')\n",
    "        \n",
    "        x = x + t\n",
    "        Dx = D@x\n",
    "        r = b - D_deg@Dx\n",
    "        rr = np.conj(r)@r\n",
    "        error = np.sqrt(rr/bb)\n",
    "        i += 1\n",
    "        \n",
    "    print(f'Total outer loop iteration = {i}, final error = {error:.10e} .\\n')\n",
    "    return x"
   ]
  },
  {
   "cell_type": "markdown",
   "metadata": {},
   "source": [
    "### Main"
   ]
  },
  {
   "cell_type": "code",
   "execution_count": null,
   "metadata": {},
   "outputs": [],
   "source": [
    "N = 500\n",
    "criteria = 1e-14\n",
    "iter_max = 1e6\n",
    "inner_criteria = 0.5\n",
    "#D = 100*np.random.randn(N,N)\n",
    "D = 100*np.random.randn(N,N)+100j*np.random.randn(N,N)\n",
    "#D=np.array([[13.5,-3.24,9.17],\n",
    "#            [4.8,-7.5,1.353],\n",
    "#            [-2.245,1.45,-6.456]\n",
    "#           ])\n",
    "D_deg = np.array(np.matrix(D).getH())\n",
    "b_prime=10*np.random.randn(N)+10j*np.random.randn(N)\n",
    "b=D_deg@b_prime\n",
    "x=np.zeros(N)\n",
    "x=CG(D, x, b, criteria, iter_max, inner_criteria)\n",
    "#x\n"
   ]
  },
  {
   "cell_type": "markdown",
   "metadata": {},
   "source": [
    "### Error Check"
   ]
  },
  {
   "cell_type": "code",
   "execution_count": null,
   "metadata": {},
   "outputs": [],
   "source": [
    "x_exact=inv(D)@b_prime\n",
    "total_error = (x-x_exact)**2\n",
    "total_error = total_error.sum()\n",
    "print(f'Total error is {total_error:.16f} .')\n",
    "#x_exact"
   ]
  },
  {
   "cell_type": "code",
   "execution_count": null,
   "metadata": {},
   "outputs": [],
   "source": []
  }
 ],
 "metadata": {
  "kernelspec": {
   "display_name": "Python 3",
   "language": "python",
   "name": "python3"
  },
  "language_info": {
   "codemirror_mode": {
    "name": "ipython",
    "version": 3
   },
   "file_extension": ".py",
   "mimetype": "text/x-python",
   "name": "python",
   "nbconvert_exporter": "python",
   "pygments_lexer": "ipython3",
   "version": "3.7.1"
  },
  "varInspector": {
   "cols": {
    "lenName": 16,
    "lenType": 16,
    "lenVar": 40
   },
   "kernels_config": {
    "python": {
     "delete_cmd_postfix": "",
     "delete_cmd_prefix": "del ",
     "library": "var_list.py",
     "varRefreshCmd": "print(var_dic_list())"
    },
    "r": {
     "delete_cmd_postfix": ") ",
     "delete_cmd_prefix": "rm(",
     "library": "var_list.r",
     "varRefreshCmd": "cat(var_dic_list()) "
    }
   },
   "types_to_exclude": [
    "module",
    "function",
    "builtin_function_or_method",
    "instance",
    "_Feature"
   ],
   "window_display": true
  }
 },
 "nbformat": 4,
 "nbformat_minor": 2
}
