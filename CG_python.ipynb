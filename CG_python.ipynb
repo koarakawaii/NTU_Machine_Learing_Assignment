{
 "cells": [
  {
   "cell_type": "markdown",
   "metadata": {},
   "source": [
    "# Conjugate Gradient with Python"
   ]
  },
  {
   "cell_type": "code",
   "execution_count": 127,
   "metadata": {},
   "outputs": [],
   "source": [
    "import numpy as np\n",
    "from numpy.linalg import inv"
   ]
  },
  {
   "cell_type": "markdown",
   "metadata": {},
   "source": [
    "## For Real Matrix\n",
    "### CG Function Call"
   ]
  },
  {
   "cell_type": "code",
   "execution_count": 152,
   "metadata": {},
   "outputs": [],
   "source": [
    "def CG(D, x, b, criteria, iter_max):\n",
    "    D_deg=D.transpose() \n",
    "    r = b - D_deg@(D@x)\n",
    "    p = r\n",
    "    bb = b@b\n",
    "    rr = r@r\n",
    "    error = np.sqrt(rr/bb)\n",
    "    i = 0\n",
    "    while (error>criteria and i<iter_max):\n",
    "        if i!=0:\n",
    "            rr = RR\n",
    "        Dp = D@p\n",
    "        alpha = rr/(Dp@Dp)\n",
    "        r = r - alpha*D_deg@(Dp)\n",
    "        x = x + alpha*p\n",
    "        RR = r@r\n",
    "        error = np.sqrt(RR/bb)\n",
    "        beta = RR/rr\n",
    "        p = r + beta*p       \n",
    "        i += 1\n",
    "#        print(f'iteration={i}, error = {error:.10e}\\n')\n",
    "    print(f'Total iteration = {i}, final error = {error:.10e} .\\n')\n",
    "    return x"
   ]
  },
  {
   "cell_type": "markdown",
   "metadata": {},
   "source": [
    "### Main"
   ]
  },
  {
   "cell_type": "code",
   "execution_count": 165,
   "metadata": {},
   "outputs": [
    {
     "name": "stdout",
     "output_type": "stream",
     "text": [
      "Total iteration = 162, final error = 6.2824328899e-15 .\n",
      "\n"
     ]
    },
    {
     "data": {
      "text/plain": [
       "array([ 0.03620189, -0.0435578 ,  0.33221766, -0.013302  , -0.20721511,\n",
       "       -0.13878561,  0.12662207,  0.24678573, -0.0842438 ,  0.13201257,\n",
       "       -0.07311413,  0.05971951,  0.08549119, -0.18943815,  0.10891915,\n",
       "       -0.0196505 ,  0.16385424,  0.20023401,  0.03615326, -0.10720639,\n",
       "        0.12832959, -0.12601083, -0.1047579 ,  0.04425598, -0.04341162,\n",
       "       -0.1526498 , -0.16312338, -0.11906823, -0.07621257,  0.10170379,\n",
       "        0.14964704,  0.01520883, -0.13186762, -0.15188544, -0.19210941,\n",
       "       -0.18345814,  0.2040442 , -0.09776286, -0.09406741,  0.25084147,\n",
       "       -0.00335152, -0.07501705,  0.06095175, -0.05431275,  0.07498195,\n",
       "       -0.20634622, -0.31468831,  0.07184974,  0.12383487, -0.04091342,\n",
       "       -0.12805053,  0.02535755,  0.03862344,  0.0052243 ,  0.14994274,\n",
       "        0.16110711, -0.10934707,  0.02504462, -0.05462991,  0.031781  ,\n",
       "       -0.0378403 ,  0.1635981 , -0.04520976, -0.14221687, -0.38465232,\n",
       "       -0.00852466,  0.20206174,  0.13127393, -0.10300509,  0.13043439,\n",
       "       -0.21460527,  0.03418395, -0.05113025, -0.04153811, -0.04488099,\n",
       "       -0.24354665, -0.08519912, -0.17891238,  0.2581882 ,  0.24191218,\n",
       "        0.20665545,  0.09293834, -0.06454838,  0.11155424, -0.03256953,\n",
       "       -0.22334819,  0.11616218, -0.30154899,  0.01204771,  0.03876756,\n",
       "       -0.04795831,  0.08598186, -0.09560142,  0.21937604,  0.05506191,\n",
       "        0.08274921,  0.28108989,  0.04525719, -0.11747698,  0.07824469])"
      ]
     },
     "execution_count": 165,
     "metadata": {},
     "output_type": "execute_result"
    }
   ],
   "source": [
    "N = 100\n",
    "criteria = 1e-14\n",
    "iter_max = 1e6\n",
    "D = 100*np.random.randn(N,N)\n",
    "#D=np.array([[13.5,-3.24,9.17],\n",
    "#            [4.8,-7.5,1.353],\n",
    "#            [-2.245,1.45,-6.456]\n",
    "#           ])\n",
    "D_deg=D.transpose()\n",
    "b_prime=10*np.random.randn(N)\n",
    "b=D_deg@b_prime\n",
    "x=np.zeros(N)\n",
    "x=CG(D, x, b, criteria, iter_max)\n",
    "#x"
   ]
  },
  {
   "cell_type": "markdown",
   "metadata": {},
   "source": [
    "### Error Check"
   ]
  },
  {
   "cell_type": "code",
   "execution_count": 154,
   "metadata": {},
   "outputs": [
    {
     "name": "stdout",
     "output_type": "stream",
     "text": [
      "Total error is 0.0000000000000000 .\n"
     ]
    }
   ],
   "source": [
    "x_exact=inv(D)@b_prime\n",
    "total_error = (x-x_exact)**2\n",
    "total_error = total_error.sum()\n",
    "print(f'Total error is {total_error:.16f} .')\n",
    "#x_exact"
   ]
  },
  {
   "cell_type": "markdown",
   "metadata": {},
   "source": [
    "## For Complex Matrix\n",
    "### CG Function Call"
   ]
  },
  {
   "cell_type": "code",
   "execution_count": 229,
   "metadata": {},
   "outputs": [],
   "source": [
    "def CG(D, x, b, criteria, iter_max): \n",
    "    D_deg = np.array(np.matrix(D).getH())\n",
    "    r = b - D_deg@(D@x)\n",
    "    p = r\n",
    "    bb = np.conj(b)@b\n",
    "    rr = np.conj(r)@r\n",
    "    error = np.sqrt(rr/bb)\n",
    "    i = 0\n",
    "    while (error>criteria and i<iter_max):\n",
    "        if i!=0:\n",
    "            rr = RR\n",
    "        Dp = D@p\n",
    "        alpha = rr/(np.conj(Dp)@Dp)\n",
    "        r = r - alpha*D_deg@(Dp)\n",
    "        x = x + alpha*p\n",
    "        RR = np.conj(r)@r\n",
    "        error = np.sqrt(RR/bb)\n",
    "        beta = RR/rr\n",
    "        p = r + beta*p       \n",
    "        i += 1\n",
    "#        print(f'iteration={i}, error = {error:.10e}\\n')\n",
    "    print(f'Total iteration = {i}, final error = {error:.10e} .\\n')\n",
    "    return x"
   ]
  },
  {
   "cell_type": "markdown",
   "metadata": {},
   "source": [
    "### Main"
   ]
  },
  {
   "cell_type": "code",
   "execution_count": 230,
   "metadata": {},
   "outputs": [
    {
     "name": "stdout",
     "output_type": "stream",
     "text": [
      "Total iteration = 1092, final error = 9.0637020362e-15+0.0000000000e+00j .\n",
      "\n"
     ]
    }
   ],
   "source": [
    "N = 500\n",
    "criteria = 1e-14\n",
    "iter_max = 1e6\n",
    "#D = 100*np.random.randn(N,N)\n",
    "D = 100*np.random.randn(N,N)+100j*np.random.randn(N,N)\n",
    "#D=np.array([[13.5,-3.24,9.17],\n",
    "#            [4.8,-7.5,1.353],\n",
    "#            [-2.245,1.45,-6.456]\n",
    "#           ])\n",
    "D_deg = np.array(np.matrix(D).getH())\n",
    "b_prime=10*np.random.randn(N)+10j*np.random.randn(N)\n",
    "b=D_deg@b_prime\n",
    "x=np.zeros(N)\n",
    "x=CG(D, x, b, criteria, iter_max)\n",
    "#x\n"
   ]
  },
  {
   "cell_type": "markdown",
   "metadata": {},
   "source": [
    "### Error Check"
   ]
  },
  {
   "cell_type": "code",
   "execution_count": 231,
   "metadata": {},
   "outputs": [
    {
     "name": "stdout",
     "output_type": "stream",
     "text": [
      "Total error is 0.0000000000000000-0.0000000000000000j .\n"
     ]
    }
   ],
   "source": [
    "x_exact=inv(D)@b_prime\n",
    "total_error = (x-x_exact)**2\n",
    "total_error = total_error.sum()\n",
    "print(f'Total error is {total_error:.16f} .')\n",
    "#x_exact"
   ]
  },
  {
   "cell_type": "markdown",
   "metadata": {},
   "source": [
    "## Real Matrix Using Restart CG\n",
    "### CG Function Call"
   ]
  },
  {
   "cell_type": "code",
   "execution_count": 248,
   "metadata": {},
   "outputs": [],
   "source": [
    "def CG(D, x, b, criteria, iter_max, inner_criteria):\n",
    "    D_deg=D.transpose() \n",
    "    r = b - D_deg@(D@x)\n",
    "    bb = b@b\n",
    "    rr = r@r\n",
    "    error = np.sqrt(rr/bb)\n",
    "    i = 0\n",
    "    while (error>criteria and i<iter_max):\n",
    "        \n",
    "        t = np.zeros(len(r)).astype(np.float32)\n",
    "        r_in = r.astype(np.float32)        \n",
    "        rr_in = rr.astype(np.float32)\n",
    "        p = r_in\n",
    "        error_in = np.sqrt(rr_in/rr).astype(np.float32)\n",
    "        j = 0\n",
    "        \n",
    "        while (error_in>inner_criteria):\n",
    "            if j!=0:\n",
    "                rr_in = RR_in\n",
    "            Dp = D.astype(np.float32)@p\n",
    "            alpha = rr_in/(Dp@Dp)\n",
    "            r_in = r_in - alpha*D_deg.astype(np.float32)@Dp\n",
    "            t = t + alpha*p\n",
    "            RR_in = r_in@r_in\n",
    "            error_in = np.sqrt(RR_in/rr_in).astype(np.float32)\n",
    "            beta = RR_in/rr_in\n",
    "            p = r_in + beta*p       \n",
    "            j += 1\n",
    "        print(f'Total inner loop iteration={j} for {i+1}th outer loop iteration, error = {error:.10e}\\n')\n",
    "        \n",
    "        x = x + t\n",
    "        Dx = D@x\n",
    "        r = b - D_deg@Dx\n",
    "        rr = r@r\n",
    "        error = np.sqrt(rr/bb)\n",
    "        i += 1\n",
    "#        print(f'iteration={i}, error = {error:.10e}\\n')\n",
    "    print(f'Total outer loop iteration = {i}, final error = {error:.10e} .\\n')\n",
    "    return x"
   ]
  },
  {
   "cell_type": "markdown",
   "metadata": {},
   "source": [
    "### Main"
   ]
  },
  {
   "cell_type": "code",
   "execution_count": 249,
   "metadata": {},
   "outputs": [
    {
     "name": "stdout",
     "output_type": "stream",
     "text": [
      "Total inner loop iteration=4887 for 1th outer loop iteration, error = 1.0000000000e+00\n",
      "\n",
      "Total inner loop iteration=1 for 2th outer loop iteration, error = 3.9219846530e-05\n",
      "\n",
      "Total inner loop iteration=2 for 3th outer loop iteration, error = 1.4107891786e-05\n",
      "\n",
      "Total inner loop iteration=3902 for 4th outer loop iteration, error = 3.9127628038e-06\n",
      "\n",
      "Total inner loop iteration=1 for 5th outer loop iteration, error = 3.9596516818e-09\n",
      "\n",
      "Total inner loop iteration=2 for 6th outer loop iteration, error = 1.3809602852e-09\n",
      "\n",
      "Total inner loop iteration=3233 for 7th outer loop iteration, error = 4.0160666776e-10\n",
      "\n",
      "Total outer loop iteration = 7, final error = 2.2723646799e-13 .\n",
      "\n"
     ]
    }
   ],
   "source": [
    "N = 500\n",
    "criteria = 1e-12\n",
    "iter_max = 1e6\n",
    "inner_criteria = 0.5\n",
    "D = np.array(100*np.random.randn(N,N))\n",
    "#D=np.array([[13.5,-3.24,9.17],\n",
    "#            [4.8,-7.5,1.353],\n",
    "#            [-2.245,1.45,-6.456]\n",
    "#           ])\n",
    "D_deg=D.transpose()\n",
    "b_prime=np.array(10*np.random.randn(N))\n",
    "b=D_deg@b_prime\n",
    "x=np.zeros(N)\n",
    "x=CG(D, x, b, criteria, iter_max, inner_criteria)\n",
    "#x"
   ]
  },
  {
   "cell_type": "markdown",
   "metadata": {},
   "source": [
    "### Error Check"
   ]
  },
  {
   "cell_type": "code",
   "execution_count": 192,
   "metadata": {},
   "outputs": [
    {
     "name": "stdout",
     "output_type": "stream",
     "text": [
      "Total error is 0.0000000000000000 .\n"
     ]
    }
   ],
   "source": [
    "x_exact=inv(D)@b_prime\n",
    "total_error = (x-x_exact)**2\n",
    "total_error = total_error.sum()\n",
    "print(f'Total error is {total_error:.16f} .')\n",
    "#x_exact"
   ]
  },
  {
   "cell_type": "markdown",
   "metadata": {},
   "source": [
    "## Complex Matrix Using Restart CG\n",
    "### CG Function Call"
   ]
  },
  {
   "cell_type": "code",
   "execution_count": 254,
   "metadata": {},
   "outputs": [],
   "source": [
    "def CG(D, x, b, criteria, iter_max, inner_criteria):\n",
    "    D_deg=np.array(np.matrix(D).getH())\n",
    "    r = b - D_deg@(D@x)\n",
    "    bb = np.conj(b)@b\n",
    "    rr = np.conj(r)@r\n",
    "    error = np.sqrt(rr/bb)\n",
    "    i = 0\n",
    "    while (error>criteria and i<iter_max):\n",
    "        \n",
    "        t = np.zeros(len(x))\n",
    "        r_in = r.astype(np.complex128)        \n",
    "        rr_in = rr.astype(np.complex128)\n",
    "        p = r_in\n",
    "        error_in = np.sqrt(rr_in/rr)\n",
    "        \n",
    "        j = 0\n",
    "        \n",
    "        while (error_in>inner_criteria):\n",
    "            if j!=0:\n",
    "                rr_in = RR_in\n",
    "            Dp = D.astype(np.complex128)@p\n",
    "            alpha = rr_in/(np.conj(Dp)@Dp)\n",
    "            r_in = r_in - alpha*D_deg.astype(np.complex128)@Dp\n",
    "            t = t + alpha*p\n",
    "            RR_in = np.conj(r_in)@r_in\n",
    "            error_in = np.sqrt(RR_in/rr_in)\n",
    "            beta = RR_in/rr_in\n",
    "            p = r_in + beta*p       \n",
    "            j += 1\n",
    "        print(f'Total inner loop iteration={j} for {i+1}th outer loop iteration, error = {error:.10e}\\n')\n",
    "        \n",
    "        x = x + t\n",
    "        Dx = D@x\n",
    "        r = b - D_deg@Dx\n",
    "        rr = np.conj(r)@r\n",
    "        error = np.sqrt(rr/bb)\n",
    "        i += 1\n",
    "        \n",
    "    print(f'Total outer loop iteration = {i}, final error = {error:.10e} .\\n')\n",
    "    return x"
   ]
  },
  {
   "cell_type": "markdown",
   "metadata": {},
   "source": [
    "### Main"
   ]
  },
  {
   "cell_type": "code",
   "execution_count": null,
   "metadata": {},
   "outputs": [
    {
     "name": "stdout",
     "output_type": "stream",
     "text": [
      "Total inner loop iteration=1 for 1th outer loop iteration, error = 1.0000000000e+00+0.0000000000e+00j\n",
      "\n",
      "Total inner loop iteration=777 for 2th outer loop iteration, error = 4.9872731641e-01+0.0000000000e+00j\n",
      "\n",
      "Total inner loop iteration=782 for 3th outer loop iteration, error = 4.2693096650e-04+0.0000000000e+00j\n",
      "\n",
      "Total inner loop iteration=809 for 4th outer loop iteration, error = 5.6005393225e-05+0.0000000000e+00j\n",
      "\n",
      "Total inner loop iteration=815 for 5th outer loop iteration, error = 2.2895241905e-06+0.0000000000e+00j\n",
      "\n",
      "Total inner loop iteration=829 for 6th outer loop iteration, error = 1.1400292054e-07+0.0000000000e+00j\n",
      "\n",
      "Total inner loop iteration=831 for 7th outer loop iteration, error = 2.8847962154e-09+0.0000000000e+00j\n",
      "\n",
      "Total inner loop iteration=823 for 8th outer loop iteration, error = 1.3864763836e-10+0.0000000000e+00j\n",
      "\n",
      "Total inner loop iteration=850 for 9th outer loop iteration, error = 4.2713663586e-12+0.0000000000e+00j\n",
      "\n",
      "Total inner loop iteration=812 for 10th outer loop iteration, error = 1.3497290521e-13+0.0000000000e+00j\n",
      "\n",
      "Total inner loop iteration=790 for 11th outer loop iteration, error = 1.6695665323e-14+0.0000000000e+00j\n",
      "\n",
      "Total inner loop iteration=826 for 12th outer loop iteration, error = 1.6031720207e-14+0.0000000000e+00j\n",
      "\n",
      "Total inner loop iteration=836 for 13th outer loop iteration, error = 1.6290476886e-14+0.0000000000e+00j\n",
      "\n",
      "Total inner loop iteration=791 for 14th outer loop iteration, error = 1.5565035714e-14+0.0000000000e+00j\n",
      "\n",
      "Total inner loop iteration=1 for 15th outer loop iteration, error = 1.5937546525e-14+0.0000000000e+00j\n",
      "\n",
      "Total inner loop iteration=1 for 16th outer loop iteration, error = 1.3972991586e-14+0.0000000000e+00j\n",
      "\n",
      "Total inner loop iteration=1 for 17th outer loop iteration, error = 1.1485901498e-14+0.0000000000e+00j\n",
      "\n",
      "Total inner loop iteration=791 for 18th outer loop iteration, error = 1.0219627460e-14+0.0000000000e+00j\n",
      "\n",
      "Total inner loop iteration=1 for 19th outer loop iteration, error = 1.7094044095e-14+0.0000000000e+00j\n",
      "\n",
      "Total inner loop iteration=860 for 20th outer loop iteration, error = 1.3211060695e-14+0.0000000000e+00j\n",
      "\n",
      "Total inner loop iteration=1 for 21th outer loop iteration, error = 1.5735659975e-14+0.0000000000e+00j\n",
      "\n"
     ]
    }
   ],
   "source": [
    "N = 500\n",
    "criteria = 1e-14\n",
    "iter_max = 1e6\n",
    "inner_criteria = 0.5\n",
    "#D = 100*np.random.randn(N,N)\n",
    "D = 100*np.random.randn(N,N)+100j*np.random.randn(N,N)\n",
    "#D=np.array([[13.5,-3.24,9.17],\n",
    "#            [4.8,-7.5,1.353],\n",
    "#            [-2.245,1.45,-6.456]\n",
    "#           ])\n",
    "D_deg = np.array(np.matrix(D).getH())\n",
    "b_prime=10*np.random.randn(N)+10j*np.random.randn(N)\n",
    "b=D_deg@b_prime\n",
    "x=np.zeros(N)\n",
    "x=CG(D, x, b, criteria, iter_max, inner_criteria)\n",
    "#x\n"
   ]
  },
  {
   "cell_type": "markdown",
   "metadata": {},
   "source": [
    "### Error Check"
   ]
  },
  {
   "cell_type": "code",
   "execution_count": 243,
   "metadata": {},
   "outputs": [
    {
     "name": "stdout",
     "output_type": "stream",
     "text": [
      "Total error is 0.0000000000000000-0.0000000000000000j .\n"
     ]
    }
   ],
   "source": [
    "x_exact=inv(D)@b_prime\n",
    "total_error = (x-x_exact)**2\n",
    "total_error = total_error.sum()\n",
    "print(f'Total error is {total_error:.16f} .')\n",
    "#x_exact"
   ]
  },
  {
   "cell_type": "code",
   "execution_count": null,
   "metadata": {},
   "outputs": [],
   "source": []
  }
 ],
 "metadata": {
  "kernelspec": {
   "display_name": "Python 3",
   "language": "python",
   "name": "python3"
  },
  "language_info": {
   "codemirror_mode": {
    "name": "ipython",
    "version": 3
   },
   "file_extension": ".py",
   "mimetype": "text/x-python",
   "name": "python",
   "nbconvert_exporter": "python",
   "pygments_lexer": "ipython3",
   "version": "3.7.1"
  },
  "varInspector": {
   "cols": {
    "lenName": 16,
    "lenType": 16,
    "lenVar": 40
   },
   "kernels_config": {
    "python": {
     "delete_cmd_postfix": "",
     "delete_cmd_prefix": "del ",
     "library": "var_list.py",
     "varRefreshCmd": "print(var_dic_list())"
    },
    "r": {
     "delete_cmd_postfix": ") ",
     "delete_cmd_prefix": "rm(",
     "library": "var_list.r",
     "varRefreshCmd": "cat(var_dic_list()) "
    }
   },
   "types_to_exclude": [
    "module",
    "function",
    "builtin_function_or_method",
    "instance",
    "_Feature"
   ],
   "window_display": true
  }
 },
 "nbformat": 4,
 "nbformat_minor": 2
}
