{
 "cells": [
  {
   "cell_type": "markdown",
   "metadata": {},
   "source": [
    "# Find the Minimum of $Z(x,y) = sinc(x^2+y^2)sin(2(tan^{-1}y/x))$ by Gradient Descending\n",
    "In python, sinc function is defined as $sin(πx)/(πx)$"
   ]
  },
  {
   "cell_type": "markdown",
   "metadata": {},
   "source": [
    "### Import necessary package."
   ]
  },
  {
   "cell_type": "code",
   "execution_count": 1,
   "metadata": {},
   "outputs": [],
   "source": [
    "import numpy as np\n",
    "import matplotlib.pyplot as plt\n",
    "from mpl_toolkits.mplot3d import Axes3D\n",
    "from matplotlib import cm\n",
    "from ipywidgets import interact\n",
    "\n",
    "%matplotlib inline"
   ]
  },
  {
   "cell_type": "markdown",
   "metadata": {},
   "source": [
    "### Prepare the meshgrid for plotting. The starting point (x<sub>0</sub>, y<sub>0</sub>) is chosen from one of the grid points using random number generator."
   ]
  },
  {
   "cell_type": "code",
   "execution_count": 2,
   "metadata": {},
   "outputs": [],
   "source": [
    "resolution = 1000\n",
    "r = np.linspace(0,2.5*np.pi,resolution)\n",
    "theta = np.linspace(0,2.0*np.pi,resolution)\n",
    "\n",
    "R,θ = np.meshgrid(r,theta)\n",
    "Z = np.sinc(R/np.pi)*np.sin(2.0*θ)\n",
    "X = R*np.cos(θ); Y = R*np.sin(θ)"
   ]
  },
  {
   "cell_type": "markdown",
   "metadata": {},
   "source": [
    "### Take a look at the maximum and minimum value of f(r,θ) among all the grid points.\n",
    "### The analytic solution is -1 and 1."
   ]
  },
  {
   "cell_type": "code",
   "execution_count": 3,
   "metadata": {},
   "outputs": [
    {
     "name": "stdout",
     "output_type": "stream",
     "text": [
      "-0.9999987638285974\n",
      "0.9999987638285974\n"
     ]
    }
   ],
   "source": [
    "print(Z.ravel().min())\n",
    "print(Z.ravel().max())"
   ]
  },
  {
   "cell_type": "markdown",
   "metadata": {},
   "source": [
    "### Assign seed and randomly generate the staring point."
   ]
  },
  {
   "cell_type": "code",
   "execution_count": 4,
   "metadata": {},
   "outputs": [],
   "source": [
    "np.random.seed(66982445)\n",
    "r_0 = r[np.random.randint(len(r))]\n",
    "theta_0 = theta[np.random.randint(len(theta))]\n",
    "x_0 = r_0*np.cos(theta_0)\n",
    "y_0 = r_0*np.sin(theta_0)"
   ]
  },
  {
   "cell_type": "markdown",
   "metadata": {},
   "source": [
    "### Print out useful information."
   ]
  },
  {
   "cell_type": "code",
   "execution_count": 5,
   "metadata": {},
   "outputs": [
    {
     "name": "stdout",
     "output_type": "stream",
     "text": [
      "The starting point is r = 3.9545072691583227, θ = 2.547237286694427 in polar coordinate.\n",
      "In Cartesian coodinate,x = -3.276347430502586, y = 2.2144243623264983 .\n",
      "The value of the function as starting point is 0.17041819009248457\n"
     ]
    }
   ],
   "source": [
    "print(f'The starting point is r = {r_0}, θ = {theta_0} in polar coordinate.\\nIn Cartesian coodinate,x = {x_0}, y = {y_0} .')\n",
    "print(f'The value of the function as starting point is {np.sinc(r_0/np.pi)*np.sin(2.0*theta_0)}')"
   ]
  },
  {
   "cell_type": "markdown",
   "metadata": {},
   "source": [
    "### Define function to perform gradient descending.\n",
    "Here we introduce a self-adjustable $\\eta=1/(a+\\|\\nabla Z\\|)$: when the gradient is large, it shrinks the step size and when gradient is small, it increase the step size, but with a upper bound $1/a$, where $a$ can be set manually."
   ]
  },
  {
   "cell_type": "code",
   "execution_count": 6,
   "metadata": {},
   "outputs": [],
   "source": [
    "def self_adj(x, factor=5.0):\n",
    "    return(1.0/(factor+x))\n",
    "\n",
    "def gradient_descending(cirteria, iter_max, r_0, theta_0):\n",
    "    iteration = 0\n",
    "    r_c = r_0\n",
    "    theta_c = theta_0\n",
    "    error = 2.*criteria\n",
    "    \n",
    "    if r_c==0:\n",
    "        grad_r = 0.0\n",
    "    else:\n",
    "        grad_r = (np.cos(r_c)/r_c-np.sin(r_c)/r_c**2)*np.sin(2.0*theta_c)\n",
    "    grad_theta = 2.0*np.sinc(r_c/np.pi)*np.cos(2.0*theta_c)\n",
    "    grad=[grad_r, grad_theta]\n",
    "    grad=np.array(grad)\n",
    "    norm = (grad@grad)**0.5\n",
    "    η = self_adj(norm)\n",
    "    \n",
    "    r_record.append(str(r_c))\n",
    "    theta_record.append(str(theta_c))\n",
    "\n",
    "    while error>criteria and iteration<iter_max:\n",
    "        theta_c -= grad_theta*η\n",
    "        r_c -= grad_r*η\n",
    "    \n",
    "        r_record.append(str(r_c))\n",
    "        theta_record.append(str(theta_c))\n",
    "        \n",
    "        #print(np.sinc(r_c/np.pi)*np.sin(2.0*theta_c))\n",
    "\n",
    "        if r_c==0:\n",
    "            grad_r = 0.0;\n",
    "        else:\n",
    "            grad_r = (np.cos(r_c)/r_c-np.sin(r_c)/r_c**2)*np.sin(2.0*theta_c)\n",
    "        grad_theta = 2.0*np.sinc(r_c/np.pi)*np.cos(2.0*theta_c)\n",
    "        grad = [grad_r, grad_theta]\n",
    "        grad = np.array(grad)\n",
    "        norm = (grad@grad)**0.5\n",
    "        η = self_adj(norm)\n",
    "        error = norm\n",
    "        iteration += 1\n",
    "        \n",
    "    return(r_c, theta_c, iteration)\n"
   ]
  },
  {
   "cell_type": "markdown",
   "metadata": {},
   "source": [
    "### We use a while loop to continue the iteration until $\\|\\nabla Z\\|$ is smaller than our stopping criteria or the maximum iteraton times is reached. At the same time we record the coordinate (in polar coordinate) after each iteration."
   ]
  },
  {
   "cell_type": "code",
   "execution_count": 7,
   "metadata": {},
   "outputs": [],
   "source": [
    "criteria = 1e-8\n",
    "iter_max = 10000\n",
    "r_record = []\n",
    "theta_record = []\n",
    "\n",
    "(r_c, theta_c, iteration) = gradient_descending(criteria, iter_max, r_0, theta_0)"
   ]
  },
  {
   "cell_type": "code",
   "execution_count": 8,
   "metadata": {},
   "outputs": [
    {
     "name": "stdout",
     "output_type": "stream",
     "text": [
      "The (local) minimum is reached after 393 times iteration(s).\n",
      "The coordinate is r = 4.493409411969123, θ = 3.9269908169872405 in polar coordinate;\n",
      "In Cartesian coordinate, x = -3.1773202658508266, y= -3.1773202658508204 .\n",
      "The minimum of the function value is obtained as Z = -0.2172336282112214\n"
     ]
    }
   ],
   "source": [
    "print(f'The (local) minimum is reached after {iteration} times iteration(s).')\n",
    "print(f'The coordinate is r = {r_c}, θ = {theta_c} in polar coordinate;\\nIn Cartesian coordinate, x = {r_c*np.cos(theta_c)}, y= {r_c*np.sin(theta_c)} .')\n",
    "print(f'The minimum of the function value is obtained as Z = {np.sinc(r_c/np.pi)*np.sin(2.0*theta_c)}')"
   ]
  },
  {
   "cell_type": "markdown",
   "metadata": {},
   "source": [
    "### Convert the polar coordinate back to Cartesian coordinate"
   ]
  },
  {
   "cell_type": "code",
   "execution_count": 9,
   "metadata": {},
   "outputs": [],
   "source": [
    "for i in range(0,iteration+1):\n",
    "    theta_record[i] = float(theta_record[i])\n",
    "    r_record[i] = float(r_record[i])\n",
    "r_record = np.array(r_record)\n",
    "theta_record = np.array(theta_record)\n",
    "    \n",
    "x_record = r_record*np.cos(theta_record)\n",
    "y_record = r_record*np.sin(theta_record)\n",
    "z_record = np.sinc(r_record/np.pi)*np.sin(2.0*theta_record)"
   ]
  },
  {
   "cell_type": "markdown",
   "metadata": {},
   "source": [
    "### Define the plotting function"
   ]
  },
  {
   "cell_type": "code",
   "execution_count": 10,
   "metadata": {},
   "outputs": [],
   "source": [
    "def plotting(index=iteration, elev=30, azim=0):\n",
    "    if index>iteration:\n",
    "        print('index exceed iteration times!')\n",
    "    else:\n",
    "        from matplotlib.ticker import LinearLocator, FormatStrFormatter\n",
    "\n",
    "        fig = plt.figure(figsize=(12.5,10),dpi=200)\n",
    "        ax = fig.gca(projection = '3d')\n",
    "        surf = ax.plot_surface(X,Y,Z, cmap = cm.coolwarm, linewidth = 50, alpha=0.7)\n",
    "        ax.set_zlim(-1.0,1.0)\n",
    "        #ax.zaxis.set_major_locator(LinearLocator(9)) #adjust the z axis ticks\n",
    "        #ax.zaxis.set_major_formatter(FormatStrFormatter('%.2f')) #adjust the digits of z axis ticks\n",
    "        ax.set_zticks(np.arange(-1,1.5,0.5))\n",
    "        ax.view_init(elev, azim)\n",
    "    \n",
    "        ax.text(x_record[0], y_record[0], z_record[0], 'Starting Point', color='r', fontsize=10)\n",
    "        ax.text(x_record[index], y_record[index], z_record[index], 'End Point', color='r', fontsize=10)\n",
    "\n",
    "        for t in ax.zaxis.get_major_ticks(): t.label.set_fontsize(12.5) # set z axis fontsize\n",
    "        ax = plt.xlabel('x',fontsize=25)\n",
    "        ax = plt.ylabel('y',fontsize=25)\n",
    "        ax = plt.title('Find the Minimum of $sinc(x^2+y^2)sin(2tan^{-1}(y/x))$',fontsize=25,y=1.1)\n",
    "        ax = plt.xticks(fontsize=12.5)\n",
    "        ax = plt.yticks(fontsize=12.5)\n",
    "        fig.colorbar(surf, ticks=np.arange(-1,1.2,0.2), shrink=0.4, aspect=8)\n",
    "    \n",
    "        ax = plt.plot(x_record[0:index], y_record[0:index], z_record[0:index], 'm.', markersize=10, alpha=1.0 )\n",
    "\n",
    "        plt.show()"
   ]
  },
  {
   "cell_type": "markdown",
   "metadata": {},
   "source": [
    "### Display by interact"
   ]
  },
  {
   "cell_type": "code",
   "execution_count": 11,
   "metadata": {},
   "outputs": [
    {
     "name": "stdout",
     "output_type": "stream",
     "text": [
      "Let's interact! Please Select the step number(index), elevation angel(elev), and azimuth angle(azim).\n"
     ]
    },
    {
     "data": {
      "application/vnd.jupyter.widget-view+json": {
       "model_id": "ef599c842ba14006afd47a89821e2e9f",
       "version_major": 2,
       "version_minor": 0
      },
      "text/plain": [
       "interactive(children=(IntSlider(value=393, description='index', max=393), IntSlider(value=30, description='ele…"
      ]
     },
     "metadata": {},
     "output_type": "display_data"
    }
   ],
   "source": [
    "print('Let\\'s interact! Please Select the step number(index), elevation angel(elev), and azimuth angle(azim).')\n",
    "interact(plotting,index=(0,iteration), elev=(-90,90), azim =(0,360));"
   ]
  },
  {
   "cell_type": "markdown",
   "metadata": {},
   "source": [
    "### Let's play with multi-paths starting from different initial points:)"
   ]
  },
  {
   "cell_type": "code",
   "execution_count": 12,
   "metadata": {
    "scrolled": true
   },
   "outputs": [
    {
     "name": "stdout",
     "output_type": "stream",
     "text": [
      "Enter the number of path you want:\n",
      "500\n",
      "Show detail report(y/n)?\n",
      "n\n"
     ]
    }
   ],
   "source": [
    "path = input('Enter the number of path you want:\\n')\n",
    "show = input('Show detail report(y/n)?\\n') # See the detail including starting point, number of iteration time, and end point.\n",
    "\n",
    "path=int(path)\n",
    "np.random.seed(17588735)\n",
    "r_array = r[np.random.randint(len(r), size=path)]\n",
    "theta_array = theta[np.random.randint(len(theta),size=path)]\n",
    "Z_array = np.zeros((path))\n",
    "iteration_array = np.zeros((path)).astype(np.int32)\n",
    "\n",
    "for i in range(0,path):\n",
    "    \n",
    "    r_0 = r_array[i]; theta_0 = theta_array[i];\n",
    "    x_0 = r_0*np.cos(theta_0); y_0 = r_0*np.sin(theta_0)\n",
    "\n",
    "    r_record = []\n",
    "    theta_record = []\n",
    "    (r_c, theta_c, iteration) = gradient_descending(criteria, iter_max, r_0, theta_0)\n",
    "    Z_array[i] = np.sinc(r_c/np.pi)*np.sin(2.0*theta_c)\n",
    "    iteration_array[i] = iteration\n",
    "    \n",
    "    if show == 'y':\n",
    "        print(f'Path #{i+1}:')\n",
    "        print(f'\\tThe starting point is r = {r_0}, θ = {theta_0} in polar coordinate.\\n\\tIn Cartesian coodinate,x = {x_0}, y = {y_0} .')\n",
    "        print(f'\\tThe value of the function as starting point is {np.sinc(r_0/np.pi)*np.sin(2.0*theta_0)}')\n",
    "        print('\\n\\tStart grdient descending:')\n",
    "        print(f'\\tThe (local) minimum is reached after {iteration} times iteration(s).')\n",
    "        print(f'\\tThe coordinate is r = {r_c}, θ = {theta_c} in polar coordinate;\\n\\tIn Cartesian coordinate, x = {r_c*np.cos(theta_c)}, y= {r_c*np.sin(theta_c)} .')\n",
    "        print(f'\\tThe minimum of the function value is obtained as Z = {Z_array[i]}')\n",
    "        print('\\n')"
   ]
  },
  {
   "cell_type": "markdown",
   "metadata": {},
   "source": [
    "### Print out the iteration time and $Z(x,y)$ and the end point for each path."
   ]
  },
  {
   "cell_type": "code",
   "execution_count": 13,
   "metadata": {
    "scrolled": true
   },
   "outputs": [
    {
     "name": "stdout",
     "output_type": "stream",
     "text": [
      "Path #1: iteration time = 281, Z = -0.2172336282\n",
      "Path #2: iteration time = 386, Z = -0.2172336282\n",
      "Path #3: iteration time = 255, Z = -1.0000000000\n",
      "Path #4: iteration time = 270, Z = -1.0000000000\n",
      "Path #5: iteration time = 379, Z = -0.2172336282\n",
      "Path #6: iteration time = 381, Z = -0.2172336282\n",
      "Path #7: iteration time = 644, Z = -0.1283745535\n",
      "Path #8: iteration time = 269, Z = -1.0000000000\n",
      "Path #9: iteration time = 275, Z = -1.0000000000\n",
      "Path #10: iteration time = 662, Z = -0.1283745535\n",
      "Path #11: iteration time = 212, Z = -1.0000000000\n",
      "Path #12: iteration time = 463, Z = -0.2172336282\n",
      "Path #13: iteration time = 274, Z = -1.0000000000\n",
      "Path #14: iteration time = 373, Z = -0.2172336282\n",
      "Path #15: iteration time = 628, Z = -0.1283745535\n",
      "Path #16: iteration time = 329, Z = -0.2172336282\n",
      "Path #17: iteration time = 376, Z = -0.2172336282\n",
      "Path #18: iteration time = 437, Z = -0.2172336282\n",
      "Path #19: iteration time = 262, Z = -1.0000000000\n",
      "Path #20: iteration time = 388, Z = -0.2172336282\n",
      "Path #21: iteration time = 378, Z = -0.2172336282\n",
      "Path #22: iteration time = 266, Z = -1.0000000000\n",
      "Path #23: iteration time = 385, Z = -0.2172336282\n",
      "Path #24: iteration time = 416, Z = -0.2172336282\n",
      "Path #25: iteration time = 371, Z = -0.2172336282\n",
      "Path #26: iteration time = 267, Z = -1.0000000000\n",
      "Path #27: iteration time = 371, Z = -0.2172336282\n",
      "Path #28: iteration time = 253, Z = -1.0000000000\n",
      "Path #29: iteration time = 256, Z = -1.0000000000\n",
      "Path #30: iteration time = 565, Z = -0.1283745535\n",
      "Path #31: iteration time = 281, Z = -1.0000000000\n",
      "Path #32: iteration time = 263, Z = -1.0000000000\n",
      "Path #33: iteration time = 234, Z = -1.0000000000\n",
      "Path #34: iteration time = 270, Z = -1.0000000000\n",
      "Path #35: iteration time = 253, Z = -1.0000000000\n",
      "Path #36: iteration time = 276, Z = -1.0000000000\n",
      "Path #37: iteration time = 361, Z = -0.2172336282\n",
      "Path #38: iteration time = 339, Z = -0.2172336282\n",
      "Path #39: iteration time = 230, Z = -1.0000000000\n",
      "Path #40: iteration time = 372, Z = -0.2172336282\n",
      "Path #41: iteration time = 634, Z = -0.1283745535\n",
      "Path #42: iteration time = 581, Z = -0.1283745535\n",
      "Path #43: iteration time = 381, Z = -0.2172336282\n",
      "Path #44: iteration time = 270, Z = -1.0000000000\n",
      "Path #45: iteration time = 391, Z = -0.2172336282\n",
      "Path #46: iteration time = 429, Z = -0.2172336282\n",
      "Path #47: iteration time = 420, Z = -0.2172336282\n",
      "Path #48: iteration time = 602, Z = -0.1283745535\n",
      "Path #49: iteration time = 259, Z = -1.0000000000\n",
      "Path #50: iteration time = 407, Z = -0.2172336282\n",
      "Path #51: iteration time = 400, Z = -0.2172336282\n",
      "Path #52: iteration time = 380, Z = -0.2172336282\n",
      "Path #53: iteration time = 427, Z = -0.2172336282\n",
      "Path #54: iteration time = 564, Z = -0.1283745535\n",
      "Path #55: iteration time = 660, Z = -0.1283745535\n",
      "Path #56: iteration time = 423, Z = -0.2172336282\n",
      "Path #57: iteration time = 279, Z = -1.0000000000\n",
      "Path #58: iteration time = 378, Z = -0.2172336282\n",
      "Path #59: iteration time = 293, Z = -0.2172336282\n",
      "Path #60: iteration time = 241, Z = -1.0000000000\n",
      "Path #61: iteration time = 389, Z = -0.2172336282\n",
      "Path #62: iteration time = 677, Z = -0.1283745535\n",
      "Path #63: iteration time = 618, Z = -0.1283745535\n",
      "Path #64: iteration time = 663, Z = -0.1283745535\n",
      "Path #65: iteration time = 620, Z = -0.1283745535\n",
      "Path #66: iteration time = 354, Z = -0.2172336282\n",
      "Path #67: iteration time = 689, Z = -0.1283745535\n",
      "Path #68: iteration time = 399, Z = -0.2172336282\n",
      "Path #69: iteration time = 372, Z = -0.2172336282\n",
      "Path #70: iteration time = 588, Z = -0.1283745535\n",
      "Path #71: iteration time = 533, Z = -0.1283745535\n",
      "Path #72: iteration time = 413, Z = -0.2172336282\n",
      "Path #73: iteration time = 288, Z = -1.0000000000\n",
      "Path #74: iteration time = 367, Z = -0.2172336282\n",
      "Path #75: iteration time = 624, Z = -0.1283745535\n",
      "Path #76: iteration time = 405, Z = -0.2172336282\n",
      "Path #77: iteration time = 365, Z = -0.2172336282\n",
      "Path #78: iteration time = 356, Z = -0.2172336282\n",
      "Path #79: iteration time = 686, Z = -0.1283745535\n",
      "Path #80: iteration time = 269, Z = -1.0000000000\n",
      "Path #81: iteration time = 274, Z = -1.0000000000\n",
      "Path #82: iteration time = 366, Z = -0.2172336282\n",
      "Path #83: iteration time = 589, Z = -0.1283745535\n",
      "Path #84: iteration time = 255, Z = -1.0000000000\n",
      "Path #85: iteration time = 265, Z = -1.0000000000\n",
      "Path #86: iteration time = 265, Z = -1.0000000000\n",
      "Path #87: iteration time = 389, Z = -0.2172336282\n",
      "Path #88: iteration time = 243, Z = -1.0000000000\n",
      "Path #89: iteration time = 476, Z = -0.1283745535\n",
      "Path #90: iteration time = 269, Z = -1.0000000000\n",
      "Path #91: iteration time = 551, Z = -0.1283745535\n",
      "Path #92: iteration time = 377, Z = -0.2172336282\n",
      "Path #93: iteration time = 367, Z = -0.2172336282\n",
      "Path #94: iteration time = 296, Z = -1.0000000000\n",
      "Path #95: iteration time = 295, Z = -1.0000000000\n",
      "Path #96: iteration time = 251, Z = -1.0000000000\n",
      "Path #97: iteration time = 370, Z = -0.2172336282\n",
      "Path #98: iteration time = 282, Z = -1.0000000000\n",
      "Path #99: iteration time = 357, Z = -0.2172336282\n",
      "Path #100: iteration time = 258, Z = -1.0000000000\n",
      "Path #101: iteration time = 266, Z = -1.0000000000\n",
      "Path #102: iteration time = 251, Z = -1.0000000000\n",
      "Path #103: iteration time = 258, Z = -1.0000000000\n",
      "Path #104: iteration time = 391, Z = -0.2172336282\n",
      "Path #105: iteration time = 271, Z = -1.0000000000\n",
      "Path #106: iteration time = 378, Z = -0.2172336282\n",
      "Path #107: iteration time = 384, Z = -0.2172336282\n",
      "Path #108: iteration time = 404, Z = -0.2172336282\n",
      "Path #109: iteration time = 399, Z = -0.2172336282\n",
      "Path #110: iteration time = 268, Z = -1.0000000000\n",
      "Path #111: iteration time = 218, Z = -1.0000000000\n",
      "Path #112: iteration time = 256, Z = -0.2172336282\n",
      "Path #113: iteration time = 588, Z = -0.1283745535\n",
      "Path #114: iteration time = 556, Z = -0.1283745535\n",
      "Path #115: iteration time = 251, Z = -1.0000000000\n",
      "Path #116: iteration time = 599, Z = -0.1283745535\n",
      "Path #117: iteration time = 412, Z = -0.2172336282\n",
      "Path #118: iteration time = 253, Z = -1.0000000000\n",
      "Path #119: iteration time = 396, Z = -0.2172336282\n",
      "Path #120: iteration time = 414, Z = -0.2172336282\n",
      "Path #121: iteration time = 643, Z = -0.1283745535\n",
      "Path #122: iteration time = 419, Z = -0.2172336282\n",
      "Path #123: iteration time = 385, Z = -0.2172336282\n",
      "Path #124: iteration time = 309, Z = -1.0000000000\n",
      "Path #125: iteration time = 394, Z = -0.2172336282\n",
      "Path #126: iteration time = 259, Z = -1.0000000000\n",
      "Path #127: iteration time = 392, Z = -0.2172336282\n",
      "Path #128: iteration time = 371, Z = -0.2172336282\n",
      "Path #129: iteration time = 550, Z = -0.1283745535\n",
      "Path #130: iteration time = 667, Z = -0.1283745535\n",
      "Path #131: iteration time = 661, Z = -0.1283745535\n",
      "Path #132: iteration time = 597, Z = -0.1283745535\n",
      "Path #133: iteration time = 383, Z = -0.2172336282\n",
      "Path #134: iteration time = 266, Z = -1.0000000000\n",
      "Path #135: iteration time = 271, Z = -1.0000000000\n",
      "Path #136: iteration time = 657, Z = -0.1283745535\n",
      "Path #137: iteration time = 257, Z = -1.0000000000\n",
      "Path #138: iteration time = 257, Z = -1.0000000000\n",
      "Path #139: iteration time = 272, Z = -1.0000000000\n",
      "Path #140: iteration time = 260, Z = -1.0000000000\n",
      "Path #141: iteration time = 288, Z = -1.0000000000\n",
      "Path #142: iteration time = 282, Z = -1.0000000000\n",
      "Path #143: iteration time = 595, Z = -0.1283745535\n",
      "Path #144: iteration time = 280, Z = -1.0000000000\n",
      "Path #145: iteration time = 244, Z = -1.0000000000\n",
      "Path #146: iteration time = 346, Z = -0.2172336282\n",
      "Path #147: iteration time = 406, Z = -0.2172336282\n",
      "Path #148: iteration time = 274, Z = -1.0000000000\n",
      "Path #149: iteration time = 438, Z = -0.2172336282\n",
      "Path #150: iteration time = 418, Z = -0.2172336282\n",
      "Path #151: iteration time = 350, Z = -0.2172336282\n",
      "Path #152: iteration time = 253, Z = -1.0000000000\n",
      "Path #153: iteration time = 390, Z = -0.2172336282\n",
      "Path #154: iteration time = 247, Z = -1.0000000000\n",
      "Path #155: iteration time = 348, Z = -0.2172336282\n",
      "Path #156: iteration time = 369, Z = -0.2172336282\n",
      "Path #157: iteration time = 266, Z = -1.0000000000\n",
      "Path #158: iteration time = 350, Z = -0.2172336282\n",
      "Path #159: iteration time = 340, Z = -0.2172336282\n",
      "Path #160: iteration time = 354, Z = -0.2172336282\n",
      "Path #161: iteration time = 260, Z = -1.0000000000\n",
      "Path #162: iteration time = 495, Z = -0.1283745535\n",
      "Path #163: iteration time = 437, Z = -0.2172336282\n",
      "Path #164: iteration time = 377, Z = -0.2172336282\n",
      "Path #165: iteration time = 278, Z = -1.0000000000\n",
      "Path #166: iteration time = 272, Z = -1.0000000000\n",
      "Path #167: iteration time = 256, Z = -1.0000000000\n",
      "Path #168: iteration time = 231, Z = -1.0000000000\n",
      "Path #169: iteration time = 364, Z = -0.2172336282\n",
      "Path #170: iteration time = 259, Z = -1.0000000000\n",
      "Path #171: iteration time = 647, Z = -0.1283745535\n",
      "Path #172: iteration time = 276, Z = -1.0000000000\n",
      "Path #173: iteration time = 13, Z = -1.0000000000\n",
      "Path #174: iteration time = 268, Z = -1.0000000000\n",
      "Path #175: iteration time = 274, Z = -1.0000000000\n",
      "Path #176: iteration time = 363, Z = -0.2172336282\n",
      "Path #177: iteration time = 380, Z = -0.2172336282\n",
      "Path #178: iteration time = 368, Z = -0.2172336282\n",
      "Path #179: iteration time = 644, Z = -0.1283745535\n",
      "Path #180: iteration time = 386, Z = -0.2172336282\n",
      "Path #181: iteration time = 223, Z = -1.0000000000\n",
      "Path #182: iteration time = 425, Z = -0.2172336282\n",
      "Path #183: iteration time = 419, Z = -0.2172336282\n",
      "Path #184: iteration time = 372, Z = -0.2172336282\n",
      "Path #185: iteration time = 640, Z = -0.1283745535\n",
      "Path #186: iteration time = 389, Z = -0.2172336282\n",
      "Path #187: iteration time = 362, Z = -0.2172336282\n",
      "Path #188: iteration time = 380, Z = -0.2172336282\n",
      "Path #189: iteration time = 345, Z = -0.2172336282\n",
      "Path #190: iteration time = 402, Z = -0.2172336282\n",
      "Path #191: iteration time = 367, Z = -0.2172336282\n",
      "Path #192: iteration time = 264, Z = -1.0000000000\n",
      "Path #193: iteration time = 350, Z = -0.2172336282\n",
      "Path #194: iteration time = 217, Z = -1.0000000000\n",
      "Path #195: iteration time = 705, Z = -0.1283745535\n",
      "Path #196: iteration time = 288, Z = -1.0000000000\n",
      "Path #197: iteration time = 374, Z = -0.2172336282\n",
      "Path #198: iteration time = 615, Z = -0.1283745535\n",
      "Path #199: iteration time = 265, Z = -1.0000000000\n",
      "Path #200: iteration time = 260, Z = -1.0000000000\n",
      "Path #201: iteration time = 243, Z = -1.0000000000\n",
      "Path #202: iteration time = 266, Z = -1.0000000000\n",
      "Path #203: iteration time = 303, Z = -1.0000000000\n",
      "Path #204: iteration time = 576, Z = -0.1283745535\n",
      "Path #205: iteration time = 309, Z = -1.0000000000\n",
      "Path #206: iteration time = 395, Z = -0.2172336282\n",
      "Path #207: iteration time = 276, Z = -1.0000000000\n",
      "Path #208: iteration time = 258, Z = -1.0000000000\n",
      "Path #209: iteration time = 561, Z = -0.1283745535\n",
      "Path #210: iteration time = 349, Z = -0.2172336282\n",
      "Path #211: iteration time = 629, Z = -0.1283745535\n",
      "Path #212: iteration time = 253, Z = -1.0000000000\n",
      "Path #213: iteration time = 433, Z = -0.2172336282\n",
      "Path #214: iteration time = 636, Z = -0.1283745535\n",
      "Path #215: iteration time = 273, Z = -1.0000000000\n",
      "Path #216: iteration time = 631, Z = -0.1283745535\n",
      "Path #217: iteration time = 270, Z = -1.0000000000\n",
      "Path #218: iteration time = 673, Z = -0.1283745535\n",
      "Path #219: iteration time = 621, Z = -0.1283745535\n",
      "Path #220: iteration time = 641, Z = -0.1283745535\n",
      "Path #221: iteration time = 373, Z = -0.2172336282\n",
      "Path #222: iteration time = 243, Z = -1.0000000000\n",
      "Path #223: iteration time = 370, Z = -0.2172336282\n",
      "Path #224: iteration time = 397, Z = -0.2172336282\n",
      "Path #225: iteration time = 233, Z = -1.0000000000\n",
      "Path #226: iteration time = 372, Z = -0.2172336282\n",
      "Path #227: iteration time = 282, Z = -1.0000000000\n",
      "Path #228: iteration time = 546, Z = -0.1283745535\n",
      "Path #229: iteration time = 631, Z = -0.1283745535\n",
      "Path #230: iteration time = 611, Z = -0.1283745535\n",
      "Path #231: iteration time = 369, Z = -0.2172336282\n",
      "Path #232: iteration time = 285, Z = -1.0000000000\n",
      "Path #233: iteration time = 265, Z = -1.0000000000\n",
      "Path #234: iteration time = 268, Z = -1.0000000000\n",
      "Path #235: iteration time = 257, Z = -1.0000000000\n",
      "Path #236: iteration time = 250, Z = -1.0000000000\n",
      "Path #237: iteration time = 283, Z = -1.0000000000\n",
      "Path #238: iteration time = 281, Z = -1.0000000000\n",
      "Path #239: iteration time = 376, Z = -0.2172336282\n",
      "Path #240: iteration time = 378, Z = -0.2172336282\n",
      "Path #241: iteration time = 246, Z = -1.0000000000\n",
      "Path #242: iteration time = 266, Z = -1.0000000000\n",
      "Path #243: iteration time = 403, Z = -0.2172336282\n",
      "Path #244: iteration time = 647, Z = -0.1283745535\n",
      "Path #245: iteration time = 274, Z = -1.0000000000\n",
      "Path #246: iteration time = 256, Z = -1.0000000000\n",
      "Path #247: iteration time = 617, Z = -0.1283745535\n",
      "Path #248: iteration time = 409, Z = -0.2172336282\n",
      "Path #249: iteration time = 180, Z = -1.0000000000\n",
      "Path #250: iteration time = 390, Z = -0.2172336282\n",
      "Path #251: iteration time = 204, Z = -1.0000000000\n",
      "Path #252: iteration time = 262, Z = -1.0000000000\n",
      "Path #253: iteration time = 284, Z = -1.0000000000\n",
      "Path #254: iteration time = 413, Z = -0.2172336282\n",
      "Path #255: iteration time = 262, Z = -1.0000000000\n",
      "Path #256: iteration time = 268, Z = -1.0000000000\n",
      "Path #257: iteration time = 264, Z = -1.0000000000\n",
      "Path #258: iteration time = 342, Z = -0.2172336282\n",
      "Path #259: iteration time = 411, Z = -0.2172336282\n",
      "Path #260: iteration time = 282, Z = -1.0000000000\n",
      "Path #261: iteration time = 656, Z = -0.1283745535\n",
      "Path #262: iteration time = 272, Z = -1.0000000000\n",
      "Path #263: iteration time = 670, Z = -0.1283745535\n",
      "Path #264: iteration time = 284, Z = -1.0000000000\n",
      "Path #265: iteration time = 224, Z = -1.0000000000\n",
      "Path #266: iteration time = 632, Z = -0.1283745535\n",
      "Path #267: iteration time = 258, Z = -1.0000000000\n",
      "Path #268: iteration time = 375, Z = -0.2172336282\n",
      "Path #269: iteration time = 271, Z = -1.0000000000\n",
      "Path #270: iteration time = 591, Z = -0.1283745535\n",
      "Path #271: iteration time = 287, Z = -1.0000000000\n",
      "Path #272: iteration time = 257, Z = -1.0000000000\n",
      "Path #273: iteration time = 475, Z = -0.2172336282\n",
      "Path #274: iteration time = 624, Z = -0.1283745535\n",
      "Path #275: iteration time = 373, Z = -0.2172336282\n",
      "Path #276: iteration time = 416, Z = -0.2172336282\n",
      "Path #277: iteration time = 286, Z = -1.0000000000\n",
      "Path #278: iteration time = 600, Z = -0.1283745535\n",
      "Path #279: iteration time = 373, Z = -0.2172336282\n",
      "Path #280: iteration time = 294, Z = -1.0000000000\n",
      "Path #281: iteration time = 397, Z = -0.2172336282\n",
      "Path #282: iteration time = 426, Z = -0.2172336282\n",
      "Path #283: iteration time = 395, Z = -0.2172336282\n",
      "Path #284: iteration time = 255, Z = -1.0000000000\n",
      "Path #285: iteration time = 419, Z = -0.2172336282\n",
      "Path #286: iteration time = 359, Z = -0.2172336282\n",
      "Path #287: iteration time = 664, Z = -0.1283745535\n",
      "Path #288: iteration time = 398, Z = -0.2172336282\n",
      "Path #289: iteration time = 235, Z = -1.0000000000\n",
      "Path #290: iteration time = 399, Z = -0.2172336282\n",
      "Path #291: iteration time = 285, Z = -1.0000000000\n",
      "Path #292: iteration time = 668, Z = -0.1283745535\n",
      "Path #293: iteration time = 276, Z = -1.0000000000\n",
      "Path #294: iteration time = 233, Z = -1.0000000000\n",
      "Path #295: iteration time = 378, Z = -0.2172336282\n",
      "Path #296: iteration time = 387, Z = -0.2172336282\n",
      "Path #297: iteration time = 262, Z = -1.0000000000\n",
      "Path #298: iteration time = 270, Z = -1.0000000000\n",
      "Path #299: iteration time = 416, Z = -0.2172336282\n",
      "Path #300: iteration time = 431, Z = -0.2172336282\n",
      "Path #301: iteration time = 256, Z = -1.0000000000\n",
      "Path #302: iteration time = 657, Z = -0.1283745535\n",
      "Path #303: iteration time = 643, Z = -0.1283745535\n",
      "Path #304: iteration time = 263, Z = -1.0000000000\n",
      "Path #305: iteration time = 736, Z = -0.1283745535\n",
      "Path #306: iteration time = 462, Z = -0.2172336282\n",
      "Path #307: iteration time = 481, Z = -0.2172336282\n",
      "Path #308: iteration time = 280, Z = -1.0000000000\n",
      "Path #309: iteration time = 307, Z = -1.0000000000\n",
      "Path #310: iteration time = 259, Z = -1.0000000000\n",
      "Path #311: iteration time = 280, Z = -1.0000000000\n",
      "Path #312: iteration time = 186, Z = -1.0000000000\n",
      "Path #313: iteration time = 373, Z = -0.2172336282\n",
      "Path #314: iteration time = 289, Z = -1.0000000000\n",
      "Path #315: iteration time = 376, Z = -0.2172336282\n",
      "Path #316: iteration time = 246, Z = -1.0000000000\n",
      "Path #317: iteration time = 273, Z = -1.0000000000\n",
      "Path #318: iteration time = 274, Z = -1.0000000000\n",
      "Path #319: iteration time = 268, Z = -1.0000000000\n",
      "Path #320: iteration time = 641, Z = -0.1283745535\n",
      "Path #321: iteration time = 258, Z = -1.0000000000\n",
      "Path #322: iteration time = 565, Z = -0.1283745535\n",
      "Path #323: iteration time = 253, Z = -1.0000000000\n",
      "Path #324: iteration time = 390, Z = -0.2172336282\n",
      "Path #325: iteration time = 399, Z = -0.2172336282\n",
      "Path #326: iteration time = 395, Z = -0.2172336282\n",
      "Path #327: iteration time = 558, Z = -0.1283745535\n",
      "Path #328: iteration time = 401, Z = -0.2172336282\n",
      "Path #329: iteration time = 686, Z = -0.1283745535\n",
      "Path #330: iteration time = 370, Z = -0.2172336282\n",
      "Path #331: iteration time = 284, Z = -1.0000000000\n",
      "Path #332: iteration time = 677, Z = -0.1283745535\n",
      "Path #333: iteration time = 366, Z = -0.2172336282\n",
      "Path #334: iteration time = 283, Z = -1.0000000000\n",
      "Path #335: iteration time = 248, Z = -1.0000000000\n",
      "Path #336: iteration time = 279, Z = -1.0000000000\n",
      "Path #337: iteration time = 263, Z = -1.0000000000\n",
      "Path #338: iteration time = 592, Z = -0.1283745535\n",
      "Path #339: iteration time = 602, Z = -0.1283745535\n",
      "Path #340: iteration time = 628, Z = -0.1283745535\n",
      "Path #341: iteration time = 264, Z = -1.0000000000\n",
      "Path #342: iteration time = 278, Z = -1.0000000000\n",
      "Path #343: iteration time = 595, Z = -0.1283745535\n",
      "Path #344: iteration time = 257, Z = -1.0000000000\n",
      "Path #345: iteration time = 569, Z = -0.1283745535\n",
      "Path #346: iteration time = 272, Z = -1.0000000000\n",
      "Path #347: iteration time = 297, Z = -1.0000000000\n",
      "Path #348: iteration time = 281, Z = -1.0000000000\n",
      "Path #349: iteration time = 562, Z = -0.1283745535\n",
      "Path #350: iteration time = 586, Z = -0.1283745535\n",
      "Path #351: iteration time = 652, Z = -0.1283745535\n",
      "Path #352: iteration time = 227, Z = -1.0000000000\n",
      "Path #353: iteration time = 548, Z = -0.1283745535\n",
      "Path #354: iteration time = 288, Z = -1.0000000000\n",
      "Path #355: iteration time = 413, Z = -0.2172336282\n",
      "Path #356: iteration time = 673, Z = -0.1283745535\n",
      "Path #357: iteration time = 229, Z = -1.0000000000\n",
      "Path #358: iteration time = 428, Z = -0.2172336282\n",
      "Path #359: iteration time = 229, Z = -1.0000000000\n",
      "Path #360: iteration time = 284, Z = -1.0000000000\n",
      "Path #361: iteration time = 620, Z = -0.1283745535\n",
      "Path #362: iteration time = 242, Z = -1.0000000000\n",
      "Path #363: iteration time = 547, Z = -0.1283745535\n",
      "Path #364: iteration time = 281, Z = -1.0000000000\n",
      "Path #365: iteration time = 395, Z = -0.2172336282\n",
      "Path #366: iteration time = 230, Z = -1.0000000000\n",
      "Path #367: iteration time = 253, Z = -1.0000000000\n",
      "Path #368: iteration time = 306, Z = -1.0000000000\n",
      "Path #369: iteration time = 243, Z = -1.0000000000\n",
      "Path #370: iteration time = 616, Z = -0.1283745535\n",
      "Path #371: iteration time = 647, Z = -0.1283745535\n",
      "Path #372: iteration time = 669, Z = -0.1283745535\n",
      "Path #373: iteration time = 244, Z = -1.0000000000\n",
      "Path #374: iteration time = 483, Z = -0.2172336282\n",
      "Path #375: iteration time = 395, Z = -0.2172336282\n",
      "Path #376: iteration time = 422, Z = -0.2172336282\n",
      "Path #377: iteration time = 599, Z = -0.1283745535\n",
      "Path #378: iteration time = 302, Z = -1.0000000000\n",
      "Path #379: iteration time = 248, Z = -1.0000000000\n",
      "Path #380: iteration time = 263, Z = -1.0000000000\n",
      "Path #381: iteration time = 378, Z = -0.2172336282\n",
      "Path #382: iteration time = 269, Z = -1.0000000000\n",
      "Path #383: iteration time = 254, Z = -1.0000000000\n",
      "Path #384: iteration time = 257, Z = -1.0000000000\n",
      "Path #385: iteration time = 395, Z = -0.2172336282\n",
      "Path #386: iteration time = 384, Z = -0.2172336282\n",
      "Path #387: iteration time = 306, Z = -1.0000000000\n",
      "Path #388: iteration time = 549, Z = -0.1283745535\n",
      "Path #389: iteration time = 421, Z = -0.2172336282\n",
      "Path #390: iteration time = 394, Z = -0.2172336282\n",
      "Path #391: iteration time = 266, Z = -1.0000000000\n",
      "Path #392: iteration time = 268, Z = -1.0000000000\n",
      "Path #393: iteration time = 253, Z = -1.0000000000\n",
      "Path #394: iteration time = 260, Z = -1.0000000000\n",
      "Path #395: iteration time = 361, Z = -0.2172336282\n",
      "Path #396: iteration time = 276, Z = -1.0000000000\n",
      "Path #397: iteration time = 609, Z = -0.1283745535\n",
      "Path #398: iteration time = 683, Z = -0.1283745535\n",
      "Path #399: iteration time = 267, Z = -1.0000000000\n",
      "Path #400: iteration time = 253, Z = -1.0000000000\n",
      "Path #401: iteration time = 643, Z = -0.1283745535\n",
      "Path #402: iteration time = 284, Z = -1.0000000000\n",
      "Path #403: iteration time = 421, Z = -0.2172336282\n",
      "Path #404: iteration time = 252, Z = -1.0000000000\n",
      "Path #405: iteration time = 255, Z = -1.0000000000\n",
      "Path #406: iteration time = 277, Z = -1.0000000000\n",
      "Path #407: iteration time = 661, Z = -0.1283745535\n",
      "Path #408: iteration time = 238, Z = -1.0000000000\n",
      "Path #409: iteration time = 671, Z = -0.1283745535\n",
      "Path #410: iteration time = 639, Z = -0.1283745535\n",
      "Path #411: iteration time = 253, Z = -1.0000000000\n",
      "Path #412: iteration time = 656, Z = -0.1283745535\n",
      "Path #413: iteration time = 434, Z = -0.2172336282\n",
      "Path #414: iteration time = 391, Z = -0.2172336282\n",
      "Path #415: iteration time = 268, Z = -1.0000000000\n",
      "Path #416: iteration time = 581, Z = -0.1283745535\n",
      "Path #417: iteration time = 392, Z = -0.2172336282\n",
      "Path #418: iteration time = 272, Z = -1.0000000000\n",
      "Path #419: iteration time = 369, Z = -0.2172336282\n",
      "Path #420: iteration time = 423, Z = -0.2172336282\n",
      "Path #421: iteration time = 372, Z = -0.2172336282\n",
      "Path #422: iteration time = 382, Z = -0.2172336282\n",
      "Path #423: iteration time = 292, Z = -0.2172336282\n",
      "Path #424: iteration time = 595, Z = -0.1283745535\n",
      "Path #425: iteration time = 651, Z = -0.1283745535\n",
      "Path #426: iteration time = 625, Z = -0.1283745535\n",
      "Path #427: iteration time = 275, Z = -1.0000000000\n",
      "Path #428: iteration time = 268, Z = -1.0000000000\n",
      "Path #429: iteration time = 252, Z = -1.0000000000\n",
      "Path #430: iteration time = 269, Z = -1.0000000000\n",
      "Path #431: iteration time = 299, Z = -1.0000000000\n",
      "Path #432: iteration time = 245, Z = -1.0000000000\n",
      "Path #433: iteration time = 385, Z = -0.2172336282\n",
      "Path #434: iteration time = 245, Z = -1.0000000000\n",
      "Path #435: iteration time = 246, Z = -1.0000000000\n",
      "Path #436: iteration time = 376, Z = -0.2172336282\n",
      "Path #437: iteration time = 639, Z = -0.1283745535\n",
      "Path #438: iteration time = 415, Z = -0.2172336282\n",
      "Path #439: iteration time = 305, Z = -1.0000000000\n",
      "Path #440: iteration time = 276, Z = -1.0000000000\n",
      "Path #441: iteration time = 293, Z = -1.0000000000\n",
      "Path #442: iteration time = 282, Z = -1.0000000000\n",
      "Path #443: iteration time = 252, Z = -1.0000000000\n",
      "Path #444: iteration time = 371, Z = -0.2172336282\n",
      "Path #445: iteration time = 638, Z = -0.1283745535\n",
      "Path #446: iteration time = 381, Z = -0.2172336282\n",
      "Path #447: iteration time = 287, Z = -1.0000000000\n",
      "Path #448: iteration time = 558, Z = -0.1283745535\n",
      "Path #449: iteration time = 642, Z = -0.1283745535\n",
      "Path #450: iteration time = 290, Z = -1.0000000000\n",
      "Path #451: iteration time = 651, Z = -0.1283745535\n",
      "Path #452: iteration time = 258, Z = -1.0000000000\n",
      "Path #453: iteration time = 421, Z = -0.2172336282\n",
      "Path #454: iteration time = 420, Z = -0.2172336282\n",
      "Path #455: iteration time = 268, Z = -1.0000000000\n",
      "Path #456: iteration time = 351, Z = -0.2172336282\n",
      "Path #457: iteration time = 550, Z = -0.1283745535\n",
      "Path #458: iteration time = 265, Z = -1.0000000000\n",
      "Path #459: iteration time = 382, Z = -0.2172336282\n",
      "Path #460: iteration time = 369, Z = -0.2172336282\n",
      "Path #461: iteration time = 377, Z = -0.2172336282\n",
      "Path #462: iteration time = 458, Z = -0.2172336282\n",
      "Path #463: iteration time = 271, Z = -1.0000000000\n",
      "Path #464: iteration time = 339, Z = -0.2172336282\n",
      "Path #465: iteration time = 386, Z = -0.2172336282\n",
      "Path #466: iteration time = 249, Z = -1.0000000000\n",
      "Path #467: iteration time = 262, Z = -1.0000000000\n",
      "Path #468: iteration time = 345, Z = -0.2172336282\n",
      "Path #469: iteration time = 437, Z = -0.2172336282\n",
      "Path #470: iteration time = 278, Z = -1.0000000000\n",
      "Path #471: iteration time = 393, Z = -0.2172336282\n",
      "Path #472: iteration time = 618, Z = -0.1283745535\n",
      "Path #473: iteration time = 381, Z = -0.2172336282\n",
      "Path #474: iteration time = 250, Z = -1.0000000000\n",
      "Path #475: iteration time = 379, Z = -0.2172336282\n",
      "Path #476: iteration time = 381, Z = -0.2172336282\n",
      "Path #477: iteration time = 267, Z = -1.0000000000\n",
      "Path #478: iteration time = 245, Z = -1.0000000000\n",
      "Path #479: iteration time = 238, Z = -1.0000000000\n",
      "Path #480: iteration time = 407, Z = -0.2172336282\n",
      "Path #481: iteration time = 352, Z = -0.2172336282\n",
      "Path #482: iteration time = 659, Z = -0.1283745535\n",
      "Path #483: iteration time = 388, Z = -0.2172336282\n",
      "Path #484: iteration time = 408, Z = -0.2172336282\n",
      "Path #485: iteration time = 386, Z = -0.2172336282\n",
      "Path #486: iteration time = 673, Z = -0.1283745535\n",
      "Path #487: iteration time = 414, Z = -0.2172336282\n",
      "Path #488: iteration time = 274, Z = -1.0000000000\n",
      "Path #489: iteration time = 266, Z = -1.0000000000\n",
      "Path #490: iteration time = 398, Z = -0.2172336282\n",
      "Path #491: iteration time = 214, Z = -1.0000000000\n",
      "Path #492: iteration time = 433, Z = -0.2172336282\n",
      "Path #493: iteration time = 398, Z = -0.2172336282\n",
      "Path #494: iteration time = 255, Z = -1.0000000000\n",
      "Path #495: iteration time = 381, Z = -0.2172336282\n",
      "Path #496: iteration time = 526, Z = -0.1283745535\n",
      "Path #497: iteration time = 276, Z = -1.0000000000\n",
      "Path #498: iteration time = 263, Z = -1.0000000000\n",
      "Path #499: iteration time = 637, Z = -0.1283745535\n",
      "Path #500: iteration time = 307, Z = -0.2172336282\n"
     ]
    }
   ],
   "source": [
    "for i in range(0,len(Z_array)):\n",
    "    print(f'Path #{i+1}: iteration time = {iteration_array[i]}, Z = {Z_array[i]:.10f}')"
   ]
  },
  {
   "cell_type": "markdown",
   "metadata": {},
   "source": [
    "### Look at a specific path."
   ]
  },
  {
   "cell_type": "code",
   "execution_count": 14,
   "metadata": {},
   "outputs": [
    {
     "name": "stdout",
     "output_type": "stream",
     "text": [
      "Enter the # of path you are interested in.\n",
      "34\n"
     ]
    }
   ],
   "source": [
    "path_index = input('Enter the # of path you are interested in.\\n')\n",
    "path_index = int(path_index)-1"
   ]
  },
  {
   "cell_type": "markdown",
   "metadata": {},
   "source": [
    "### Do gradient descending again to record the coordinate at each step along the path."
   ]
  },
  {
   "cell_type": "code",
   "execution_count": 15,
   "metadata": {},
   "outputs": [],
   "source": [
    "r_0 = r_array[path_index]; theta_0 = theta_array[path_index];\n",
    "x_0 = r_0*np.cos(theta_0); y_0 = r_0*np.sin(theta_0)\n",
    "criteria = 1e-10\n",
    "iter_max = 10000\n",
    "r_record = []\n",
    "theta_record = []\n",
    "\n",
    "(r_c, theta_c, iteration) = gradient_descending(criteria, iter_max, r_0, theta_0)\n",
    "\n",
    "for i in range(0,iteration+1):\n",
    "    theta_record[i] = float(theta_record[i])\n",
    "    r_record[i] = float(r_record[i])\n",
    "r_record = np.array(r_record)\n",
    "theta_record = np.array(theta_record)\n",
    "\n",
    "x_record = r_record*np.cos(theta_record)\n",
    "y_record = r_record*np.sin(theta_record)\n",
    "z_record = np.sinc(r_record/np.pi)*np.sin(2.0*theta_record)"
   ]
  },
  {
   "cell_type": "markdown",
   "metadata": {},
   "source": [
    "### Prepare the meshgrid for plotting."
   ]
  },
  {
   "cell_type": "code",
   "execution_count": 16,
   "metadata": {},
   "outputs": [],
   "source": [
    "resolution = 1000\n",
    "r = np.linspace(0,2.5*np.pi,resolution)\n",
    "theta = np.linspace(0,2.0*np.pi,resolution)\n",
    "\n",
    "R,θ = np.meshgrid(r,theta)\n",
    "Z = np.sinc(R/np.pi)*np.sin(2.0*θ)\n",
    "X = R*np.cos(θ); Y = R*np.sin(θ)"
   ]
  },
  {
   "cell_type": "markdown",
   "metadata": {},
   "source": [
    "### Define the plotting function, which is just an extension of the previous plotting function."
   ]
  },
  {
   "cell_type": "code",
   "execution_count": 17,
   "metadata": {},
   "outputs": [],
   "source": [
    "def plotting_multi_path(index=iteration, elev=30, azim=0):\n",
    "    if index>iteration:\n",
    "        print('index exceed iteration times!')\n",
    "    else:\n",
    "        from matplotlib.ticker import LinearLocator, FormatStrFormatter\n",
    "\n",
    "        fig = plt.figure(figsize=(12.5,10),dpi=200)\n",
    "        ax = fig.gca(projection = '3d')\n",
    "        \n",
    "        surf = ax.plot_surface(X,Y,Z, cmap = cm.coolwarm, linewidth = 50, alpha=0.65)\n",
    "        ax.set_zlim(-1.0,1.0)\n",
    "        #ax.zaxis.set_major_locator(LinearLocator(9)) #adjust the z axis ticks\n",
    "        #ax.zaxis.set_major_formatter(FormatStrFormatter('%.2f')) #adjust the digits of z axis ticks\n",
    "        ax.set_zticks(np.arange(-1,1.5,0.5))\n",
    "        ax.view_init(elev, azim)\n",
    "    \n",
    "        ax.text(x_record[0], y_record[0], z_record[0], 'Starting Point', color='r', fontsize=10)\n",
    "        ax.text(x_record[index], y_record[index], z_record[index], 'End Point', color='r', fontsize=10)\n",
    "\n",
    "        for t in ax.zaxis.get_major_ticks(): t.label.set_fontsize(12.5) # set z axis fontsize\n",
    "        ax = plt.xlabel('x',fontsize=25)\n",
    "        ax = plt.ylabel('y',fontsize=25)\n",
    "        ax = plt.title('Find the Minimum of $sinc(x^2+y^2)sin(2tan^{-1}(y/x))$',fontsize=25,y=1.1)\n",
    "        ax = plt.xticks(fontsize=12.5)\n",
    "        ax = plt.yticks(fontsize=12.5)\n",
    "        fig.colorbar(surf, ticks=np.arange(-1,1.2,0.2), shrink=0.4, aspect=8)\n",
    "    \n",
    "        ax = plt.plot(x_record[0:index], y_record[0:index], z_record[0:index], 'm.', markersize=10, alpha=1.0 )\n",
    "\n",
    "        plt.show()"
   ]
  },
  {
   "cell_type": "markdown",
   "metadata": {},
   "source": [
    "### Display by interact."
   ]
  },
  {
   "cell_type": "code",
   "execution_count": 18,
   "metadata": {
    "scrolled": false
   },
   "outputs": [
    {
     "name": "stdout",
     "output_type": "stream",
     "text": [
      "Let's interact! Please Select the step number(index), elevation angel(elev), and azimuth angle(azim).\n"
     ]
    },
    {
     "data": {
      "application/vnd.jupyter.widget-view+json": {
       "model_id": "6fff7666a968428194e6a835f84127bc",
       "version_major": 2,
       "version_minor": 0
      },
      "text/plain": [
       "interactive(children=(IntSlider(value=279, description='index', max=279), IntSlider(value=30, description='ele…"
      ]
     },
     "metadata": {},
     "output_type": "display_data"
    }
   ],
   "source": [
    "print('Let\\'s interact! Please Select the step number(index), elevation angel(elev), and azimuth angle(azim).')\n",
    "interact(plotting_multi_path,index=(0,iteration), elev=(-90,90), azim =(0,360));"
   ]
  },
  {
   "cell_type": "code",
   "execution_count": null,
   "metadata": {},
   "outputs": [],
   "source": []
  }
 ],
 "metadata": {
  "kernelspec": {
   "display_name": "Python 3",
   "language": "python",
   "name": "python3"
  },
  "language_info": {
   "codemirror_mode": {
    "name": "ipython",
    "version": 3
   },
   "file_extension": ".py",
   "mimetype": "text/x-python",
   "name": "python",
   "nbconvert_exporter": "python",
   "pygments_lexer": "ipython3",
   "version": "3.7.1"
  },
  "varInspector": {
   "cols": {
    "lenName": 16,
    "lenType": 16,
    "lenVar": 40
   },
   "kernels_config": {
    "python": {
     "delete_cmd_postfix": "",
     "delete_cmd_prefix": "del ",
     "library": "var_list.py",
     "varRefreshCmd": "print(var_dic_list())"
    },
    "r": {
     "delete_cmd_postfix": ") ",
     "delete_cmd_prefix": "rm(",
     "library": "var_list.r",
     "varRefreshCmd": "cat(var_dic_list()) "
    }
   },
   "types_to_exclude": [
    "module",
    "function",
    "builtin_function_or_method",
    "instance",
    "_Feature"
   ],
   "window_display": false
  }
 },
 "nbformat": 4,
 "nbformat_minor": 2
}
