{
 "cells": [
  {
   "cell_type": "markdown",
   "metadata": {},
   "source": [
    "# 用 RSA 加密法傳遞字串並解密還原 "
   ]
  },
  {
   "cell_type": "markdown",
   "metadata": {},
   "source": [
    "### import 加密法需要的套件"
   ]
  },
  {
   "cell_type": "code",
   "execution_count": 60,
   "metadata": {},
   "outputs": [],
   "source": [
    "import numpy as np\n",
    "import sympy as sym\n",
    "import sympy.ntheory as ntheory \n",
    "import sympy.ntheory.residue_ntheory as residue_ntheory"
   ]
  },
  {
   "cell_type": "markdown",
   "metadata": {},
   "source": [
    "### RSA加密\n",
    "用RSA產生公鑰(e,N)及私鑰(d,N) 可參考 [reference](https://zh.wikipedia.org/wiki/RSA%E5%8A%A0%E5%AF%86%E6%BC%94%E7%AE%97%E6%B3%95)"
   ]
  },
  {
   "cell_type": "code",
   "execution_count": 61,
   "metadata": {},
   "outputs": [],
   "source": [
    "def key_generate(n):\n",
    "    a = int(n*np.random.rand(1))\n",
    "    b = int(n*np.random.rand(1))\n",
    "    p = sym.prime(a)\n",
    "    q = sym.prime(b)\n",
    "    N = p*q\n",
    "    r = (p-1)*(q-1)\n",
    "    gcd = 0\n",
    "    while gcd!=1:\n",
    "        e = int(r*np.random.rand(1))\n",
    "        gcd = residue_ntheory.igcd(e,r)\n",
    "    d = residue_ntheory.mod_inverse(e,r)\n",
    "    return (e, d, N)"
   ]
  },
  {
   "cell_type": "markdown",
   "metadata": {},
   "source": [
    "### 將輸入的文字轉成數字字串,並分割成適當大小的片段"
   ]
  },
  {
   "cell_type": "code",
   "execution_count": 62,
   "metadata": {},
   "outputs": [],
   "source": [
    "def translate(string, M, U, block):\n",
    "    message = ''\n",
    "    unzip = ''\n",
    "\n",
    "    for i in string:\n",
    "        message += str(ord(i))\n",
    "        unzip  += str(len(str(ord(i))))\n",
    "\n",
    "    for i in range(0,int(len(message)/block+1)):\n",
    "        a = ''\n",
    "        j = 0\n",
    "        while len(a)<block:\n",
    "            if i*block+j==len(message):\n",
    "                break\n",
    "            a += message[i*block+j]\n",
    "            j += 1      \n",
    "        if a!= '':\n",
    "            M.append(a)\n",
    "    last_block = j\n",
    "    \n",
    "    for i in range(0,int(len(unzip)/block+1)):\n",
    "        a = ''\n",
    "        j = 0\n",
    "        while len(a)<block:\n",
    "            if i*block+j==len(unzip):\n",
    "                break\n",
    "            a += unzip[i*block+j]\n",
    "            j += 1      \n",
    "        if a!= '':\n",
    "            U.append(a)\n",
    "    return last_block   "
   ]
  },
  {
   "cell_type": "markdown",
   "metadata": {},
   "source": [
    "### 用公鑰(e,N)加密以及用私鑰(d,N)解密"
   ]
  },
  {
   "cell_type": "code",
   "execution_count": 63,
   "metadata": {},
   "outputs": [],
   "source": [
    "def encode(P, P_prime, e, N):\n",
    "    for i in P:\n",
    "        i = int(i)\n",
    "        P_prime.append(pow(i,e,N))\n",
    "def decode(A, A_prime, d, N):\n",
    "    for i in A:\n",
    "        i = int(i)\n",
    "        A_prime.append(pow(i,d,N))\n"
   ]
  },
  {
   "cell_type": "markdown",
   "metadata": {},
   "source": [
    "### 將解密後得到的數字字串轉換回文字字串\n",
    "注意在translate時有把字串轉成數字 所以0開頭的字串會自動去0 back_translate時把0補回來"
   ]
  },
  {
   "cell_type": "code",
   "execution_count": 64,
   "metadata": {},
   "outputs": [],
   "source": [
    "def back_translate(M, U, block, last_block):\n",
    "    sm = ''\n",
    "    su = ''\n",
    "    string = ''\n",
    "    index = 0\n",
    "    for i in M[:-1]:\n",
    "        if len(str(i))<block:\n",
    "            sm += '0'*(block-len(str(i)))+str(i)\n",
    "        else:\n",
    "            sm += str(i)\n",
    "    if len(str(M[-1]))<last_block:\n",
    "        sm += '0'*(last_block-len(str(M[-1])))+str(M[-1])\n",
    "    else:\n",
    "        sm += str(M[-1])\n",
    "    for i in U:\n",
    "        su += str(i)  \n",
    "    for i in range(0, len(su)):\n",
    "        end = index+int(su[i])\n",
    "        string += chr(int(sm[index:end]))\n",
    "        index += int(su[i])\n",
    "    return (string)\n",
    "#        print(index)"
   ]
  },
  {
   "cell_type": "markdown",
   "metadata": {},
   "source": [
    "### Main:產生公私鑰"
   ]
  },
  {
   "cell_type": "code",
   "execution_count": 65,
   "metadata": {},
   "outputs": [],
   "source": [
    "n = 1e9\n",
    "(e,d, N)=key_generate(n)\n"
   ]
  },
  {
   "cell_type": "markdown",
   "metadata": {},
   "source": [
    "### Main: 加密及解密"
   ]
  },
  {
   "cell_type": "code",
   "execution_count": 68,
   "metadata": {},
   "outputs": [
    {
     "name": "stdout",
     "output_type": "stream",
     "text": [
      "    臣亮言：先帝創業未半，而中道崩殂。今天下三分，益州疲弊，此誠危急存亡之秋也。然侍衛之臣，不懈於內；忠志之士，忘身於外者，蓋追先帝之殊遇，欲報之於陛下也。誠宜開張聖聽，以光先帝遺德，恢弘志士之氣；不宜妄自菲薄，引喻失義，以塞忠諫之路也。宮中府中，俱為一體，陟罰臧否，不宜異同。若有作姦犯科，及為忠善者，宜付有司，論其刑賞，以昭陛下平明之治，不宜篇私，使內外異法也。\n",
      "    侍中、侍郎郭攸之、費褘、董允等，此皆良實，志慮忠純，是以先帝簡拔以遺陛下。愚以為宮中之事，事無大小，悉以咨之，然後施行，必能裨補闕漏，有所廣益。將軍向寵，性行淑均，曉暢軍事，試用於昔日，先帝稱之曰「能」，是以眾議舉寵為督。愚以為營中之事，悉以咨之，必能使行陣和睦，優劣得所。親賢臣，遠小人，此先漢所以興隆也；親小人，遠賢臣，此後漢所以傾頹也。先帝在時，每與臣論此事，未嘗不歎息痛恨於桓、靈也。侍中、尚書、長史；參軍，此悉貞良死節之臣也，願陛下親之信之，則漢室之隆，可計日而待也。\n",
      "    臣本布衣，躬耕於南陽，苟全性命於亂世，不求聞達於諸侯。先帝不以臣卑鄙，猥自枉屈，三顧臣於草廬之中，諮臣以當世之事，由是感激，遂許先帝以驅馳。後值傾覆，受任於敗軍之際，奉命於危難之間，爾來二十有一年矣！先帝知臣謹慎，故臨崩寄臣以大事也。受命以來，夙夜憂勤，恐託付不效，以傷先帝之明。故五月渡瀘，深入不毛。今南方已定，兵甲已足，當獎率三軍，北定中原，庶竭駑鈍，攘除奸凶，興復漢室，還於舊都；此臣所以報先帝而忠陛下之職分也。至於斟酌損益，進盡忠言，則攸之、褘、允之任也。\n",
      "    願陛下託臣以討賊興復之效；不效，則治臣之罪，以告先帝之靈。若無興德之言，則戮允等，以彰其慢。陛下亦宜自課，以諮諏善道，察納雅言，深追先帝遺詔，臣不勝受恩感激。\n",
      "    今當遠離，臨表涕泣，不知所云。\n"
     ]
    }
   ],
   "source": [
    "text = '    臣亮言：先帝創業未半，而中道崩殂。今天下三分，益州疲弊，此誠危急存亡之秋也。然侍衛之臣，不懈於內；忠志之士，\\\n",
    "忘身於外者，蓋追先帝之殊遇，欲報之於陛下也。誠宜開張聖聽，以光先帝遺德，恢弘志士之氣；不宜妄自菲薄，引喻失義，以塞忠諫\\\n",
    "之路也。宮中府中，俱為一體，陟罰臧否，不宜異同。若有作姦犯科，及為忠善者，宜付有司，論其刑賞，以昭陛下平明之治，不宜篇私\\\n",
    "，使內外異法也。\\n    侍中、侍郎郭攸之、費褘、董允等，此皆良實，志慮忠純，是以先帝簡拔以遺陛下。愚以為宮中之事，事無大小，悉以\\\n",
    "咨之，然後施行，必能裨補闕漏，有所廣益。將軍向寵，性行淑均，曉暢軍事，試用於昔日，先帝稱之曰「能」，是以眾議舉寵為督。愚以\\\n",
    "為營中之事，悉以咨之，必能使行陣和睦，優劣得所。親賢臣，遠小人，此先漢所以興隆也；親小人，遠賢臣，此後漢所以傾頹也。先帝在\\\n",
    "時，每與臣論此事，未嘗不歎息痛恨於桓、靈也。侍中、尚書、長史；參軍，此悉貞良死節之臣也，願陛下親之信之，則漢室之隆，可計日\\\n",
    "而待也。\\n    臣本布衣，躬耕於南陽，苟全性命於亂世，不求聞達於諸侯。先帝不以臣卑鄙，猥自枉屈，三顧臣於草廬之中，諮臣以當世之事\\\n",
    "，由是感激，遂許先帝以驅馳。後值傾覆，受任於敗軍之際，奉命於危難之間，爾來二十有一年矣！先帝知臣謹慎，故臨崩寄臣以大事也。\\\n",
    "受命以來，夙夜憂勤，恐託付不效，以傷先帝之明。故五月渡瀘，深入不毛。今南方已定，兵甲已足，當獎率三軍，北定中原，庶竭駑鈍，\\\n",
    "攘除奸凶，興復漢室，還於舊都；此臣所以報先帝而忠陛下之職分也。至於斟酌損益，進盡忠言，則攸之、褘、允之任也。\\n    願陛下託臣以\\\n",
    "討賊興復之效；不效，則治臣之罪，以告先帝之靈。若無興德之言，則戮允等，以彰其慢。陛下亦宜自課，以諮諏善道，察納雅言，深追先\\\n",
    "帝遺詔，臣不勝受恩感激。\\n    今當遠離，臨表涕泣，不知所云。'\n",
    "\n",
    "TEXT = ''\n",
    "M = []\n",
    "M_encode = []\n",
    "M_decode = []\n",
    "U = []\n",
    "U_encode = []\n",
    "U_decode = []\n",
    "block = len(str(N))-1\n",
    "last_block = translate(text, M, U, block)\n",
    "\n",
    "encode(M, M_encode, e, N)\n",
    "encode(U, U_encode, e, N)\n",
    "\n",
    "decode(M_encode, M_decode , d, N)\n",
    "decode(U_encode, U_decode , d, N)\n",
    "\n",
    "TEXT = back_translate(M_decode, U_decode, block, last_block)\n",
    "print(TEXT)\n",
    "\n",
    "#print(M_decode)\n",
    "#print(U_decode)"
   ]
  },
  {
   "cell_type": "code",
   "execution_count": 69,
   "metadata": {},
   "outputs": [
    {
     "name": "stdout",
     "output_type": "stream",
     "text": [
      "Build me a son, O Lord, who will be strong enough to know when he is weak, and brave enough to face himself when he is afraid;\n",
      "one who will be proud and unbending in honest defeat, and humble and gentle in victory.\n",
      "\n",
      "Build me a son whose wishes will not take the place of deeds; a son who will know Thee…… and that to know himself is the foundation stone of knowledge.\n",
      "\n",
      "Lead him, I pray, not in the path of ease and comfort, but under the stress and spur of difficulties and challenge.\n",
      "Here, let him learn to stand up in the storm; here let him learn compassion for those that fail.\n",
      "\n",
      "Build me a son whose heart will be clear, whose goal will be high, a son who will master himself  before he seeks to master other men;\n",
      "one who will reach into the future, yet never forget the past.\n",
      "\n",
      "And after all these things are his, add, I pray, enough of a sense of humor, so that he may always be serious, yet never take himself too seriously.\n",
      "\n",
      "Give him humility, so that he may always remember the simplicity of true greatness, the open mind of true wisdom and the meekness of true strength.\n",
      "\n",
      "Then, I, his father will dare to whisper, \"I have not lived in vain.\n",
      "\n"
     ]
    }
   ],
   "source": [
    "text = 'Build me a son, O Lord, who will be strong enough to know when he is weak, and brave enough to face himself when he is afraid;\\n\\\n",
    "one who will be proud and unbending in honest defeat, and humble and gentle in victory.\\n\\n\\\n",
    "Build me a son whose wishes will not take the place of deeds; a son who will know Thee…… and that to know himself is the foundation stone of knowledge.\\n\\n\\\n",
    "Lead him, I pray, not in the path of ease and comfort, but under the stress and spur of difficulties and challenge.\\n\\\n",
    "Here, let him learn to stand up in the storm; here let him learn compassion for those that fail.\\n\\n\\\n",
    "Build me a son whose heart will be clear, whose goal will be high, a son who will master himself  before he seeks to master other men;\\n\\\n",
    "one who will reach into the future, yet never forget the past.\\n\\n\\\n",
    "And after all these things are his, add, I pray, enough of a sense of humor, so that he may always be serious, yet never take himself too seriously.\\n\\n\\\n",
    "Give him humility, so that he may always remember the simplicity of true greatness, the open mind of true wisdom and the meekness of true strength.\\n\\n\\\n",
    "Then, I, his father will dare to whisper, \"I have not lived in vain.\\n'\n",
    "\n",
    "TEXT = ''\n",
    "M = []\n",
    "M_encode = []\n",
    "M_decode = []\n",
    "U = []\n",
    "U_encode = []\n",
    "U_decode = []\n",
    "block = len(str(N))-1\n",
    "last_block = translate(text, M, U, block)\n",
    "\n",
    "encode(M, M_encode, e, N)\n",
    "encode(U, U_encode, e, N)\n",
    "\n",
    "decode(M_encode, M_decode , d, N)\n",
    "decode(U_encode, U_decode , d, N)\n",
    "\n",
    "TEXT = back_translate(M_decode, U_decode, block, last_block)\n",
    "print(TEXT)\n",
    "\n",
    "#print(M_decode)\n",
    "#print(U_decode)\n"
   ]
  },
  {
   "cell_type": "code",
   "execution_count": null,
   "metadata": {},
   "outputs": [],
   "source": []
  }
 ],
 "metadata": {
  "kernelspec": {
   "display_name": "Python 3",
   "language": "python",
   "name": "python3"
  },
  "language_info": {
   "codemirror_mode": {
    "name": "ipython",
    "version": 3
   },
   "file_extension": ".py",
   "mimetype": "text/x-python",
   "name": "python",
   "nbconvert_exporter": "python",
   "pygments_lexer": "ipython3",
   "version": "3.7.1"
  },
  "varInspector": {
   "cols": {
    "lenName": 16,
    "lenType": 16,
    "lenVar": 40
   },
   "kernels_config": {
    "python": {
     "delete_cmd_postfix": "",
     "delete_cmd_prefix": "del ",
     "library": "var_list.py",
     "varRefreshCmd": "print(var_dic_list())"
    },
    "r": {
     "delete_cmd_postfix": ") ",
     "delete_cmd_prefix": "rm(",
     "library": "var_list.r",
     "varRefreshCmd": "cat(var_dic_list()) "
    }
   },
   "position": {
    "height": "144px",
    "left": "1166px",
    "right": "20px",
    "top": "121px",
    "width": "350px"
   },
   "types_to_exclude": [
    "module",
    "function",
    "builtin_function_or_method",
    "instance",
    "_Feature"
   ],
   "window_display": false
  }
 },
 "nbformat": 4,
 "nbformat_minor": 2
}
