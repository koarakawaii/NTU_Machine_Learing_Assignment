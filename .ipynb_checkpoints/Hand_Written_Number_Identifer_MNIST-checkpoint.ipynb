{
 "cells": [
  {
   "cell_type": "markdown",
   "metadata": {},
   "source": [
    "# 想用少少(好吧 其實也不少)的神經元比較不同Loss Function以及Activation Function對訓練準確率的影響"
   ]
  },
  {
   "cell_type": "code",
   "execution_count": 97,
   "metadata": {},
   "outputs": [
    {
     "name": "stdout",
     "output_type": "stream",
     "text": [
      "env: KERAS_BACKEND=tensorflow\n"
     ]
    }
   ],
   "source": [
    "import numpy as np\n",
    "import matplotlib.pyplot as plt\n",
    "import tensorflow\n",
    "\n",
    "%matplotlib inline\n",
    "%env KERAS_BACKEND = tensorflow\n",
    "\n",
    "from keras.datasets import mnist\n",
    "from keras.utils import np_utils\n",
    "from IPython.display import clear_output\n",
    "from ipywidgets import interact_manual"
   ]
  },
  {
   "cell_type": "code",
   "execution_count": 2,
   "metadata": {},
   "outputs": [],
   "source": [
    "(x_train,y_train),(x_test,y_test) = mnist.load_data()"
   ]
  },
  {
   "cell_type": "code",
   "execution_count": 3,
   "metadata": {},
   "outputs": [
    {
     "data": {
      "text/plain": [
       "10000"
      ]
     },
     "execution_count": 3,
     "metadata": {},
     "output_type": "execute_result"
    }
   ],
   "source": [
    "len(x_test)"
   ]
  },
  {
   "cell_type": "code",
   "execution_count": 4,
   "metadata": {},
   "outputs": [],
   "source": [
    "x_train_norm = np.zeros((60000,28,28))\n",
    "x_test_norm = np.zeros((10000,28,28))\n",
    "for i,element in enumerate(x_train):\n",
    "    x_train_norm[i] = (element-element.min())/(element.max()-element.min())\n",
    "for i,element in enumerate(x_test):\n",
    "    x_test_norm[i] = (element-element.min())/(element.max()-element.min())"
   ]
  },
  {
   "cell_type": "code",
   "execution_count": 5,
   "metadata": {},
   "outputs": [
    {
     "data": {
      "text/plain": [
       "1.0"
      ]
     },
     "execution_count": 5,
     "metadata": {},
     "output_type": "execute_result"
    }
   ],
   "source": [
    "x_test_norm[np.random.randint(1)].max()"
   ]
  },
  {
   "cell_type": "code",
   "execution_count": 6,
   "metadata": {},
   "outputs": [],
   "source": [
    "x_train_norm = x_train_norm.reshape(60000,28*28)\n",
    "x_test_norm = x_test_norm.reshape(10000,28*28)"
   ]
  },
  {
   "cell_type": "code",
   "execution_count": 7,
   "metadata": {},
   "outputs": [],
   "source": [
    "y_train = np_utils.to_categorical(y_train,10)\n",
    "y_test = np_utils.to_categorical(y_test,10)"
   ]
  },
  {
   "cell_type": "code",
   "execution_count": 8,
   "metadata": {},
   "outputs": [
    {
     "name": "stdout",
     "output_type": "stream",
     "text": [
      "(60000, 784)\n",
      "(60000, 10)\n",
      "(10000, 784)\n",
      "(10000, 10)\n"
     ]
    }
   ],
   "source": [
    "print(x_train_norm.shape)\n",
    "print(y_train.shape)\n",
    "print(x_test_norm.shape)\n",
    "print(y_test.shape)"
   ]
  },
  {
   "cell_type": "code",
   "execution_count": 9,
   "metadata": {},
   "outputs": [
    {
     "name": "stdout",
     "output_type": "stream",
     "text": [
      "[0. 1. 0. 0. 0. 0. 0. 0. 0. 0.]\n"
     ]
    },
    {
     "data": {
      "image/png": "[encoded data removed]",
      "text/plain": [
       "<Figure size 432x288 with 1 Axes>"
      ]
     },
     "metadata": {
      "needs_background": "light"
     },
     "output_type": "display_data"
    }
   ],
   "source": [
    "print(y_train[2784])\n",
    "plt.imshow(x_train[2784], cmap = 'Greys')\n",
    "plt.show()"
   ]
  },
  {
   "cell_type": "code",
   "execution_count": 10,
   "metadata": {},
   "outputs": [],
   "source": [
    "from keras.models import Sequential\n",
    "from keras.layers import Dense, Activation\n",
    "from keras.optimizers import SGD\n",
    "from keras import losses"
   ]
  },
  {
   "cell_type": "markdown",
   "metadata": {},
   "source": [
    "## 做兩層神經網路 第一層5個神經元 第二層10個神經元 因為想看loss function(Categorical CrossEntropy, Mean Squared Error)以及activation function(Relu, Sigmoid) 的影響 所以稍微用少一點神經元，並用epchos = 50 訓練"
   ]
  },
  {
   "cell_type": "markdown",
   "metadata": {},
   "source": [
    "## Categorical CrossEntropy + Relu"
   ]
  },
  {
   "cell_type": "code",
   "execution_count": 11,
   "metadata": {},
   "outputs": [
    {
     "name": "stdout",
     "output_type": "stream",
     "text": [
      "WARNING:tensorflow:From E:\\Anaconda\\lib\\site-packages\\tensorflow\\python\\framework\\op_def_library.py:263: colocate_with (from tensorflow.python.framework.ops) is deprecated and will be removed in a future version.\n",
      "Instructions for updating:\n",
      "Colocations handled automatically by placer.\n"
     ]
    }
   ],
   "source": [
    "model_1 = Sequential()\n",
    "model_1.add(Dense(5, input_dim = 28*28))\n",
    "model_1.add(Activation('relu'))\n",
    "model_1.add(Dense(10))\n",
    "model_1.add(Activation('relu'))\n",
    "model_1.add(Dense(10))\n",
    "model_1.add(Activation('softmax'))"
   ]
  },
  {
   "cell_type": "code",
   "execution_count": 12,
   "metadata": {},
   "outputs": [],
   "source": [
    "#model.compile(loss = 'mse', optimizer=SGD(lr=0.07), metrics=['accuracy'])\n",
    "model_1.compile(loss = losses.categorical_crossentropy, optimizer=SGD(lr=0.1), metrics=['accuracy'])"
   ]
  },
  {
   "cell_type": "code",
   "execution_count": 13,
   "metadata": {},
   "outputs": [
    {
     "name": "stdout",
     "output_type": "stream",
     "text": [
      "_________________________________________________________________\n",
      "Layer (type)                 Output Shape              Param #   \n",
      "=================================================================\n",
      "dense_1 (Dense)              (None, 5)                 3925      \n",
      "_________________________________________________________________\n",
      "activation_1 (Activation)    (None, 5)                 0         \n",
      "_________________________________________________________________\n",
      "dense_2 (Dense)              (None, 10)                60        \n",
      "_________________________________________________________________\n",
      "activation_2 (Activation)    (None, 10)                0         \n",
      "_________________________________________________________________\n",
      "dense_3 (Dense)              (None, 10)                110       \n",
      "_________________________________________________________________\n",
      "activation_3 (Activation)    (None, 10)                0         \n",
      "=================================================================\n",
      "Total params: 4,095\n",
      "Trainable params: 4,095\n",
      "Non-trainable params: 0\n",
      "_________________________________________________________________\n"
     ]
    }
   ],
   "source": [
    "model_1.summary() # (784+1)*5 = 3925; 10*5 +10 = 60; 10*10 + 10 = 110"
   ]
  },
  {
   "cell_type": "code",
   "execution_count": 14,
   "metadata": {
    "scrolled": true
   },
   "outputs": [
    {
     "name": "stdout",
     "output_type": "stream",
     "text": [
      "WARNING:tensorflow:From E:\\Anaconda\\lib\\site-packages\\tensorflow\\python\\ops\\math_ops.py:3066: to_int32 (from tensorflow.python.ops.math_ops) is deprecated and will be removed in a future version.\n",
      "Instructions for updating:\n",
      "Use tf.cast instead.\n",
      "Train on 60000 samples, validate on 10000 samples\n",
      "Epoch 1/50\n",
      "60000/60000 [==============================] - 1s 21us/step - loss: 0.8658 - acc: 0.7186 - val_loss: 0.5012 - val_acc: 0.8512\n",
      "Epoch 2/50\n",
      "60000/60000 [==============================] - 1s 20us/step - loss: 0.4951 - acc: 0.8531 - val_loss: 0.4389 - val_acc: 0.8680\n",
      "Epoch 3/50\n",
      "60000/60000 [==============================] - 1s 19us/step - loss: 0.4461 - acc: 0.8680 - val_loss: 0.4091 - val_acc: 0.8792\n",
      "Epoch 4/50\n",
      "60000/60000 [==============================] - 1s 18us/step - loss: 0.4187 - acc: 0.8757 - val_loss: 0.3986 - val_acc: 0.8850\n",
      "Epoch 5/50\n",
      "60000/60000 [==============================] - 1s 19us/step - loss: 0.3985 - acc: 0.8842 - val_loss: 0.3986 - val_acc: 0.8826\n",
      "Epoch 6/50\n",
      "60000/60000 [==============================] - 1s 18us/step - loss: 0.3843 - acc: 0.8879 - val_loss: 0.3741 - val_acc: 0.8921\n",
      "Epoch 7/50\n",
      "60000/60000 [==============================] - 1s 18us/step - loss: 0.3776 - acc: 0.8902 - val_loss: 0.3969 - val_acc: 0.8774\n",
      "Epoch 8/50\n",
      "60000/60000 [==============================] - 1s 20us/step - loss: 0.3678 - acc: 0.8938 - val_loss: 0.3679 - val_acc: 0.8858\n",
      "Epoch 9/50\n",
      "60000/60000 [==============================] - 1s 21us/step - loss: 0.3639 - acc: 0.8944 - val_loss: 0.3488 - val_acc: 0.8985\n",
      "Epoch 10/50\n",
      "60000/60000 [==============================] - 1s 21us/step - loss: 0.3588 - acc: 0.8962 - val_loss: 0.3679 - val_acc: 0.8942\n",
      "Epoch 11/50\n",
      "60000/60000 [==============================] - 1s 19us/step - loss: 0.3534 - acc: 0.8974 - val_loss: 0.3540 - val_acc: 0.8955\n",
      "Epoch 12/50\n",
      "60000/60000 [==============================] - 1s 20us/step - loss: 0.3492 - acc: 0.8983 - val_loss: 0.3458 - val_acc: 0.8989\n",
      "Epoch 13/50\n",
      "60000/60000 [==============================] - 1s 19us/step - loss: 0.3462 - acc: 0.8995 - val_loss: 0.3663 - val_acc: 0.8925\n",
      "Epoch 14/50\n",
      "60000/60000 [==============================] - 1s 17us/step - loss: 0.3423 - acc: 0.8997 - val_loss: 0.3465 - val_acc: 0.8993\n",
      "Epoch 15/50\n",
      "60000/60000 [==============================] - 1s 17us/step - loss: 0.3401 - acc: 0.9011 - val_loss: 0.3615 - val_acc: 0.8975\n",
      "Epoch 16/50\n",
      "60000/60000 [==============================] - 1s 17us/step - loss: 0.3369 - acc: 0.9023 - val_loss: 0.3399 - val_acc: 0.9006\n",
      "Epoch 17/50\n",
      "60000/60000 [==============================] - 1s 18us/step - loss: 0.3352 - acc: 0.9028 - val_loss: 0.3513 - val_acc: 0.8955\n",
      "Epoch 18/50\n",
      "60000/60000 [==============================] - 1s 19us/step - loss: 0.3346 - acc: 0.9028 - val_loss: 0.3687 - val_acc: 0.8923\n",
      "Epoch 19/50\n",
      "60000/60000 [==============================] - 1s 18us/step - loss: 0.3327 - acc: 0.9032 - val_loss: 0.3319 - val_acc: 0.9028\n",
      "Epoch 20/50\n",
      "60000/60000 [==============================] - 1s 19us/step - loss: 0.3317 - acc: 0.9040 - val_loss: 0.3540 - val_acc: 0.8971\n",
      "Epoch 21/50\n",
      "60000/60000 [==============================] - 1s 18us/step - loss: 0.3292 - acc: 0.9034 - val_loss: 0.3549 - val_acc: 0.8965\n",
      "Epoch 22/50\n",
      "60000/60000 [==============================] - 1s 19us/step - loss: 0.3263 - acc: 0.9042 - val_loss: 0.3380 - val_acc: 0.9024\n",
      "Epoch 23/50\n",
      "60000/60000 [==============================] - 1s 19us/step - loss: 0.3256 - acc: 0.9056 - val_loss: 0.3487 - val_acc: 0.8987\n",
      "Epoch 24/50\n",
      "60000/60000 [==============================] - 1s 18us/step - loss: 0.3227 - acc: 0.9062 - val_loss: 0.3518 - val_acc: 0.8961\n",
      "Epoch 25/50\n",
      "60000/60000 [==============================] - 1s 18us/step - loss: 0.3237 - acc: 0.9056 - val_loss: 0.3467 - val_acc: 0.8993\n",
      "Epoch 26/50\n",
      "60000/60000 [==============================] - 1s 18us/step - loss: 0.3226 - acc: 0.9046 - val_loss: 0.3337 - val_acc: 0.9012\n",
      "Epoch 27/50\n",
      "60000/60000 [==============================] - 1s 18us/step - loss: 0.3203 - acc: 0.9062 - val_loss: 0.3541 - val_acc: 0.8975\n",
      "Epoch 28/50\n",
      "60000/60000 [==============================] - 1s 17us/step - loss: 0.3202 - acc: 0.9061 - val_loss: 0.3310 - val_acc: 0.9041\n",
      "Epoch 29/50\n",
      "60000/60000 [==============================] - 1s 17us/step - loss: 0.3172 - acc: 0.9068 - val_loss: 0.3308 - val_acc: 0.9048\n",
      "Epoch 30/50\n",
      "60000/60000 [==============================] - 1s 17us/step - loss: 0.3159 - acc: 0.9075 - val_loss: 0.3356 - val_acc: 0.9006\n",
      "Epoch 31/50\n",
      "60000/60000 [==============================] - 1s 17us/step - loss: 0.3160 - acc: 0.9075 - val_loss: 0.3533 - val_acc: 0.8959\n",
      "Epoch 32/50\n",
      "60000/60000 [==============================] - 1s 18us/step - loss: 0.3150 - acc: 0.9071 - val_loss: 0.3544 - val_acc: 0.8954\n",
      "Epoch 33/50\n",
      "60000/60000 [==============================] - 1s 17us/step - loss: 0.3139 - acc: 0.9082 - val_loss: 0.3315 - val_acc: 0.9056\n",
      "Epoch 34/50\n",
      "60000/60000 [==============================] - 1s 18us/step - loss: 0.3131 - acc: 0.9081 - val_loss: 0.3455 - val_acc: 0.8962\n",
      "Epoch 35/50\n",
      "60000/60000 [==============================] - 1s 17us/step - loss: 0.3109 - acc: 0.9082 - val_loss: 0.3245 - val_acc: 0.9071\n",
      "Epoch 36/50\n",
      "60000/60000 [==============================] - 1s 17us/step - loss: 0.3094 - acc: 0.9081 - val_loss: 0.3190 - val_acc: 0.9094\n",
      "Epoch 37/50\n",
      "60000/60000 [==============================] - 1s 18us/step - loss: 0.3100 - acc: 0.9081 - val_loss: 0.3276 - val_acc: 0.9062\n",
      "Epoch 38/50\n",
      "60000/60000 [==============================] - 1s 18us/step - loss: 0.3083 - acc: 0.9089 - val_loss: 0.3303 - val_acc: 0.9029\n",
      "Epoch 39/50\n",
      "60000/60000 [==============================] - 1s 18us/step - loss: 0.3087 - acc: 0.9089 - val_loss: 0.3197 - val_acc: 0.9086\n",
      "Epoch 40/50\n",
      "60000/60000 [==============================] - 1s 18us/step - loss: 0.3075 - acc: 0.9095 - val_loss: 0.3270 - val_acc: 0.9060\n",
      "Epoch 41/50\n",
      "60000/60000 [==============================] - 1s 17us/step - loss: 0.3074 - acc: 0.9097 - val_loss: 0.3187 - val_acc: 0.9079\n",
      "Epoch 42/50\n",
      "60000/60000 [==============================] - 1s 19us/step - loss: 0.3046 - acc: 0.9099 - val_loss: 0.3252 - val_acc: 0.9035\n",
      "Epoch 43/50\n",
      "60000/60000 [==============================] - 1s 18us/step - loss: 0.3066 - acc: 0.9093 - val_loss: 0.3261 - val_acc: 0.9072\n",
      "Epoch 44/50\n",
      "60000/60000 [==============================] - 1s 19us/step - loss: 0.3044 - acc: 0.9092 - val_loss: 0.3442 - val_acc: 0.8998\n",
      "Epoch 45/50\n",
      "60000/60000 [==============================] - 1s 19us/step - loss: 0.3052 - acc: 0.9090 - val_loss: 0.3363 - val_acc: 0.9005\n",
      "Epoch 46/50\n",
      "60000/60000 [==============================] - 1s 19us/step - loss: 0.3040 - acc: 0.9082 - val_loss: 0.3157 - val_acc: 0.9104\n",
      "Epoch 47/50\n",
      "60000/60000 [==============================] - 1s 18us/step - loss: 0.3026 - acc: 0.9100 - val_loss: 0.3309 - val_acc: 0.9043\n",
      "Epoch 48/50\n",
      "60000/60000 [==============================] - 1s 18us/step - loss: 0.3028 - acc: 0.9109 - val_loss: 0.3179 - val_acc: 0.9080\n",
      "Epoch 49/50\n",
      "60000/60000 [==============================] - 1s 19us/step - loss: 0.3028 - acc: 0.9099 - val_loss: 0.3129 - val_acc: 0.9113\n",
      "Epoch 50/50\n",
      "60000/60000 [==============================] - 1s 19us/step - loss: 0.3021 - acc: 0.9099 - val_loss: 0.3213 - val_acc: 0.9056\n"
     ]
    }
   ],
   "source": [
    "model_cs_relu = model_1.fit(x_train_norm,y_train, batch_size=100, epochs=50, verbose=1, validation_data=(x_test_norm,y_test))"
   ]
  },
  {
   "cell_type": "markdown",
   "metadata": {},
   "source": [
    "## Categorical CrossEntropy + Sigmoid"
   ]
  },
  {
   "cell_type": "code",
   "execution_count": 16,
   "metadata": {},
   "outputs": [],
   "source": [
    "model_2 = Sequential()\n",
    "model_2.add(Dense(5, input_dim = 28*28))\n",
    "model_2.add(Activation('sigmoid'))\n",
    "model_2.add(Dense(10))\n",
    "model_2.add(Activation('sigmoid'))\n",
    "model_2.add(Dense(10))\n",
    "model_2.add(Activation('softmax'))"
   ]
  },
  {
   "cell_type": "code",
   "execution_count": 23,
   "metadata": {},
   "outputs": [],
   "source": [
    "model_2.compile(loss = losses.categorical_crossentropy, optimizer=SGD(lr=0.1), metrics=['accuracy'])"
   ]
  },
  {
   "cell_type": "code",
   "execution_count": 24,
   "metadata": {},
   "outputs": [
    {
     "name": "stdout",
     "output_type": "stream",
     "text": [
      "_________________________________________________________________\n",
      "Layer (type)                 Output Shape              Param #   \n",
      "=================================================================\n",
      "dense_4 (Dense)              (None, 5)                 3925      \n",
      "_________________________________________________________________\n",
      "activation_4 (Activation)    (None, 5)                 0         \n",
      "_________________________________________________________________\n",
      "dense_5 (Dense)              (None, 10)                60        \n",
      "_________________________________________________________________\n",
      "activation_5 (Activation)    (None, 10)                0         \n",
      "_________________________________________________________________\n",
      "dense_6 (Dense)              (None, 10)                110       \n",
      "_________________________________________________________________\n",
      "activation_6 (Activation)    (None, 10)                0         \n",
      "=================================================================\n",
      "Total params: 4,095\n",
      "Trainable params: 4,095\n",
      "Non-trainable params: 0\n",
      "_________________________________________________________________\n"
     ]
    }
   ],
   "source": [
    "model_2.summary()"
   ]
  },
  {
   "cell_type": "code",
   "execution_count": 25,
   "metadata": {
    "scrolled": true
   },
   "outputs": [
    {
     "name": "stdout",
     "output_type": "stream",
     "text": [
      "Train on 60000 samples, validate on 10000 samples\n",
      "Epoch 1/50\n",
      "60000/60000 [==============================] - 1s 23us/step - loss: 2.2025 - acc: 0.2170 - val_loss: 1.9945 - val_acc: 0.2421\n",
      "Epoch 2/50\n",
      "60000/60000 [==============================] - 1s 18us/step - loss: 1.7754 - acc: 0.3820 - val_loss: 1.5693 - val_acc: 0.5253\n",
      "Epoch 3/50\n",
      "60000/60000 [==============================] - 1s 19us/step - loss: 1.3566 - acc: 0.6475 - val_loss: 1.1612 - val_acc: 0.7236\n",
      "Epoch 4/50\n",
      "60000/60000 [==============================] - 1s 17us/step - loss: 1.0320 - acc: 0.7505 - val_loss: 0.9148 - val_acc: 0.7860\n",
      "Epoch 5/50\n",
      "60000/60000 [==============================] - 1s 17us/step - loss: 0.8517 - acc: 0.7906 - val_loss: 0.7831 - val_acc: 0.8034\n",
      "Epoch 6/50\n",
      "60000/60000 [==============================] - 1s 17us/step - loss: 0.7520 - acc: 0.8084 - val_loss: 0.7105 - val_acc: 0.8183\n",
      "Epoch 7/50\n",
      "60000/60000 [==============================] - 1s 17us/step - loss: 0.6914 - acc: 0.8188 - val_loss: 0.6582 - val_acc: 0.8308\n",
      "Epoch 8/50\n",
      "60000/60000 [==============================] - 1s 17us/step - loss: 0.6500 - acc: 0.8279 - val_loss: 0.6253 - val_acc: 0.8360\n",
      "Epoch 9/50\n",
      "60000/60000 [==============================] - 1s 17us/step - loss: 0.6181 - acc: 0.8345 - val_loss: 0.5961 - val_acc: 0.8408\n",
      "Epoch 10/50\n",
      "60000/60000 [==============================] - 1s 19us/step - loss: 0.5930 - acc: 0.8396 - val_loss: 0.5720 - val_acc: 0.8451\n",
      "Epoch 11/50\n",
      "60000/60000 [==============================] - 1s 19us/step - loss: 0.5709 - acc: 0.8435 - val_loss: 0.5585 - val_acc: 0.8471\n",
      "Epoch 12/50\n",
      "60000/60000 [==============================] - 1s 19us/step - loss: 0.5532 - acc: 0.8468 - val_loss: 0.5412 - val_acc: 0.8507\n",
      "Epoch 13/50\n",
      "60000/60000 [==============================] - 1s 23us/step - loss: 0.5373 - acc: 0.8495 - val_loss: 0.5276 - val_acc: 0.8548\n",
      "Epoch 14/50\n",
      "60000/60000 [==============================] - 1s 21us/step - loss: 0.5229 - acc: 0.8532 - val_loss: 0.5200 - val_acc: 0.8550\n",
      "Epoch 15/50\n",
      "60000/60000 [==============================] - 1s 19us/step - loss: 0.5101 - acc: 0.8563 - val_loss: 0.5025 - val_acc: 0.8575\n",
      "Epoch 16/50\n",
      "60000/60000 [==============================] - 1s 17us/step - loss: 0.4974 - acc: 0.8585 - val_loss: 0.4982 - val_acc: 0.8568\n",
      "Epoch 17/50\n",
      "60000/60000 [==============================] - 1s 17us/step - loss: 0.4865 - acc: 0.8609 - val_loss: 0.4836 - val_acc: 0.8610\n",
      "Epoch 18/50\n",
      "60000/60000 [==============================] - 1s 17us/step - loss: 0.4764 - acc: 0.8641 - val_loss: 0.4724 - val_acc: 0.8633\n",
      "Epoch 19/50\n",
      "60000/60000 [==============================] - 1s 18us/step - loss: 0.4664 - acc: 0.8655 - val_loss: 0.4693 - val_acc: 0.8627\n",
      "Epoch 20/50\n",
      "60000/60000 [==============================] - 1s 18us/step - loss: 0.4570 - acc: 0.8677 - val_loss: 0.4532 - val_acc: 0.8695\n",
      "Epoch 21/50\n",
      "60000/60000 [==============================] - 1s 18us/step - loss: 0.4498 - acc: 0.8700 - val_loss: 0.4488 - val_acc: 0.8674\n",
      "Epoch 22/50\n",
      "60000/60000 [==============================] - 1s 18us/step - loss: 0.4422 - acc: 0.8717 - val_loss: 0.4368 - val_acc: 0.8727\n",
      "Epoch 23/50\n",
      "60000/60000 [==============================] - 1s 19us/step - loss: 0.4363 - acc: 0.8734 - val_loss: 0.4338 - val_acc: 0.8731\n",
      "Epoch 24/50\n",
      "60000/60000 [==============================] - 1s 21us/step - loss: 0.4287 - acc: 0.8758 - val_loss: 0.4313 - val_acc: 0.8750\n",
      "Epoch 25/50\n",
      "60000/60000 [==============================] - 1s 21us/step - loss: 0.4232 - acc: 0.8772 - val_loss: 0.4209 - val_acc: 0.8760\n",
      "Epoch 26/50\n",
      "60000/60000 [==============================] - 1s 19us/step - loss: 0.4177 - acc: 0.8793 - val_loss: 0.4196 - val_acc: 0.8788\n",
      "Epoch 27/50\n",
      "60000/60000 [==============================] - 1s 21us/step - loss: 0.4130 - acc: 0.8800 - val_loss: 0.4125 - val_acc: 0.8787\n",
      "Epoch 28/50\n",
      "60000/60000 [==============================] - 1s 22us/step - loss: 0.4095 - acc: 0.8810 - val_loss: 0.4055 - val_acc: 0.8826\n",
      "Epoch 29/50\n",
      "60000/60000 [==============================] - 1s 20us/step - loss: 0.4050 - acc: 0.8821 - val_loss: 0.3995 - val_acc: 0.8853\n",
      "Epoch 30/50\n",
      "60000/60000 [==============================] - 1s 18us/step - loss: 0.4004 - acc: 0.8841 - val_loss: 0.4049 - val_acc: 0.8831\n",
      "Epoch 31/50\n",
      "60000/60000 [==============================] - 1s 21us/step - loss: 0.3976 - acc: 0.8844 - val_loss: 0.3949 - val_acc: 0.8858\n",
      "Epoch 32/50\n",
      "60000/60000 [==============================] - 1s 20us/step - loss: 0.3938 - acc: 0.8860 - val_loss: 0.4007 - val_acc: 0.8837\n",
      "Epoch 33/50\n",
      "60000/60000 [==============================] - 1s 21us/step - loss: 0.3916 - acc: 0.8865 - val_loss: 0.3927 - val_acc: 0.8858\n",
      "Epoch 34/50\n",
      "60000/60000 [==============================] - 1s 19us/step - loss: 0.3883 - acc: 0.8866 - val_loss: 0.3883 - val_acc: 0.8882\n",
      "Epoch 35/50\n",
      "60000/60000 [==============================] - 1s 19us/step - loss: 0.3867 - acc: 0.8877 - val_loss: 0.4011 - val_acc: 0.8829\n",
      "Epoch 36/50\n",
      "60000/60000 [==============================] - 1s 19us/step - loss: 0.3835 - acc: 0.8885 - val_loss: 0.3895 - val_acc: 0.8868\n",
      "Epoch 37/50\n",
      "60000/60000 [==============================] - 1s 18us/step - loss: 0.3810 - acc: 0.8891 - val_loss: 0.3820 - val_acc: 0.8895\n",
      "Epoch 38/50\n",
      "60000/60000 [==============================] - 1s 18us/step - loss: 0.3792 - acc: 0.8896 - val_loss: 0.3881 - val_acc: 0.8857\n",
      "Epoch 39/50\n",
      "60000/60000 [==============================] - 1s 19us/step - loss: 0.3773 - acc: 0.8904 - val_loss: 0.3834 - val_acc: 0.8886\n",
      "Epoch 40/50\n",
      "60000/60000 [==============================] - 1s 18us/step - loss: 0.3758 - acc: 0.8907 - val_loss: 0.3886 - val_acc: 0.8856\n",
      "Epoch 41/50\n",
      "60000/60000 [==============================] - 1s 18us/step - loss: 0.3742 - acc: 0.8911 - val_loss: 0.3787 - val_acc: 0.8890\n",
      "Epoch 42/50\n",
      "60000/60000 [==============================] - 1s 19us/step - loss: 0.3723 - acc: 0.8917 - val_loss: 0.3945 - val_acc: 0.8828\n",
      "Epoch 43/50\n",
      "60000/60000 [==============================] - 1s 18us/step - loss: 0.3709 - acc: 0.8921 - val_loss: 0.3796 - val_acc: 0.8895\n",
      "Epoch 44/50\n",
      "60000/60000 [==============================] - 1s 18us/step - loss: 0.3695 - acc: 0.8932 - val_loss: 0.3826 - val_acc: 0.8876\n",
      "Epoch 45/50\n",
      "60000/60000 [==============================] - 1s 18us/step - loss: 0.3680 - acc: 0.8926 - val_loss: 0.3724 - val_acc: 0.8885\n",
      "Epoch 46/50\n",
      "60000/60000 [==============================] - 1s 18us/step - loss: 0.3670 - acc: 0.8928 - val_loss: 0.3788 - val_acc: 0.8885\n",
      "Epoch 47/50\n",
      "60000/60000 [==============================] - 1s 18us/step - loss: 0.3667 - acc: 0.8935 - val_loss: 0.3788 - val_acc: 0.8897\n",
      "Epoch 48/50\n",
      "60000/60000 [==============================] - 1s 24us/step - loss: 0.3643 - acc: 0.8946 - val_loss: 0.3770 - val_acc: 0.8891\n",
      "Epoch 49/50\n",
      "60000/60000 [==============================] - 2s 26us/step - loss: 0.3636 - acc: 0.8941 - val_loss: 0.3737 - val_acc: 0.8866\n",
      "Epoch 50/50\n",
      "60000/60000 [==============================] - 1s 25us/step - loss: 0.3626 - acc: 0.8944 - val_loss: 0.3745 - val_acc: 0.8882\n"
     ]
    }
   ],
   "source": [
    "model_cs_sigmoid = model_2.fit(x_train_norm, y_train, batch_size=100 ,epochs=50, verbose=1, validation_data=(x_test_norm,y_test))"
   ]
  },
  {
   "cell_type": "markdown",
   "metadata": {},
   "source": [
    "## Mean Squared Error + Relu"
   ]
  },
  {
   "cell_type": "code",
   "execution_count": 90,
   "metadata": {},
   "outputs": [
    {
     "name": "stdout",
     "output_type": "stream",
     "text": [
      "_________________________________________________________________\n",
      "Layer (type)                 Output Shape              Param #   \n",
      "=================================================================\n",
      "dense_220 (Dense)            (None, 5)                 3925      \n",
      "_________________________________________________________________\n",
      "activation_220 (Activation)  (None, 5)                 0         \n",
      "_________________________________________________________________\n",
      "dense_221 (Dense)            (None, 10)                60        \n",
      "_________________________________________________________________\n",
      "activation_221 (Activation)  (None, 10)                0         \n",
      "_________________________________________________________________\n",
      "dense_222 (Dense)            (None, 10)                110       \n",
      "_________________________________________________________________\n",
      "activation_222 (Activation)  (None, 10)                0         \n",
      "=================================================================\n",
      "Total params: 4,095\n",
      "Trainable params: 4,095\n",
      "Non-trainable params: 0\n",
      "_________________________________________________________________\n"
     ]
    }
   ],
   "source": [
    "model_3 = Sequential()\n",
    "model_3.add(Dense(5, input_dim = 28*28))\n",
    "model_3.add(Activation('relu'))\n",
    "model_3.add(Dense(10))\n",
    "model_3.add(Activation('relu'))\n",
    "model_3.add(Dense(10))\n",
    "model_3.add(Activation('softmax'))\n",
    "model_3.compile(loss = losses.mean_squared_error, optimizer=SGD(lr=0.1), metrics=['accuracy'])\n",
    "model_3.summary()"
   ]
  },
  {
   "cell_type": "code",
   "execution_count": 91,
   "metadata": {
    "scrolled": true
   },
   "outputs": [
    {
     "name": "stdout",
     "output_type": "stream",
     "text": [
      "Train on 60000 samples, validate on 10000 samples\n",
      "Epoch 1/50\n",
      "60000/60000 [==============================] - 4s 74us/step - loss: 0.0892 - acc: 0.1849 - val_loss: 0.0877 - val_acc: 0.2107\n",
      "Epoch 2/50\n",
      "60000/60000 [==============================] - 2s 32us/step - loss: 0.0860 - acc: 0.2132 - val_loss: 0.0832 - val_acc: 0.2220\n",
      "Epoch 3/50\n",
      "60000/60000 [==============================] - 2s 35us/step - loss: 0.0806 - acc: 0.2418 - val_loss: 0.0776 - val_acc: 0.2627\n",
      "Epoch 4/50\n",
      "60000/60000 [==============================] - 2s 36us/step - loss: 0.0756 - acc: 0.2997 - val_loss: 0.0729 - val_acc: 0.3273\n",
      "Epoch 5/50\n",
      "60000/60000 [==============================] - 2s 36us/step - loss: 0.0709 - acc: 0.3521 - val_loss: 0.0681 - val_acc: 0.3879\n",
      "Epoch 6/50\n",
      "60000/60000 [==============================] - 2s 34us/step - loss: 0.0666 - acc: 0.4119 - val_loss: 0.0641 - val_acc: 0.4428\n",
      "Epoch 7/50\n",
      "60000/60000 [==============================] - 2s 31us/step - loss: 0.0631 - acc: 0.4634 - val_loss: 0.0607 - val_acc: 0.4986\n",
      "Epoch 8/50\n",
      "60000/60000 [==============================] - 2s 31us/step - loss: 0.0596 - acc: 0.5259 - val_loss: 0.0569 - val_acc: 0.5511\n",
      "Epoch 9/50\n",
      "60000/60000 [==============================] - 2s 30us/step - loss: 0.0557 - acc: 0.5619 - val_loss: 0.0533 - val_acc: 0.5901\n",
      "Epoch 10/50\n",
      "60000/60000 [==============================] - 2s 30us/step - loss: 0.0525 - acc: 0.6021 - val_loss: 0.0505 - val_acc: 0.6231\n",
      "Epoch 11/50\n",
      "60000/60000 [==============================] - 2s 37us/step - loss: 0.0499 - acc: 0.6351 - val_loss: 0.0480 - val_acc: 0.6518\n",
      "Epoch 12/50\n",
      "60000/60000 [==============================] - 2s 33us/step - loss: 0.0474 - acc: 0.6631 - val_loss: 0.0456 - val_acc: 0.6777\n",
      "Epoch 13/50\n",
      "60000/60000 [==============================] - 2s 31us/step - loss: 0.0449 - acc: 0.6850 - val_loss: 0.0432 - val_acc: 0.6977\n",
      "Epoch 14/50\n",
      "60000/60000 [==============================] - 2s 31us/step - loss: 0.0426 - acc: 0.7045 - val_loss: 0.0409 - val_acc: 0.7154\n",
      "Epoch 15/50\n",
      "60000/60000 [==============================] - 2s 30us/step - loss: 0.0404 - acc: 0.7235 - val_loss: 0.0387 - val_acc: 0.7400\n",
      "Epoch 16/50\n",
      "60000/60000 [==============================] - 2s 31us/step - loss: 0.0382 - acc: 0.7509 - val_loss: 0.0363 - val_acc: 0.7732\n",
      "Epoch 17/50\n",
      "60000/60000 [==============================] - 2s 31us/step - loss: 0.0359 - acc: 0.7750 - val_loss: 0.0339 - val_acc: 0.7950\n",
      "Epoch 18/50\n",
      "60000/60000 [==============================] - 2s 31us/step - loss: 0.0336 - acc: 0.7928 - val_loss: 0.0316 - val_acc: 0.8076\n",
      "Epoch 19/50\n",
      "60000/60000 [==============================] - 2s 31us/step - loss: 0.0315 - acc: 0.8053 - val_loss: 0.0295 - val_acc: 0.8196\n",
      "Epoch 20/50\n",
      "60000/60000 [==============================] - 2s 32us/step - loss: 0.0297 - acc: 0.8151 - val_loss: 0.0279 - val_acc: 0.8241\n",
      "Epoch 21/50\n",
      "60000/60000 [==============================] - 2s 35us/step - loss: 0.0282 - acc: 0.8220 - val_loss: 0.0267 - val_acc: 0.8295\n",
      "Epoch 22/50\n",
      "60000/60000 [==============================] - 2s 31us/step - loss: 0.0271 - acc: 0.8274 - val_loss: 0.0257 - val_acc: 0.8353\n",
      "Epoch 23/50\n",
      "60000/60000 [==============================] - 2s 31us/step - loss: 0.0261 - acc: 0.8313 - val_loss: 0.0249 - val_acc: 0.8380\n",
      "Epoch 24/50\n",
      "60000/60000 [==============================] - 2s 30us/step - loss: 0.0254 - acc: 0.8358 - val_loss: 0.0243 - val_acc: 0.8420\n",
      "Epoch 25/50\n",
      "60000/60000 [==============================] - 2s 30us/step - loss: 0.0247 - acc: 0.8381 - val_loss: 0.0238 - val_acc: 0.8455\n",
      "Epoch 26/50\n",
      "60000/60000 [==============================] - 2s 30us/step - loss: 0.0242 - acc: 0.8416 - val_loss: 0.0233 - val_acc: 0.8468\n",
      "Epoch 27/50\n",
      "60000/60000 [==============================] - 2s 31us/step - loss: 0.0237 - acc: 0.8439 - val_loss: 0.0229 - val_acc: 0.8491\n",
      "Epoch 28/50\n",
      "60000/60000 [==============================] - 2s 31us/step - loss: 0.0232 - acc: 0.8463 - val_loss: 0.0227 - val_acc: 0.8512\n",
      "Epoch 29/50\n",
      "60000/60000 [==============================] - 2s 31us/step - loss: 0.0228 - acc: 0.8491 - val_loss: 0.0223 - val_acc: 0.8534\n",
      "Epoch 30/50\n",
      "60000/60000 [==============================] - 2s 36us/step - loss: 0.0224 - acc: 0.8526 - val_loss: 0.0219 - val_acc: 0.8562\n",
      "Epoch 31/50\n",
      "60000/60000 [==============================] - 2s 33us/step - loss: 0.0221 - acc: 0.8546 - val_loss: 0.0217 - val_acc: 0.8574\n",
      "Epoch 32/50\n",
      "60000/60000 [==============================] - 2s 31us/step - loss: 0.0217 - acc: 0.8569 - val_loss: 0.0213 - val_acc: 0.8603\n",
      "Epoch 33/50\n",
      "60000/60000 [==============================] - 2s 31us/step - loss: 0.0214 - acc: 0.8591 - val_loss: 0.0211 - val_acc: 0.8601\n",
      "Epoch 34/50\n",
      "60000/60000 [==============================] - 2s 31us/step - loss: 0.0211 - acc: 0.8616 - val_loss: 0.0208 - val_acc: 0.8630\n",
      "Epoch 35/50\n",
      "60000/60000 [==============================] - 2s 31us/step - loss: 0.0209 - acc: 0.8633 - val_loss: 0.0205 - val_acc: 0.8637\n",
      "Epoch 36/50\n",
      "60000/60000 [==============================] - 2s 31us/step - loss: 0.0206 - acc: 0.8653 - val_loss: 0.0204 - val_acc: 0.8643\n",
      "Epoch 37/50\n",
      "60000/60000 [==============================] - 2s 31us/step - loss: 0.0204 - acc: 0.8663 - val_loss: 0.0202 - val_acc: 0.8674\n",
      "Epoch 38/50\n",
      "60000/60000 [==============================] - 2s 31us/step - loss: 0.0202 - acc: 0.8678 - val_loss: 0.0202 - val_acc: 0.8672\n",
      "Epoch 39/50\n",
      "60000/60000 [==============================] - 2s 31us/step - loss: 0.0200 - acc: 0.8689 - val_loss: 0.0198 - val_acc: 0.8702\n",
      "Epoch 40/50\n",
      "60000/60000 [==============================] - 2s 31us/step - loss: 0.0199 - acc: 0.8701 - val_loss: 0.0197 - val_acc: 0.8704\n",
      "Epoch 41/50\n",
      "60000/60000 [==============================] - 2s 31us/step - loss: 0.0197 - acc: 0.8717 - val_loss: 0.0196 - val_acc: 0.8720\n",
      "Epoch 42/50\n",
      "60000/60000 [==============================] - 2s 31us/step - loss: 0.0195 - acc: 0.8721 - val_loss: 0.0194 - val_acc: 0.8720\n",
      "Epoch 43/50\n",
      "60000/60000 [==============================] - 2s 33us/step - loss: 0.0194 - acc: 0.8736 - val_loss: 0.0192 - val_acc: 0.8736\n",
      "Epoch 44/50\n",
      "60000/60000 [==============================] - 2s 31us/step - loss: 0.0192 - acc: 0.8742 - val_loss: 0.0192 - val_acc: 0.8753\n",
      "Epoch 45/50\n",
      "60000/60000 [==============================] - 2s 32us/step - loss: 0.0191 - acc: 0.8751 - val_loss: 0.0191 - val_acc: 0.8765\n",
      "Epoch 46/50\n",
      "60000/60000 [==============================] - 2s 32us/step - loss: 0.0190 - acc: 0.8761 - val_loss: 0.0190 - val_acc: 0.8748\n",
      "Epoch 47/50\n",
      "60000/60000 [==============================] - 2s 32us/step - loss: 0.0189 - acc: 0.8769 - val_loss: 0.0189 - val_acc: 0.8757\n",
      "Epoch 48/50\n",
      "60000/60000 [==============================] - 2s 32us/step - loss: 0.0188 - acc: 0.8776 - val_loss: 0.0188 - val_acc: 0.8774\n",
      "Epoch 49/50\n",
      "60000/60000 [==============================] - 2s 31us/step - loss: 0.0187 - acc: 0.8783 - val_loss: 0.0187 - val_acc: 0.8776\n",
      "Epoch 50/50\n",
      "60000/60000 [==============================] - 2s 31us/step - loss: 0.0186 - acc: 0.8793 - val_loss: 0.0186 - val_acc: 0.8783\n"
     ]
    }
   ],
   "source": [
    "model_mse_relu = model_3.fit(x_train_norm, y_train, batch_size=100 ,epochs=50, verbose=1, validation_data=(x_test_norm,y_test))"
   ]
  },
  {
   "cell_type": "markdown",
   "metadata": {},
   "source": [
    "## Mean Squared Error + Sigmoid"
   ]
  },
  {
   "cell_type": "code",
   "execution_count": 92,
   "metadata": {},
   "outputs": [
    {
     "name": "stdout",
     "output_type": "stream",
     "text": [
      "_________________________________________________________________\n",
      "Layer (type)                 Output Shape              Param #   \n",
      "=================================================================\n",
      "dense_223 (Dense)            (None, 5)                 3925      \n",
      "_________________________________________________________________\n",
      "activation_223 (Activation)  (None, 5)                 0         \n",
      "_________________________________________________________________\n",
      "dense_224 (Dense)            (None, 10)                60        \n",
      "_________________________________________________________________\n",
      "activation_224 (Activation)  (None, 10)                0         \n",
      "_________________________________________________________________\n",
      "dense_225 (Dense)            (None, 10)                110       \n",
      "_________________________________________________________________\n",
      "activation_225 (Activation)  (None, 10)                0         \n",
      "=================================================================\n",
      "Total params: 4,095\n",
      "Trainable params: 4,095\n",
      "Non-trainable params: 0\n",
      "_________________________________________________________________\n"
     ]
    }
   ],
   "source": [
    "model_4 = Sequential()\n",
    "model_4.add(Dense(5, input_dim = 28*28))\n",
    "model_4.add(Activation('sigmoid'))\n",
    "model_4.add(Dense(10))\n",
    "model_4.add(Activation('sigmoid'))\n",
    "model_4.add(Dense(10))\n",
    "model_4.add(Activation('sigmoid'))\n",
    "model_4.compile(loss = losses.mean_squared_error, optimizer=SGD(lr=0.1), metrics=['accuracy'])\n",
    "model_4.summary()"
   ]
  },
  {
   "cell_type": "code",
   "execution_count": 93,
   "metadata": {
    "scrolled": true
   },
   "outputs": [
    {
     "name": "stdout",
     "output_type": "stream",
     "text": [
      "Train on 60000 samples, validate on 10000 samples\n",
      "Epoch 1/50\n",
      "60000/60000 [==============================] - 4s 69us/step - loss: 0.1280 - acc: 0.0993 - val_loss: 0.0939 - val_acc: 0.1032\n",
      "Epoch 2/50\n",
      "60000/60000 [==============================] - 2s 31us/step - loss: 0.0916 - acc: 0.1149 - val_loss: 0.0905 - val_acc: 0.1482\n",
      "Epoch 3/50\n",
      "60000/60000 [==============================] - 2s 31us/step - loss: 0.0902 - acc: 0.1243 - val_loss: 0.0900 - val_acc: 0.1155\n",
      "Epoch 4/50\n",
      "60000/60000 [==============================] - 2s 34us/step - loss: 0.0899 - acc: 0.1128 - val_loss: 0.0899 - val_acc: 0.1135\n",
      "Epoch 5/50\n",
      "60000/60000 [==============================] - 2s 32us/step - loss: 0.0899 - acc: 0.1124 - val_loss: 0.0898 - val_acc: 0.1135\n",
      "Epoch 6/50\n",
      "60000/60000 [==============================] - 2s 33us/step - loss: 0.0898 - acc: 0.1124 - val_loss: 0.0898 - val_acc: 0.1135\n",
      "Epoch 7/50\n",
      "60000/60000 [==============================] - 2s 31us/step - loss: 0.0898 - acc: 0.1124 - val_loss: 0.0898 - val_acc: 0.1135\n",
      "Epoch 8/50\n",
      "60000/60000 [==============================] - 2s 32us/step - loss: 0.0898 - acc: 0.1124 - val_loss: 0.0898 - val_acc: 0.1135\n",
      "Epoch 9/50\n",
      "60000/60000 [==============================] - 2s 33us/step - loss: 0.0898 - acc: 0.1124 - val_loss: 0.0897 - val_acc: 0.1135\n",
      "Epoch 10/50\n",
      "60000/60000 [==============================] - 2s 34us/step - loss: 0.0897 - acc: 0.1124 - val_loss: 0.0897 - val_acc: 0.1135\n",
      "Epoch 11/50\n",
      "60000/60000 [==============================] - 2s 34us/step - loss: 0.0897 - acc: 0.1124 - val_loss: 0.0897 - val_acc: 0.1135\n",
      "Epoch 12/50\n",
      "60000/60000 [==============================] - 2s 29us/step - loss: 0.0897 - acc: 0.1124 - val_loss: 0.0897 - val_acc: 0.1135\n",
      "Epoch 13/50\n",
      "60000/60000 [==============================] - 2s 32us/step - loss: 0.0896 - acc: 0.1124 - val_loss: 0.0896 - val_acc: 0.1135\n",
      "Epoch 14/50\n",
      "60000/60000 [==============================] - 2s 35us/step - loss: 0.0896 - acc: 0.1124 - val_loss: 0.0896 - val_acc: 0.1135\n",
      "Epoch 15/50\n",
      "60000/60000 [==============================] - 2s 34us/step - loss: 0.0896 - acc: 0.1124 - val_loss: 0.0895 - val_acc: 0.1135\n",
      "Epoch 16/50\n",
      "60000/60000 [==============================] - 2s 38us/step - loss: 0.0895 - acc: 0.1124 - val_loss: 0.0895 - val_acc: 0.1138\n",
      "Epoch 17/50\n",
      "60000/60000 [==============================] - 2s 38us/step - loss: 0.0895 - acc: 0.1132 - val_loss: 0.0895 - val_acc: 0.1146\n",
      "Epoch 18/50\n",
      "60000/60000 [==============================] - 2s 36us/step - loss: 0.0894 - acc: 0.1143 - val_loss: 0.0894 - val_acc: 0.1181\n",
      "Epoch 19/50\n",
      "60000/60000 [==============================] - 2s 40us/step - loss: 0.0894 - acc: 0.1178 - val_loss: 0.0893 - val_acc: 0.1226\n",
      "Epoch 20/50\n",
      "60000/60000 [==============================] - 2s 35us/step - loss: 0.0893 - acc: 0.1236 - val_loss: 0.0893 - val_acc: 0.1296\n",
      "Epoch 21/50\n",
      "60000/60000 [==============================] - 2s 35us/step - loss: 0.0893 - acc: 0.1301 - val_loss: 0.0892 - val_acc: 0.1381\n",
      "Epoch 22/50\n",
      "60000/60000 [==============================] - 2s 37us/step - loss: 0.0892 - acc: 0.1410 - val_loss: 0.0892 - val_acc: 0.1447\n",
      "Epoch 23/50\n",
      "60000/60000 [==============================] - 2s 39us/step - loss: 0.0891 - acc: 0.1451 - val_loss: 0.0891 - val_acc: 0.1570\n",
      "Epoch 24/50\n",
      "60000/60000 [==============================] - 2s 35us/step - loss: 0.0891 - acc: 0.1575 - val_loss: 0.0890 - val_acc: 0.1642\n",
      "Epoch 25/50\n",
      "60000/60000 [==============================] - 2s 37us/step - loss: 0.0890 - acc: 0.1632 - val_loss: 0.0889 - val_acc: 0.1719\n",
      "Epoch 26/50\n",
      "60000/60000 [==============================] - 2s 35us/step - loss: 0.0889 - acc: 0.1718 - val_loss: 0.0889 - val_acc: 0.1780\n",
      "Epoch 27/50\n",
      "60000/60000 [==============================] - 2s 33us/step - loss: 0.0888 - acc: 0.1817 - val_loss: 0.0888 - val_acc: 0.1827\n",
      "Epoch 28/50\n",
      "60000/60000 [==============================] - 2s 33us/step - loss: 0.0887 - acc: 0.1860 - val_loss: 0.0887 - val_acc: 0.1878\n",
      "Epoch 29/50\n",
      "60000/60000 [==============================] - 2s 33us/step - loss: 0.0886 - acc: 0.1902 - val_loss: 0.0886 - val_acc: 0.1926\n",
      "Epoch 30/50\n",
      "60000/60000 [==============================] - 2s 33us/step - loss: 0.0885 - acc: 0.1948 - val_loss: 0.0885 - val_acc: 0.1984\n",
      "Epoch 31/50\n",
      "60000/60000 [==============================] - 2s 33us/step - loss: 0.0884 - acc: 0.1991 - val_loss: 0.0883 - val_acc: 0.2031\n",
      "Epoch 32/50\n",
      "60000/60000 [==============================] - 2s 33us/step - loss: 0.0883 - acc: 0.2040 - val_loss: 0.0882 - val_acc: 0.2074\n",
      "Epoch 33/50\n",
      "60000/60000 [==============================] - 2s 33us/step - loss: 0.0882 - acc: 0.2106 - val_loss: 0.0881 - val_acc: 0.2106\n",
      "Epoch 34/50\n",
      "60000/60000 [==============================] - 2s 34us/step - loss: 0.0880 - acc: 0.2117 - val_loss: 0.0879 - val_acc: 0.2145\n",
      "Epoch 35/50\n",
      "60000/60000 [==============================] - 2s 33us/step - loss: 0.0879 - acc: 0.2152 - val_loss: 0.0878 - val_acc: 0.2193\n",
      "Epoch 36/50\n",
      "60000/60000 [==============================] - 2s 33us/step - loss: 0.0877 - acc: 0.2227 - val_loss: 0.0876 - val_acc: 0.2214\n",
      "Epoch 37/50\n",
      "60000/60000 [==============================] - 2s 33us/step - loss: 0.0875 - acc: 0.2232 - val_loss: 0.0874 - val_acc: 0.2263\n",
      "Epoch 38/50\n",
      "60000/60000 [==============================] - 2s 33us/step - loss: 0.0873 - acc: 0.2273 - val_loss: 0.0872 - val_acc: 0.2293\n",
      "Epoch 39/50\n",
      "60000/60000 [==============================] - 2s 33us/step - loss: 0.0871 - acc: 0.2335 - val_loss: 0.0870 - val_acc: 0.2315\n",
      "Epoch 40/50\n",
      "60000/60000 [==============================] - 2s 33us/step - loss: 0.0869 - acc: 0.2343 - val_loss: 0.0868 - val_acc: 0.2368\n",
      "Epoch 41/50\n",
      "60000/60000 [==============================] - 2s 33us/step - loss: 0.0867 - acc: 0.2404 - val_loss: 0.0865 - val_acc: 0.2403\n",
      "Epoch 42/50\n",
      "60000/60000 [==============================] - 2s 33us/step - loss: 0.0864 - acc: 0.2465 - val_loss: 0.0862 - val_acc: 0.2422\n",
      "Epoch 43/50\n",
      "60000/60000 [==============================] - 2s 33us/step - loss: 0.0861 - acc: 0.2456 - val_loss: 0.0859 - val_acc: 0.2483\n",
      "Epoch 44/50\n",
      "60000/60000 [==============================] - 2s 33us/step - loss: 0.0858 - acc: 0.2540 - val_loss: 0.0856 - val_acc: 0.2529\n",
      "Epoch 45/50\n",
      "60000/60000 [==============================] - 2s 33us/step - loss: 0.0855 - acc: 0.2592 - val_loss: 0.0853 - val_acc: 0.2582\n",
      "Epoch 46/50\n",
      "60000/60000 [==============================] - 2s 33us/step - loss: 0.0852 - acc: 0.2649 - val_loss: 0.0849 - val_acc: 0.2631\n",
      "Epoch 47/50\n",
      "60000/60000 [==============================] - 2s 33us/step - loss: 0.0848 - acc: 0.2665 - val_loss: 0.0845 - val_acc: 0.2727\n",
      "Epoch 48/50\n",
      "60000/60000 [==============================] - 2s 33us/step - loss: 0.0844 - acc: 0.2774 - val_loss: 0.0841 - val_acc: 0.2769\n",
      "Epoch 49/50\n",
      "60000/60000 [==============================] - 2s 33us/step - loss: 0.0839 - acc: 0.2837 - val_loss: 0.0836 - val_acc: 0.2843\n",
      "Epoch 50/50\n",
      "60000/60000 [==============================] - 2s 33us/step - loss: 0.0835 - acc: 0.2935 - val_loss: 0.0831 - val_acc: 0.2919\n"
     ]
    }
   ],
   "source": [
    "model_mse_sigmoid = model_4.fit(x_train_norm, y_train, batch_size=100 ,epochs=50, verbose=1, validation_data=(x_test_norm,y_test))"
   ]
  },
  {
   "cell_type": "markdown",
   "metadata": {},
   "source": [
    "## 把四個神經網路的訓練準確率拿來畫圖"
   ]
  },
  {
   "cell_type": "code",
   "execution_count": 94,
   "metadata": {},
   "outputs": [
    {
     "data": {
      "image/png": "[encoded data removed]",
      "text/plain": [
       "<Figure size 720x720 with 1 Axes>"
      ]
     },
     "metadata": {
      "needs_background": "light"
     },
     "output_type": "display_data"
    }
   ],
   "source": [
    "fig = plt.figure(figsize=(5,5), dpi = 144)\n",
    "ax = plt.plot(model_cs_relu.history['acc'], marker = 'o', markersize = 4.0, lw = 0.75, label = 'Categorical Crossentropy with Relu', c ='r' )\n",
    "ax = plt.plot(model_cs_sigmoid.history['acc'], marker = 'o', markersize = 4.0, lw = 0.75, label = 'Categorical Crossentropy with Sigmoid', c= 'g')\n",
    "ax = plt.plot(model_mse_relu.history['acc'], marker = 'o', markersize = 4.0, lw = 0.75, label = 'Mean Squared Error with Relu', c = 'b')\n",
    "ax = plt.plot(model_mse_sigmoid.history['acc'], marker = 'o', markersize = 4.0, lw = 0.75, label = 'Mean Squared Error with Sigmoid', c = 'm')\n",
    "ax = plt.legend(loc='best',prop={'size': 7.5})\n",
    "ax = plt.xlim(-1,51)\n",
    "ax = plt.xticks(np.linspace(0,50,6))\n",
    "ax = plt.ylim(-0.01,1.01)\n",
    "ax = plt.yticks(np.linspace(0,1.0,11))\n",
    "ax = plt.title('Training Accuracy Using Different Loss Functions and Activation Functions', y=1.05)\n",
    "ax = plt.xlabel('Epochs')\n",
    "ax = plt.ylabel('Training Accuracy')"
   ]
  },
  {
   "cell_type": "markdown",
   "metadata": {},
   "source": [
    "### 可以觀察到Categorical Crossentropy+Relu最快達到90%的訓練準確率，其次是Categorical Crossentropy+Sigmoid，再來是Mean Squared Erro+Relu，最後才是Mean Squared Erro+Sigmoid。如果只看這個例子ˋ的話，感覺選到一個合適的Loss Function(看名字Categorical Crossentropy就很適合分類XD)的話，Activation Function好像就與準確率沒那麼相關，可是如果Loss Function沒有慎選，可能就要靠適合的Activation Function來搶救了"
   ]
  },
  {
   "cell_type": "code",
   "execution_count": 52,
   "metadata": {
    "scrolled": true
   },
   "outputs": [
    {
     "name": "stdout",
     "output_type": "stream",
     "text": [
      "1st layer node:5, 2nd layer node:10\n",
      "\n",
      "Train on 60000 samples, validate on 10000 samples\n",
      "Epoch 1/50\n",
      "60000/60000 [==============================] - 5s 79us/step - loss: 0.8799 - acc: 0.7136 - val_loss: 0.6246 - val_acc: 0.8138\n",
      "Epoch 2/50\n",
      "60000/60000 [==============================] - 2s 40us/step - loss: 0.5079 - acc: 0.8491 - val_loss: 0.4491 - val_acc: 0.8696\n",
      "Epoch 3/50\n",
      "60000/60000 [==============================] - 2s 37us/step - loss: 0.4404 - acc: 0.8720 - val_loss: 0.3994 - val_acc: 0.8843\n",
      "Epoch 4/50\n",
      "60000/60000 [==============================] - 2s 39us/step - loss: 0.4073 - acc: 0.8833 - val_loss: 0.3862 - val_acc: 0.8909\n",
      "Epoch 5/50\n",
      "60000/60000 [==============================] - 2s 39us/step - loss: 0.3877 - acc: 0.8886 - val_loss: 0.3721 - val_acc: 0.8933\n",
      "Epoch 6/50\n",
      "60000/60000 [==============================] - 2s 40us/step - loss: 0.3731 - acc: 0.8939 - val_loss: 0.3444 - val_acc: 0.9026\n",
      "Epoch 7/50\n",
      "60000/60000 [==============================] - 2s 37us/step - loss: 0.3671 - acc: 0.8942 - val_loss: 0.3564 - val_acc: 0.9001\n",
      "Epoch 8/50\n",
      "60000/60000 [==============================] - 3s 42us/step - loss: 0.3587 - acc: 0.8974 - val_loss: 0.3577 - val_acc: 0.8955\n",
      "Epoch 9/50\n",
      "60000/60000 [==============================] - 3s 45us/step - loss: 0.3553 - acc: 0.8962 - val_loss: 0.3324 - val_acc: 0.9071\n",
      "Epoch 10/50\n",
      "60000/60000 [==============================] - 3s 43us/step - loss: 0.3502 - acc: 0.8980 - val_loss: 0.3375 - val_acc: 0.9055\n",
      "Epoch 11/50\n",
      "60000/60000 [==============================] - 3s 42us/step - loss: 0.3448 - acc: 0.9000 - val_loss: 0.3327 - val_acc: 0.9038\n",
      "Epoch 12/50\n",
      "60000/60000 [==============================] - 2s 36us/step - loss: 0.3419 - acc: 0.9012 - val_loss: 0.3447 - val_acc: 0.9015\n",
      "Epoch 13/50\n",
      "60000/60000 [==============================] - 2s 34us/step - loss: 0.3373 - acc: 0.9021 - val_loss: 0.3394 - val_acc: 0.9042\n",
      "Epoch 14/50\n",
      "60000/60000 [==============================] - 2s 34us/step - loss: 0.3348 - acc: 0.9025 - val_loss: 0.3269 - val_acc: 0.9055\n",
      "Epoch 15/50\n",
      "60000/60000 [==============================] - 2s 38us/step - loss: 0.3313 - acc: 0.9044 - val_loss: 0.3375 - val_acc: 0.9033\n",
      "Epoch 16/50\n",
      "60000/60000 [==============================] - 2s 38us/step - loss: 0.3292 - acc: 0.9034 - val_loss: 0.3211 - val_acc: 0.9092\n",
      "Epoch 17/50\n",
      "60000/60000 [==============================] - 2s 37us/step - loss: 0.3311 - acc: 0.9039 - val_loss: 0.3910 - val_acc: 0.8873\n",
      "Epoch 18/50\n",
      "60000/60000 [==============================] - 2s 36us/step - loss: 0.3257 - acc: 0.9056 - val_loss: 0.3447 - val_acc: 0.9030\n",
      "Epoch 19/50\n",
      "60000/60000 [==============================] - 2s 35us/step - loss: 0.3246 - acc: 0.9051 - val_loss: 0.3298 - val_acc: 0.9045\n",
      "Epoch 20/50\n",
      "60000/60000 [==============================] - 2s 34us/step - loss: 0.3223 - acc: 0.9054 - val_loss: 0.3261 - val_acc: 0.9078\n",
      "Epoch 21/50\n",
      "60000/60000 [==============================] - 2s 35us/step - loss: 0.3224 - acc: 0.9047 - val_loss: 0.3687 - val_acc: 0.8971\n",
      "Epoch 22/50\n",
      "60000/60000 [==============================] - 3s 42us/step - loss: 0.3220 - acc: 0.9059 - val_loss: 0.3262 - val_acc: 0.9060\n",
      "Epoch 23/50\n",
      "60000/60000 [==============================] - 3s 46us/step - loss: 0.3194 - acc: 0.9060 - val_loss: 0.3274 - val_acc: 0.9090\n",
      "Epoch 24/50\n",
      "60000/60000 [==============================] - 2s 39us/step - loss: 0.3171 - acc: 0.9069 - val_loss: 0.3461 - val_acc: 0.9003\n",
      "Epoch 25/50\n",
      "60000/60000 [==============================] - 2s 38us/step - loss: 0.3149 - acc: 0.9064 - val_loss: 0.3539 - val_acc: 0.8996\n",
      "Epoch 26/50\n",
      "60000/60000 [==============================] - 2s 35us/step - loss: 0.3148 - acc: 0.9078 - val_loss: 0.3090 - val_acc: 0.9115\n",
      "Epoch 27/50\n",
      "60000/60000 [==============================] - 2s 37us/step - loss: 0.3120 - acc: 0.9097 - val_loss: 0.3354 - val_acc: 0.9048\n",
      "Epoch 28/50\n",
      "60000/60000 [==============================] - 2s 36us/step - loss: 0.3127 - acc: 0.9073 - val_loss: 0.3084 - val_acc: 0.9120\n",
      "Epoch 29/50\n",
      "60000/60000 [==============================] - 2s 35us/step - loss: 0.3079 - acc: 0.9095 - val_loss: 0.3215 - val_acc: 0.9096\n",
      "Epoch 30/50\n",
      "60000/60000 [==============================] - 2s 34us/step - loss: 0.3067 - acc: 0.9088 - val_loss: 0.3146 - val_acc: 0.9107\n",
      "Epoch 31/50\n",
      "60000/60000 [==============================] - 2s 34us/step - loss: 0.3081 - acc: 0.9077 - val_loss: 0.3220 - val_acc: 0.9083\n",
      "Epoch 32/50\n",
      "60000/60000 [==============================] - 2s 35us/step - loss: 0.3064 - acc: 0.9088 - val_loss: 0.3130 - val_acc: 0.9112\n",
      "Epoch 33/50\n",
      "60000/60000 [==============================] - 2s 39us/step - loss: 0.3041 - acc: 0.9098 - val_loss: 0.3039 - val_acc: 0.9145\n",
      "Epoch 34/50\n",
      "60000/60000 [==============================] - 2s 34us/step - loss: 0.3035 - acc: 0.9101 - val_loss: 0.3139 - val_acc: 0.9095\n",
      "Epoch 35/50\n",
      "60000/60000 [==============================] - 2s 34us/step - loss: 0.3024 - acc: 0.9098 - val_loss: 0.3265 - val_acc: 0.9045\n",
      "Epoch 36/50\n",
      "60000/60000 [==============================] - 2s 35us/step - loss: 0.3017 - acc: 0.9095 - val_loss: 0.3102 - val_acc: 0.9134\n",
      "Epoch 37/50\n",
      "60000/60000 [==============================] - 2s 38us/step - loss: 0.3012 - acc: 0.9107 - val_loss: 0.3064 - val_acc: 0.9110\n",
      "Epoch 38/50\n",
      "60000/60000 [==============================] - 2s 39us/step - loss: 0.3019 - acc: 0.9105 - val_loss: 0.3133 - val_acc: 0.9101\n",
      "Epoch 39/50\n",
      "60000/60000 [==============================] - 2s 38us/step - loss: 0.3006 - acc: 0.9107 - val_loss: 0.3068 - val_acc: 0.9129\n",
      "Epoch 40/50\n",
      "60000/60000 [==============================] - 2s 37us/step - loss: 0.3007 - acc: 0.9108 - val_loss: 0.3079 - val_acc: 0.9120\n",
      "Epoch 41/50\n",
      "60000/60000 [==============================] - 2s 36us/step - loss: 0.2978 - acc: 0.9116 - val_loss: 0.3452 - val_acc: 0.8990\n",
      "Epoch 42/50\n",
      "60000/60000 [==============================] - 2s 36us/step - loss: 0.2982 - acc: 0.9108 - val_loss: 0.3097 - val_acc: 0.9111\n",
      "Epoch 43/50\n",
      "60000/60000 [==============================] - 2s 35us/step - loss: 0.2987 - acc: 0.9097 - val_loss: 0.3107 - val_acc: 0.9103\n",
      "Epoch 44/50\n",
      "60000/60000 [==============================] - 2s 38us/step - loss: 0.2969 - acc: 0.9118 - val_loss: 0.3008 - val_acc: 0.9144\n",
      "Epoch 45/50\n",
      "60000/60000 [==============================] - 2s 37us/step - loss: 0.2986 - acc: 0.9107 - val_loss: 0.3222 - val_acc: 0.9067\n",
      "Epoch 46/50\n",
      "60000/60000 [==============================] - 2s 37us/step - loss: 0.2976 - acc: 0.9112 - val_loss: 0.3201 - val_acc: 0.9061\n",
      "Epoch 47/50\n",
      "60000/60000 [==============================] - 2s 36us/step - loss: 0.2967 - acc: 0.9112 - val_loss: 0.3046 - val_acc: 0.9132\n",
      "Epoch 48/50\n",
      "60000/60000 [==============================] - 2s 35us/step - loss: 0.2950 - acc: 0.9111 - val_loss: 0.3200 - val_acc: 0.9114\n",
      "Epoch 49/50\n",
      "60000/60000 [==============================] - 2s 37us/step - loss: 0.2949 - acc: 0.9115 - val_loss: 0.3174 - val_acc: 0.9089\n",
      "Epoch 50/50\n",
      "60000/60000 [==============================] - 2s 36us/step - loss: 0.2951 - acc: 0.9119 - val_loss: 0.3033 - val_acc: 0.9164\n"
     ]
    }
   ],
   "source": [
    "first_layer = 5; second_layer = 10;\n",
    "accuracy_cs_relu = np.zeros((first_layer,second_layer))\n",
    "for i in range(0,first_layer):\n",
    "    for j in range(0,second_layer):\n",
    "        \n",
    "        model_5 = Sequential()\n",
    "        model_5.add(Dense(i+1, input_dim = 28*28))\n",
    "        model_5.add(Activation('relu'))\n",
    "        model_5.add(Dense(j+1))\n",
    "        model_5.add(Activation('relu'))\n",
    "        model_5.add(Dense(10))\n",
    "        model_5.add(Activation('softmax'))\n",
    "        model_5.compile(loss = losses.categorical_crossentropy, optimizer=SGD(lr=0.1), metrics=['accuracy'])\n",
    "        \n",
    "        print(f'1st layer node:{i+1}, 2nd layer node:{j+1}\\n')\n",
    "        model_cs_relu_various_node = model_5.fit(x_train_norm,y_train, batch_size=100, epochs=50, verbose=1, validation_data=(x_test_norm,y_test))\n",
    "        \n",
    "        clear_output(wait=True)\n",
    "        \n",
    "        accuracy_cs_relu[i,j] = model_cs_relu_various_node.history['acc'][-1]"
   ]
  },
  {
   "cell_type": "code",
   "execution_count": 88,
   "metadata": {},
   "outputs": [
    {
     "data": {
      "image/png": "[encoded data removed]",
      "text/plain": [
       "<Figure size 720x720 with 2 Axes>"
      ]
     },
     "metadata": {
      "needs_background": "light"
     },
     "output_type": "display_data"
    }
   ],
   "source": [
    "color = np.array([accuracy_cs_relu.min()]*11*6).reshape(6,11)\n",
    "for i in range(1,6):\n",
    "    for j in range(1,11):\n",
    "        color[i,j] = accuracy_cs_relu[i-1,j-1]\n",
    "#color = np.array(accuracy_cs_relu)\n",
    "figure = plt.figure(figsize=(5,5),dpi=144)\n",
    "ax = plt.imshow(color,cmap='hot')\n",
    "ax = plt.xlim(0.5,10.5)\n",
    "ax = plt.ylim(0.5,5.5)\n",
    "ax = plt.title('Training Accuracy Using Different Number of Nodes in Each Layer', y=1.2)\n",
    "ax = plt.xlabel('Number of Nodes in Second Layer')\n",
    "ax = plt.ylabel('Number of Nodes in First Layer')\n",
    "ax = plt.colorbar(shrink=0.4, aspect=8, ticks=np.arange(0.3,1.0,0.1))"
   ]
  },
  {
   "cell_type": "markdown",
   "metadata": {},
   "source": [
    "## 從訓練準確率對第一層和第二層中神經元數目的變化可以看到，神經元越多，準確率越高，可是當第一層的神經元數目只有1個時,第二層的神經元再多表現也沒有顯著提升，反之當第二層只有一個神經元時，增加第一層的神經元可以將準確率提升到0.6左右。"
   ]
  },
  {
   "cell_type": "markdown",
   "metadata": {},
   "source": [
    "## 用Interact Manual來看一下四個神經網路個別的表現如何吧~"
   ]
  },
  {
   "cell_type": "code",
   "execution_count": 168,
   "metadata": {},
   "outputs": [],
   "source": [
    "predict_1 = model_1.predict_classes(x_test_norm)\n",
    "predict_2 = model_2.predict_classes(x_test_norm)\n",
    "predict_3 = model_3.predict_classes(x_test_norm)\n",
    "predict_4 = model_4.predict_classes(x_test_norm)\n",
    "\n",
    "model_index =np.arange(1,5)\n",
    "NN_name = ['Categoriacl Crossentropy with Relu','Categoriacl Crossentropy with Sigmoid','Mean Squared Error with Relu','Mean Squared Error with Sigmoid']\n",
    "NN_select = dict(zip(NN_name,model_index))"
   ]
  },
  {
   "cell_type": "code",
   "execution_count": 169,
   "metadata": {},
   "outputs": [],
   "source": [
    "def result_plot(test_index=5566, NN_index=1):\n",
    "    \n",
    "    TF = False\n",
    "    plt.imshow(x_test[test_index], cmap='Greys')\n",
    "    \n",
    "    if NN_index == 1:\n",
    "        print(f'The number is judged as \"{predict_1[test_index]}\" by Categorical Crossentropy with Relu.')\n",
    "        if predict_1[test_index]==np.where(y_test[test_index]==1.0)[0][0]:\n",
    "            TF = True\n",
    "        \n",
    "    elif NN_index == 2:\n",
    "        print(f'The number is judged as \"{predict_2[test_index]}\" by Categorical Crossentropy with Sigmoid.')\n",
    "        if predict_2[test_index]==np.where(y_test[test_index]==1.0)[0][0]:\n",
    "            TF = True\n",
    "            \n",
    "    elif NN_index == 3:\n",
    "        print(f'The number is judged as \"{predict_3[test_index]}\" by Mean Squared Error with Relu.')\n",
    "        if predict_3[test_index]==np.where(y_test[test_index]==1.0)[0][0]:\n",
    "            TF = True\n",
    "            \n",
    "    elif NN_index == 4:\n",
    "        print(f'The number is judged as \"{predict_4[test_index]}\" by Mean Squared Error with Sigmoid.')\n",
    "        if predict_4[test_index]==np.where(y_test[test_index]==1.0)[0][0]:\n",
    "            TF = True\n",
    "        \n",
    "    if TF:\n",
    "        print('This is right!')\n",
    "    else:\n",
    "        print('This is wrong!')\n",
    "        "
   ]
  },
  {
   "cell_type": "code",
   "execution_count": 170,
   "metadata": {},
   "outputs": [
    {
     "data": {
      "application/vnd.jupyter.widget-view+json": {
       "model_id": "7fb3b91811644b508d86978a3cb6de6e",
       "version_major": 2,
       "version_minor": 0
      },
      "text/plain": [
       "interactive(children=(IntSlider(value=5566, description='test_index', max=10000), Dropdown(description='NN_ind…"
      ]
     },
     "metadata": {},
     "output_type": "display_data"
    },
    {
     "data": {
      "text/plain": [
       "<function __main__.result_plot(test_index=5566, NN_index=1)>"
      ]
     },
     "execution_count": 170,
     "metadata": {},
     "output_type": "execute_result"
    }
   ],
   "source": [
    "interact_manual(result_plot, test_index=(0,len(x_test)), NN_index=NN_select)\n"
   ]
  },
  {
   "cell_type": "code",
   "execution_count": null,
   "metadata": {},
   "outputs": [],
   "source": []
  }
 ],
 "metadata": {
  "kernelspec": {
   "display_name": "Python 3",
   "language": "python",
   "name": "python3"
  },
  "language_info": {
   "codemirror_mode": {
    "name": "ipython",
    "version": 3
   },
   "file_extension": ".py",
   "mimetype": "text/x-python",
   "name": "python",
   "nbconvert_exporter": "python",
   "pygments_lexer": "ipython3",
   "version": "3.7.1"
  },
  "varInspector": {
   "cols": {
    "lenName": 16,
    "lenType": 16,
    "lenVar": 40
   },
   "kernels_config": {
    "python": {
     "delete_cmd_postfix": "",
     "delete_cmd_prefix": "del ",
     "library": "var_list.py",
     "varRefreshCmd": "print(var_dic_list())"
    },
    "r": {
     "delete_cmd_postfix": ") ",
     "delete_cmd_prefix": "rm(",
     "library": "var_list.r",
     "varRefreshCmd": "cat(var_dic_list()) "
    }
   },
   "types_to_exclude": [
    "module",
    "function",
    "builtin_function_or_method",
    "instance",
    "_Feature"
   ],
   "window_display": false
  }
 },
 "nbformat": 4,
 "nbformat_minor": 2
}
