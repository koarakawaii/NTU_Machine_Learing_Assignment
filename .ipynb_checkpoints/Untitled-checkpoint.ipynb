{
 "cells": [
  {
   "cell_type": "code",
   "execution_count": 3,
   "metadata": {},
   "outputs": [],
   "source": [
    "import numpy as np\n",
    "import matplotlib.pyplot as plt\n",
    "\n",
    "%matplotlib inline"
   ]
  },
  {
   "cell_type": "code",
   "execution_count": 4,
   "metadata": {},
   "outputs": [],
   "source": [
    "def kinetic(c1,c2,α1,α2):\n",
    "    if α1==0 and α2==0:\n",
    "        K = 0.0\n",
    "    else:\n",
    "        K = 3.0*(4.0)**0.75*(α1*α2)**1.75*c1*c2/(α1+α2)**2.5\n",
    "    return(K)\n",
    "def potential(c1,c2,α1,α2):\n",
    "    if α1==0 and α2==0:\n",
    "        U = 0.0\n",
    "    else:\n",
    "        U = -2.0*c1*c2*(4.0*α1*α2)**0.75/(α1+α2)/np.pi**0.5\n",
    "    return(U)\n",
    "def overlap(c1,c2,α1,α2):\n",
    "    if α1==0 and α2==0:\n",
    "        S = c1*c2\n",
    "    else:\n",
    "        S = c1*c2*(4.0*α1*α2)**0.75/(α1+α2)**1.5\n",
    "    return(S)"
   ]
  },
  {
   "cell_type": "code",
   "execution_count": null,
   "metadata": {},
   "outputs": [],
   "source": [
    "def total_E():\n",
    "    sum_E = 0.0\n",
    "    sum_norm = 0.0\n",
    "    term = 0\n",
    "    for i in range(0,N):\n",
    "        sum_E += kinetic(c[i],c[i],α[i],α[i]) + potential(c[i],c[i],α[i],α[i])\n",
    "        sum_norm += overlap(c[i],c[i],α[i],α[i])\n",
    "        term += 1\n",
    "        for j in range(0,i):\n",
    "            sum_E += 2.0*( kinetic(c[i],c[j],α[i],α[j]) + potential(c[i],c[j],α[i],α[j]) )\n",
    "            sum_norm += 2.0*overlap(c[i],c[j],α[i],α[j])\n",
    "            term += 2\n",
    "    if term!=N**2 or sum_norm<0:\n",
    "        print('Total energy or norm has error!')\n",
    "    return (sum_E/sum_norm, sum_norm)\n",
    "        \n",
    "def delt_E(index,h):\n",
    "    if index<N:\n",
    "        d_E = kinetic(c[index]+h,c[index]+h,α[index],α[index]) + potential(c[index]+h,c[index]+h,α[index],α[index])\\\n",
    "                -kinetic(c[index],c[index],α[index],α[index]) - potential(c[index],c[index],α[index],α[index])\n",
    "        d_norm = overlap(c[index]+h,c[index]+h,α[index],α[index])-overlap(c[index],c[index],α[index],α[index])\n",
    "        term = 1\n",
    "        \n",
    "        for j in range(0,N):\n",
    "            if j!=index:\n",
    "                d_E += 2.0*(kinetic(c[index]+h,c[j],α[index],α[j]) + potential(c[index]+h,c[j],α[index],α[j]))\\\n",
    "                        -2.0*(kinetic(c[index],c[j],α[index],α[j]) + potential(c[index],c[j],α[index],α[j]))\n",
    "                d_norm += 2.0*overlap(c[index]+h,c[j],α[index],α[j]) - 2.0*overlap(c[index],c[j],α[index],α[j])\n",
    "                term += 2\n",
    "    else:\n",
    "        index -= N\n",
    "        d_E = kinetic(c[index],c[index],α[index]+h,α[index]+h) + potential(c[index],c[index],α[index]+h,α[index]+h)\\\n",
    "                -kinetic(c[index],c[index],α[index],α[index]) - potential(c[index],c[index],α[index],α[index])\n",
    "        d_norm = overlap(c[index],c[index],α[index]+h,α[index]+h)\\\n",
    "                    -overlap(c[index],c[index],α[index],α[index])\n",
    "        term = 1\n",
    "        \n",
    "        for j in range(0,N):\n",
    "            if j!=index:\n",
    "                d_E += 2.0*(kinetic(c[index],c[j],α[index]+h,α[j]) + potential(c[index],c[j],α[index]+h,α[j]))\\\n",
    "                        -2.0*(kinetic(c[index],c[j],α[index],α[j]) + potential(c[index],c[j],α[index],α[j]))\n",
    "                d_norm += 2.0*overlap(c[index],c[j],α[index]+h,α[j]) - 2.0*overlap(c[index],c[j],α[index],α[j])\n",
    "                term += 2\n",
    "    if term != 2*N-1:\n",
    "        print('Delta_E has term-Error!')\n",
    "    \n",
    "    return (d_E, d_norm)\n",
    "\n",
    "def E_new(d_E, d_norm, E_old, norm_old):\n",
    "    E_new = (d_E+E_old*norm_old)/(d_norm+norm_old)\n",
    "    return(E_new)\n",
    "\n",
    "def grad_Richardson(N,h):\n",
    "    (E_old,norm_old) = total_E()\n",
    "    \n",
    "    if h >= 0.5*α.min():\n",
    "        h = 0.3*α.min()\n",
    "    for i in range(1,2*N):\n",
    "        d_Ep2h = delt_E(i,2.0*h)\n",
    "        d_Eph = delt_E(i,h)\n",
    "        d_Ephalfh = delt_E(i,0.5*h)\n",
    "        d_En2h = delt_E(i,-2.0*h)\n",
    "        d_Enh = delt_E(i,-h)\n",
    "        d_Enhalfh = delt_E(i,-0.5*h)\n",
    "        \n",
    "        D1=(E_new(d_Eph[0],d_Eph[1],E_old,norm_old)-E_new(d_Enh[0],d_Enh[1],E_old,norm_old))/2.0/h\n",
    "        D2=(E_new(d_Ephalfh[0],d_Ephalfh[1],E_old,norm_old)-E_new(d_Enhalfh[0],d_Enhalfh[1],E_old,norm_old))/h\n",
    "        D22=(4.0*D2-D1)/3.0\n",
    "        D2=(E_new(d_Ep2h[0],d_Ep2h[1],E_old,norm_old)-E_new(d_Enh[0],d_Enh[1],E_old,norm_old))/4.0/h\n",
    "        D21=(4.0*D1-D2)/3.0\n",
    "        grad_E[i] = (4.0**2*D22-D21)/15.0\n",
    "        \n",
    "def self_adj(x,η,factor):\n",
    "    return(η/(abs(x)+factor))     "
   ]
  },
  {
   "cell_type": "code",
   "execution_count": 85,
   "metadata": {},
   "outputs": [
    {
     "ename": "KeyboardInterrupt",
     "evalue": "",
     "output_type": "error",
     "traceback": [
      "\u001b[1;31m---------------------------------------------------------------------------\u001b[0m",
      "\u001b[1;31mKeyboardInterrupt\u001b[0m                         Traceback (most recent call last)",
      "\u001b[1;32m<ipython-input-85-caf8e9cfd4cc>\u001b[0m in \u001b[0;36m<module>\u001b[1;34m\u001b[0m\n\u001b[0;32m     23\u001b[0m \u001b[1;33m\u001b[0m\u001b[0m\n\u001b[0;32m     24\u001b[0m \u001b[1;32mwhile\u001b[0m \u001b[0merror\u001b[0m\u001b[1;33m>\u001b[0m\u001b[0mcriteria\u001b[0m \u001b[1;32mand\u001b[0m \u001b[0miteration\u001b[0m\u001b[1;33m<\u001b[0m\u001b[0miter_max\u001b[0m\u001b[1;33m:\u001b[0m\u001b[1;33m\u001b[0m\u001b[1;33m\u001b[0m\u001b[0m\n\u001b[1;32m---> 25\u001b[1;33m     \u001b[0mgrad_Richardson\u001b[0m\u001b[1;33m(\u001b[0m\u001b[0mN\u001b[0m\u001b[1;33m,\u001b[0m\u001b[0mresolution\u001b[0m\u001b[1;33m)\u001b[0m\u001b[1;33m\u001b[0m\u001b[1;33m\u001b[0m\u001b[0m\n\u001b[0m\u001b[0;32m     26\u001b[0m \u001b[1;33m\u001b[0m\u001b[0m\n\u001b[0;32m     27\u001b[0m     \u001b[0merror\u001b[0m  \u001b[1;33m=\u001b[0m \u001b[1;33m(\u001b[0m\u001b[0mgrad_E\u001b[0m\u001b[1;33m@\u001b[0m\u001b[0mgrad_E\u001b[0m\u001b[1;33m)\u001b[0m\u001b[1;33m**\u001b[0m\u001b[1;36m0.5\u001b[0m\u001b[1;33m\u001b[0m\u001b[1;33m\u001b[0m\u001b[0m\n",
      "\u001b[1;32m<ipython-input-78-378017b7df85>\u001b[0m in \u001b[0;36mgrad_Richardson\u001b[1;34m(N, h)\u001b[0m\n\u001b[0;32m     59\u001b[0m         \u001b[0md_Ep2h\u001b[0m \u001b[1;33m=\u001b[0m \u001b[0mdelt_E\u001b[0m\u001b[1;33m(\u001b[0m\u001b[0mi\u001b[0m\u001b[1;33m,\u001b[0m\u001b[1;36m2.0\u001b[0m\u001b[1;33m*\u001b[0m\u001b[0mh\u001b[0m\u001b[1;33m)\u001b[0m\u001b[1;33m\u001b[0m\u001b[1;33m\u001b[0m\u001b[0m\n\u001b[0;32m     60\u001b[0m         \u001b[0md_Eph\u001b[0m \u001b[1;33m=\u001b[0m \u001b[0mdelt_E\u001b[0m\u001b[1;33m(\u001b[0m\u001b[0mi\u001b[0m\u001b[1;33m,\u001b[0m\u001b[0mh\u001b[0m\u001b[1;33m)\u001b[0m\u001b[1;33m\u001b[0m\u001b[1;33m\u001b[0m\u001b[0m\n\u001b[1;32m---> 61\u001b[1;33m         \u001b[0md_Ephalfh\u001b[0m \u001b[1;33m=\u001b[0m \u001b[0mdelt_E\u001b[0m\u001b[1;33m(\u001b[0m\u001b[0mi\u001b[0m\u001b[1;33m,\u001b[0m\u001b[1;36m0.5\u001b[0m\u001b[1;33m*\u001b[0m\u001b[0mh\u001b[0m\u001b[1;33m)\u001b[0m\u001b[1;33m\u001b[0m\u001b[1;33m\u001b[0m\u001b[0m\n\u001b[0m\u001b[0;32m     62\u001b[0m         \u001b[0md_En2h\u001b[0m \u001b[1;33m=\u001b[0m \u001b[0mdelt_E\u001b[0m\u001b[1;33m(\u001b[0m\u001b[0mi\u001b[0m\u001b[1;33m,\u001b[0m\u001b[1;33m-\u001b[0m\u001b[1;36m2.0\u001b[0m\u001b[1;33m*\u001b[0m\u001b[0mh\u001b[0m\u001b[1;33m)\u001b[0m\u001b[1;33m\u001b[0m\u001b[1;33m\u001b[0m\u001b[0m\n\u001b[0;32m     63\u001b[0m         \u001b[0md_Enh\u001b[0m \u001b[1;33m=\u001b[0m \u001b[0mdelt_E\u001b[0m\u001b[1;33m(\u001b[0m\u001b[0mi\u001b[0m\u001b[1;33m,\u001b[0m\u001b[1;33m-\u001b[0m\u001b[0mh\u001b[0m\u001b[1;33m)\u001b[0m\u001b[1;33m\u001b[0m\u001b[1;33m\u001b[0m\u001b[0m\n",
      "\u001b[1;32m<ipython-input-78-378017b7df85>\u001b[0m in \u001b[0;36mdelt_E\u001b[1;34m(index, h)\u001b[0m\n\u001b[0;32m     38\u001b[0m         \u001b[1;32mfor\u001b[0m \u001b[0mj\u001b[0m \u001b[1;32min\u001b[0m \u001b[0mrange\u001b[0m\u001b[1;33m(\u001b[0m\u001b[1;36m0\u001b[0m\u001b[1;33m,\u001b[0m\u001b[0mN\u001b[0m\u001b[1;33m)\u001b[0m\u001b[1;33m:\u001b[0m\u001b[1;33m\u001b[0m\u001b[1;33m\u001b[0m\u001b[0m\n\u001b[0;32m     39\u001b[0m             \u001b[1;32mif\u001b[0m \u001b[0mj\u001b[0m\u001b[1;33m!=\u001b[0m\u001b[0mindex\u001b[0m\u001b[1;33m:\u001b[0m\u001b[1;33m\u001b[0m\u001b[1;33m\u001b[0m\u001b[0m\n\u001b[1;32m---> 40\u001b[1;33m                 \u001b[0md_E\u001b[0m \u001b[1;33m+=\u001b[0m \u001b[1;36m2.0\u001b[0m\u001b[1;33m*\u001b[0m\u001b[1;33m(\u001b[0m\u001b[0mkinetic\u001b[0m\u001b[1;33m(\u001b[0m\u001b[0mc\u001b[0m\u001b[1;33m[\u001b[0m\u001b[0mindex\u001b[0m\u001b[1;33m]\u001b[0m\u001b[1;33m,\u001b[0m\u001b[0mc\u001b[0m\u001b[1;33m[\u001b[0m\u001b[0mj\u001b[0m\u001b[1;33m]\u001b[0m\u001b[1;33m,\u001b[0m\u001b[0mα\u001b[0m\u001b[1;33m[\u001b[0m\u001b[0mindex\u001b[0m\u001b[1;33m]\u001b[0m\u001b[1;33m+\u001b[0m\u001b[0mh\u001b[0m\u001b[1;33m,\u001b[0m\u001b[0mα\u001b[0m\u001b[1;33m[\u001b[0m\u001b[0mj\u001b[0m\u001b[1;33m]\u001b[0m\u001b[1;33m)\u001b[0m \u001b[1;33m+\u001b[0m \u001b[0mpotential\u001b[0m\u001b[1;33m(\u001b[0m\u001b[0mc\u001b[0m\u001b[1;33m[\u001b[0m\u001b[0mindex\u001b[0m\u001b[1;33m]\u001b[0m\u001b[1;33m,\u001b[0m\u001b[0mc\u001b[0m\u001b[1;33m[\u001b[0m\u001b[0mj\u001b[0m\u001b[1;33m]\u001b[0m\u001b[1;33m,\u001b[0m\u001b[0mα\u001b[0m\u001b[1;33m[\u001b[0m\u001b[0mindex\u001b[0m\u001b[1;33m]\u001b[0m\u001b[1;33m+\u001b[0m\u001b[0mh\u001b[0m\u001b[1;33m,\u001b[0m\u001b[0mα\u001b[0m\u001b[1;33m[\u001b[0m\u001b[0mj\u001b[0m\u001b[1;33m]\u001b[0m\u001b[1;33m)\u001b[0m\u001b[1;33m)\u001b[0m\u001b[0;31m\\\u001b[0m\u001b[1;33m\u001b[0m\u001b[1;33m\u001b[0m\u001b[0m\n\u001b[0m\u001b[0;32m     41\u001b[0m                         \u001b[1;33m-\u001b[0m\u001b[1;36m2.0\u001b[0m\u001b[1;33m*\u001b[0m\u001b[1;33m(\u001b[0m\u001b[0mkinetic\u001b[0m\u001b[1;33m(\u001b[0m\u001b[0mc\u001b[0m\u001b[1;33m[\u001b[0m\u001b[0mindex\u001b[0m\u001b[1;33m]\u001b[0m\u001b[1;33m,\u001b[0m\u001b[0mc\u001b[0m\u001b[1;33m[\u001b[0m\u001b[0mj\u001b[0m\u001b[1;33m]\u001b[0m\u001b[1;33m,\u001b[0m\u001b[0mα\u001b[0m\u001b[1;33m[\u001b[0m\u001b[0mindex\u001b[0m\u001b[1;33m]\u001b[0m\u001b[1;33m,\u001b[0m\u001b[0mα\u001b[0m\u001b[1;33m[\u001b[0m\u001b[0mj\u001b[0m\u001b[1;33m]\u001b[0m\u001b[1;33m)\u001b[0m \u001b[1;33m+\u001b[0m \u001b[0mpotential\u001b[0m\u001b[1;33m(\u001b[0m\u001b[0mc\u001b[0m\u001b[1;33m[\u001b[0m\u001b[0mindex\u001b[0m\u001b[1;33m]\u001b[0m\u001b[1;33m,\u001b[0m\u001b[0mc\u001b[0m\u001b[1;33m[\u001b[0m\u001b[0mj\u001b[0m\u001b[1;33m]\u001b[0m\u001b[1;33m,\u001b[0m\u001b[0mα\u001b[0m\u001b[1;33m[\u001b[0m\u001b[0mindex\u001b[0m\u001b[1;33m]\u001b[0m\u001b[1;33m,\u001b[0m\u001b[0mα\u001b[0m\u001b[1;33m[\u001b[0m\u001b[0mj\u001b[0m\u001b[1;33m]\u001b[0m\u001b[1;33m)\u001b[0m\u001b[1;33m)\u001b[0m\u001b[1;33m\u001b[0m\u001b[1;33m\u001b[0m\u001b[0m\n\u001b[0;32m     42\u001b[0m                 \u001b[0md_norm\u001b[0m \u001b[1;33m+=\u001b[0m \u001b[1;36m2.0\u001b[0m\u001b[1;33m*\u001b[0m\u001b[0moverlap\u001b[0m\u001b[1;33m(\u001b[0m\u001b[0mc\u001b[0m\u001b[1;33m[\u001b[0m\u001b[0mindex\u001b[0m\u001b[1;33m]\u001b[0m\u001b[1;33m,\u001b[0m\u001b[0mc\u001b[0m\u001b[1;33m[\u001b[0m\u001b[0mj\u001b[0m\u001b[1;33m]\u001b[0m\u001b[1;33m,\u001b[0m\u001b[0mα\u001b[0m\u001b[1;33m[\u001b[0m\u001b[0mindex\u001b[0m\u001b[1;33m]\u001b[0m\u001b[1;33m+\u001b[0m\u001b[0mh\u001b[0m\u001b[1;33m,\u001b[0m\u001b[0mα\u001b[0m\u001b[1;33m[\u001b[0m\u001b[0mj\u001b[0m\u001b[1;33m]\u001b[0m\u001b[1;33m)\u001b[0m \u001b[1;33m-\u001b[0m \u001b[1;36m2.0\u001b[0m\u001b[1;33m*\u001b[0m\u001b[0moverlap\u001b[0m\u001b[1;33m(\u001b[0m\u001b[0mc\u001b[0m\u001b[1;33m[\u001b[0m\u001b[0mindex\u001b[0m\u001b[1;33m]\u001b[0m\u001b[1;33m,\u001b[0m\u001b[0mc\u001b[0m\u001b[1;33m[\u001b[0m\u001b[0mj\u001b[0m\u001b[1;33m]\u001b[0m\u001b[1;33m,\u001b[0m\u001b[0mα\u001b[0m\u001b[1;33m[\u001b[0m\u001b[0mindex\u001b[0m\u001b[1;33m]\u001b[0m\u001b[1;33m,\u001b[0m\u001b[0mα\u001b[0m\u001b[1;33m[\u001b[0m\u001b[0mj\u001b[0m\u001b[1;33m]\u001b[0m\u001b[1;33m)\u001b[0m\u001b[1;33m\u001b[0m\u001b[1;33m\u001b[0m\u001b[0m\n",
      "\u001b[1;32m<ipython-input-4-e4d6ac7750a9>\u001b[0m in \u001b[0;36mpotential\u001b[1;34m(c1, c2, α1, α2)\u001b[0m\n\u001b[0;32m      9\u001b[0m         \u001b[0mU\u001b[0m \u001b[1;33m=\u001b[0m \u001b[1;36m0.0\u001b[0m\u001b[1;33m\u001b[0m\u001b[1;33m\u001b[0m\u001b[0m\n\u001b[0;32m     10\u001b[0m     \u001b[1;32melse\u001b[0m\u001b[1;33m:\u001b[0m\u001b[1;33m\u001b[0m\u001b[1;33m\u001b[0m\u001b[0m\n\u001b[1;32m---> 11\u001b[1;33m         \u001b[0mU\u001b[0m \u001b[1;33m=\u001b[0m \u001b[1;33m-\u001b[0m\u001b[1;36m2.0\u001b[0m\u001b[1;33m*\u001b[0m\u001b[0mc1\u001b[0m\u001b[1;33m*\u001b[0m\u001b[0mc2\u001b[0m\u001b[1;33m*\u001b[0m\u001b[1;33m(\u001b[0m\u001b[1;36m4.0\u001b[0m\u001b[1;33m*\u001b[0m\u001b[0mα1\u001b[0m\u001b[1;33m*\u001b[0m\u001b[0mα2\u001b[0m\u001b[1;33m)\u001b[0m\u001b[1;33m**\u001b[0m\u001b[1;36m0.75\u001b[0m\u001b[1;33m/\u001b[0m\u001b[1;33m(\u001b[0m\u001b[0mα1\u001b[0m\u001b[1;33m+\u001b[0m\u001b[0mα2\u001b[0m\u001b[1;33m)\u001b[0m\u001b[1;33m/\u001b[0m\u001b[0mnp\u001b[0m\u001b[1;33m.\u001b[0m\u001b[0mpi\u001b[0m\u001b[1;33m**\u001b[0m\u001b[1;36m0.5\u001b[0m\u001b[1;33m\u001b[0m\u001b[1;33m\u001b[0m\u001b[0m\n\u001b[0m\u001b[0;32m     12\u001b[0m     \u001b[1;32mreturn\u001b[0m\u001b[1;33m(\u001b[0m\u001b[0mU\u001b[0m\u001b[1;33m)\u001b[0m\u001b[1;33m\u001b[0m\u001b[1;33m\u001b[0m\u001b[0m\n\u001b[0;32m     13\u001b[0m \u001b[1;32mdef\u001b[0m \u001b[0moverlap\u001b[0m\u001b[1;33m(\u001b[0m\u001b[0mc1\u001b[0m\u001b[1;33m,\u001b[0m\u001b[0mc2\u001b[0m\u001b[1;33m,\u001b[0m\u001b[0mα1\u001b[0m\u001b[1;33m,\u001b[0m\u001b[0mα2\u001b[0m\u001b[1;33m)\u001b[0m\u001b[1;33m:\u001b[0m\u001b[1;33m\u001b[0m\u001b[1;33m\u001b[0m\u001b[0m\n",
      "\u001b[1;31mKeyboardInterrupt\u001b[0m: "
     ]
    }
   ],
   "source": [
    "N = 5\n",
    "resolution = 5e-2\n",
    "criteria = 1e-4\n",
    "iter_max = 200000\n",
    "iteration = 0\n",
    "factor = 10\n",
    "\n",
    "c=np.zeros((N))\n",
    "c[0]=1.0\n",
    "α=np.arange(1,N+1).astype(np.float64)\n",
    "#c = np.array([0.193572,0.48257,0.331816,0.116541,0.0221406])\n",
    "#α = np.array([0.0744527,0.197572,0.578648,2.07173,11.30561])\n",
    "\n",
    "grad_E=np.zeros((2*N))\n",
    "\n",
    "grad_Richardson(N,resolution)  \n",
    "\n",
    "error = (grad_E@grad_E)**0.5\n",
    "#η = α.min()**0.25\n",
    "η = 1\n",
    "c -= self_adj(error,η,factor)*grad_E[0:N]\n",
    "α -= self_adj(error,η,factor)*grad_E[N:]\n",
    "\n",
    "while error>criteria and iteration<iter_max:       \n",
    "    grad_Richardson(N,resolution)\n",
    "    \n",
    "    error  = (grad_E@grad_E)**0.5\n",
    "    #η = α.min()**0.25\n",
    "    η = 1\n",
    "    iteration += 1\n",
    "    \n",
    "    c -= self_adj(error,η,factor)*grad_E[0:N]\n",
    "    α -= self_adj(error,η,factor)*grad_E[N:]\n",
    "    \n",
    "    if iteration%1000 == 0:\n",
    "        print(f'Iteration = {iteration}; Energy = {total_E()[0]:.10f}; Error = {error:.4e}\\n')\n"
   ]
  },
  {
   "cell_type": "code",
   "execution_count": 90,
   "metadata": {},
   "outputs": [
    {
     "data": {
      "text/plain": [
       "1555399085.7116082"
      ]
     },
     "execution_count": 90,
     "metadata": {},
     "output_type": "execute_result"
    }
   ],
   "source": [
    "import time"
   ]
  },
  {
   "cell_type": "code",
   "execution_count": 89,
   "metadata": {},
   "outputs": [
    {
     "data": {
      "text/plain": [
       "-0.4994886396393393"
      ]
     },
     "execution_count": 89,
     "metadata": {},
     "output_type": "execute_result"
    }
   ],
   "source": [
    "N=5\n",
    "c = np.array([0.193572,0.48257,0.331816,0.116541,0.0221406])\n",
    "α = np.array([0.0744527,0.197572,0.578648,2.07173,11.30561])\n",
    "total_E()[0]"
   ]
  },
  {
   "cell_type": "code",
   "execution_count": 18,
   "metadata": {},
   "outputs": [],
   "source": [
    "norm = total_E()[1]\n",
    "c = c/norm**0.5"
   ]
  },
  {
   "cell_type": "code",
   "execution_count": 50,
   "metadata": {},
   "outputs": [
    {
     "data": {
      "image/png": "[encoded data removed]",
      "text/plain": [
       "<Figure size 750x750 with 1 Axes>"
      ]
     },
     "metadata": {
      "needs_background": "light"
     },
     "output_type": "display_data"
    }
   ],
   "source": [
    "r = np.linspace(0,10,500)\n",
    "ϕ = np.zeros((len(r)))\n",
    "for i in range(0,N):\n",
    "    ϕ += c[i]*(2*α[i]/np.pi)**0.75*np.exp(-α[i]*r**2)\n",
    "\n",
    "fig = plt.figure(figsize=(5,5), dpi = 150)\n",
    "ax = plt.plot(r,ϕ,lw = 1.5,label = 'STO-2G')\n",
    "ax = plt.xticks(np.linspace(0,10,11),fontsize=12.5)\n",
    "ax = plt.yticks(np.linspace(0,1.0,11),fontsize=12.5)\n",
    "ax = plt.title('Electron Wave Funcion of H atom Using STO-nG', fontsize = 20, y=1.05)\n",
    "ax = plt.xlabel('Distance from Nuclear (in unit of Bohr radius)')\n",
    "ax = plt.ylabel('Probability Amplitude')\n",
    "ax = plt.xlim(0,8)\n",
    "ax = plt.ylim(0,0.6)\n",
    "ax = plt.plot(r,1/np.pi**0.5*np.exp(-r),'r:', lw = 1.5, markersize = 1.0, label = 'STO-Exact')\n",
    "ax = plt.legend(loc='upper right', prop={'size': 12.5})"
   ]
  },
  {
   "cell_type": "code",
   "execution_count": null,
   "metadata": {},
   "outputs": [],
   "source": []
  },
  {
   "cell_type": "code",
   "execution_count": 259,
   "metadata": {},
   "outputs": [
    {
     "name": "stdout",
     "output_type": "stream",
     "text": [
      "For STO-1G:\n",
      "\tTotal iterations = 94; Energy = -0.4244130400; Error = 9.3418e-04\n",
      "\n",
      "For STO-2G:\n",
      "\tTotal iterations = 7917; Energy = -0.4857842253; Error = 9.9966e-04\n",
      "\n",
      "For STO-3G:\n",
      "\tTotal iterations = 14946; Energy = -0.4966321385; Error = 9.9994e-04\n",
      "\n"
     ]
    }
   ],
   "source": [
    "STO_NG = np.array([1,2,3])\n",
    "E_and_norm = np.zeros((len(STO_NG),2))\n",
    "r = np.linspace(0,8,1000)\n",
    "ϕ = np.zeros((len(STO_NG),len(r)))\n",
    "    \n",
    "for i,N in enumerate(STO_NG):\n",
    "    resolution = 5e-2\n",
    "    criteria = 1e-3\n",
    "    iter_max = 100000\n",
    "    iteration = 0\n",
    "    factor = 10\n",
    "    \n",
    "    c=np.zeros((N))\n",
    "    c[0]=1.0\n",
    "    α=np.arange(1,N+1).astype(np.float64)\n",
    "    grad_E=np.zeros((2*N))\n",
    "\n",
    "    grad_Richardson(N,resolution)  \n",
    "\n",
    "    error = (grad_E@grad_E)**0.5\n",
    "    η = α.min()\n",
    "    c -= self_adj(error,η,factor)*grad_E[0:N]\n",
    "    α -= self_adj(error,η,factor)*grad_E[N:]\n",
    "\n",
    "    while error>criteria and iteration<iter_max:\n",
    "        #print('PASS')\n",
    "        grad_Richardson(N,resolution)\n",
    "    \n",
    "        error  = (grad_E@grad_E)**0.5\n",
    "        η = α.min()\n",
    "        iteration += 1\n",
    "    \n",
    "        c -= self_adj(error,η,factor)*grad_E[0:N]\n",
    "        α -= self_adj(error,η,factor)*grad_E[N:]\n",
    "    \n",
    "        #if iteration%10 == 0:\n",
    "            #print(f'Iteration = {iteration}; Energy = {total_E()[0]:.10f}; Error = {error:.4e}\\n')\n",
    "            \n",
    "    E_and_norm[i,] = total_E()\n",
    "    c = c/E_and_norm[i,1]**0.5\n",
    "    for j in range(0,N):\n",
    "        ϕ[i,] += c[j]*(2*α[j]/np.pi)**0.75*np.exp(-α[j]*r**2)\n",
    "        \n",
    "    print(f'For STO-{N}G:\\n\\tTotal iterations = {iteration}; Energy = {total_E()[0]:.10f}; Error = {error:.4e}\\n')"
   ]
  },
  {
   "cell_type": "code",
   "execution_count": 260,
   "metadata": {},
   "outputs": [
    {
     "data": {
      "image/png": "[encoded data removed]",
      "text/plain": [
       "<Figure size 432x288 with 1 Axes>"
      ]
     },
     "metadata": {
      "needs_background": "light"
     },
     "output_type": "display_data"
    }
   ],
   "source": [
    "for curve in ϕ:\n",
    "    plt.plot(r,curve)\n",
    "plt.plot(r,1/np.pi**0.5*np.exp(-r),c='r')\n",
    "plt.show()"
   ]
  },
  {
   "cell_type": "code",
   "execution_count": 258,
   "metadata": {},
   "outputs": [
    {
     "data": {
      "text/plain": [
       "10"
      ]
     },
     "execution_count": 258,
     "metadata": {},
     "output_type": "execute_result"
    }
   ],
   "source": [
    "ϕ = np.zeros((len(STO_NG),len(r)))\n",
    "len(ϕ)"
   ]
  },
  {
   "cell_type": "code",
   "execution_count": null,
   "metadata": {},
   "outputs": [],
   "source": []
  },
  {
   "cell_type": "code",
   "execution_count": 428,
   "metadata": {},
   "outputs": [
    {
     "data": {
      "text/plain": [
       "(-0.4544568424923207, 2.168578637868319)"
      ]
     },
     "execution_count": 428,
     "metadata": {},
     "output_type": "execute_result"
    }
   ],
   "source": [
    "total_E([1,0.43/0.679],[0.233,1.31])"
   ]
  },
  {
   "cell_type": "code",
   "execution_count": 427,
   "metadata": {},
   "outputs": [
    {
     "data": {
      "text/plain": [
       "0.6332842415316642"
      ]
     },
     "execution_count": 427,
     "metadata": {},
     "output_type": "execute_result"
    }
   ],
   "source": [
    "def total_E():\n",
    "    sum_E = 0.0\n",
    "    sum_norm = 0.0\n",
    "    term = 0\n",
    "    for i in range(0,N):\n",
    "        sum_E += kinetic(c[i],c[i],α[i],α[i]) + potential(c[i],c[i],α[i],α[i])\n",
    "        sum_norm += overlap(c[i],c[i],α[i],α[i])\n",
    "        term += 1\n",
    "        for j in range(0,i):\n",
    "            sum_E += 2.0*( kinetic(c[i],c[j],α[i],α[j]) + potential(c[i],c[j],α[i],α[j]) )\n",
    "            sum_norm += 2.0*overlap(c[i],c[j],α[i],α[j])\n",
    "            term += 2\n",
    "    if term!=N**2 or sum_norm<0:\n",
    "        print('Error!')\n",
    "    return (sum_E/sum_norm, sum_norm)\n",
    "        \n",
    "def E_new(index,h):\n",
    "    if index<N:\n",
    "        d_E = kinetic(c[index]+h,c[index]+h,α[index],α[index]) + potential(c[index]+h,c[index]+h,α[index],α[index])\\\n",
    "                -kinetic(c[index],c[index],α[index],α[index]) - potential(c[index],c[index],α[index],α[index])\n",
    "        d_norm = overlap(c[index]+h,c[index]+h,α[index],α[index])-overlap(c[index],c[index],α[index],α[index])\n",
    "        term = 1\n",
    "        \n",
    "        for j in range(0,N):\n",
    "            if j!=index:\n",
    "                d_E += 2.0*(kinetic(c[index]+h,c[j],α[index],α[j]) + potential(c[index]+h,c[j],α[index],α[j]))\\\n",
    "                        -2.0*(kinetic(c[index],c[j],α[index],α[j]) + potential(c[index],c[j],α[index],α[j]))\n",
    "                d_norm += 2.0*overlap(c[index]+h,c[j],α[index],α[j]) - 2.0*overlap(c[index],c[j],α[index],α[j])\n",
    "                term += 2\n",
    "    else:\n",
    "        index -= N\n",
    "        d_E = kinetic(c[index],c[index],α[index]+h,α[index]+h) + potential(c[index],c[index],α[index]+h,α[index]+h)\\\n",
    "                -kinetic(c[index],c[index],α[index],α[index]) - potential(c[index],c[index],α[index],α[index])\n",
    "        d_norm = overlap(c[index],c[index],α[index]+h,α[index]+h)\\\n",
    "                    -overlap(c[index],c[index],α[index],α[index])\n",
    "        term = 1\n",
    "        \n",
    "        for j in range(0,N):\n",
    "            if j!=index:\n",
    "                d_E += 2.0*(kinetic(c[index],c[j],α[index]+h,α[j]) + potential(c[index],c[j],α[index]+h,α[j]))\\\n",
    "                        -2.0*(kinetic(c[index],c[j],α[index],α[j]) + potential(c[index],c[j],α[index],α[j]))\n",
    "                d_norm += 2.0*overlap(c[index],c[j],α[index]+h,α[j]) - 2.0*overlap(c[index],c[j],α[index],α[j])\n",
    "                term += 2\n",
    "    if term != 2*N-1:\n",
    "        print('Error!')\n",
    "    (E,norm) = total_E()\n",
    "    E_new = (d_E+E*norm)/(d_norm+norm)\n",
    "    return(E_new)\n",
    "\n",
    "def grad_Richardson(N,h):\n",
    "    if h >= α.min():\n",
    "        h = 0.1*α.min()\n",
    "    for i in range(1,2*N):\n",
    "        D1=(E_new(i,h)-E_new(i,-h))/2.0/h\n",
    "        D2=(E_new(i,0.5*h)-E_new(i,-0.5*h))/h\n",
    "        D22=(4.0*D2-D1)/3.0\n",
    "        D2=(E_new(i,2.0*h)-E_new(i,-2.0*h))/4.0/h\n",
    "        D21=(4.0*D1-D2)/3.0\n",
    "        grad_E[i] = (4.0**2*D22-D21)/15.0\n",
    "        \n",
    "def self_adj(x,η,factor):\n",
    "    return(η/(abs(x)+factor))"
   ]
  },
  {
   "cell_type": "code",
   "execution_count": 201,
   "metadata": {},
   "outputs": [
    {
     "name": "stderr",
     "output_type": "stream",
     "text": [
      "E:\\Anaconda\\lib\\site-packages\\ipykernel_launcher.py:5: RuntimeWarning: invalid value encountered in double_scalars\n",
      "  \"\"\"\n",
      "E:\\Anaconda\\lib\\site-packages\\ipykernel_launcher.py:17: RuntimeWarning: invalid value encountered in double_scalars\n",
      "E:\\Anaconda\\lib\\site-packages\\ipykernel_launcher.py:11: RuntimeWarning: invalid value encountered in double_scalars\n",
      "  # This is added back by InteractiveShellApp.init_path()\n"
     ]
    },
    {
     "data": {
      "text/plain": [
       "nan"
      ]
     },
     "execution_count": 201,
     "metadata": {},
     "output_type": "execute_result"
    }
   ],
   "source": [
    "E_new(3,-resolution)"
   ]
  },
  {
   "cell_type": "code",
   "execution_count": 164,
   "metadata": {},
   "outputs": [
    {
     "name": "stderr",
     "output_type": "stream",
     "text": [
      "E:\\Anaconda\\lib\\site-packages\\ipykernel_launcher.py:17: RuntimeWarning: invalid value encountered in double_scalars\n"
     ]
    },
    {
     "data": {
      "text/plain": [
       "nan"
      ]
     },
     "execution_count": 164,
     "metadata": {},
     "output_type": "execute_result"
    }
   ],
   "source": [
    "index = 1\n",
    "h = resolution\n",
    "d_E = kinetic(c[index]+h,c[index]+h,α[index],α[index]) + potential(c[index]+h,c[index]+h,α[index],α[index])\\\n",
    "                -kinetic(c[index],c[index],α[index],α[index]) - potential(c[index],c[index],α[index],α[index])\n",
    "d_norm = overlap(c[index]+h,c[index]+h,α[index],α[index])\\\n",
    "                    -overlap(c[index],c[index],α[index],α[index])\n",
    "        \n",
    "for j in range(0,N):\n",
    "    if j!=index:\n",
    "        d_E += 2.0*(kinetic(c[index]+h,c[j],α[index],α[j]) + potential(c[index]+h,c[j],α[index],α[j]))\\\n",
    "                        -2.0*(kinetic(c[index],c[j],α[index],α[j]) + potential(c[index],c[j],α[index],α[j]))\n",
    "        d_norm += overlap(c[index]+h,c[j],a[index],a[j]) - overlap(c[index],c[j],a[index],a[j])\n",
    "d_norm"
   ]
  },
  {
   "cell_type": "code",
   "execution_count": 191,
   "metadata": {},
   "outputs": [
    {
     "name": "stdout",
     "output_type": "stream",
     "text": [
      "0\n",
      "0.0\n"
     ]
    }
   ],
   "source": [
    "overlap(c[index]+h,c[index]+h,α[index],α[index])\\\n",
    "                    -overlap(c[index],c[index],α[index],α[index])\n",
    "for j in range(0,N):\n",
    "    if j!=index:\n",
    "        print(j)\n",
    "        d_norm += overlap(c[index]+h,c[j],α[index],α[j]) - overlap(c[index],c[j],α[index],α[j])\n",
    "        print(overlap(c[index]+h,c[j],α[index],α[j]) - overlap(c[index],c[j],α[index],α[j]))"
   ]
  },
  {
   "cell_type": "code",
   "execution_count": 189,
   "metadata": {},
   "outputs": [
    {
     "data": {
      "text/plain": [
       "0.0"
      ]
     },
     "execution_count": 189,
     "metadata": {},
     "output_type": "execute_result"
    }
   ],
   "source": [
    "overlap(c[1]+h,c[0],α[1],α[0])"
   ]
  },
  {
   "cell_type": "code",
   "execution_count": 188,
   "metadata": {},
   "outputs": [
    {
     "data": {
      "text/plain": [
       "0.0"
      ]
     },
     "execution_count": 188,
     "metadata": {},
     "output_type": "execute_result"
    }
   ],
   "source": [
    "overlap(c[1],c[0],α[1],α[0])"
   ]
  },
  {
   "cell_type": "code",
   "execution_count": 16,
   "metadata": {},
   "outputs": [],
   "source": [
    "A=np.array([[2,3,4],[5,0,1]])"
   ]
  },
  {
   "cell_type": "code",
   "execution_count": 23,
   "metadata": {},
   "outputs": [
    {
     "data": {
      "text/plain": [
       "array([[2],\n",
       "       [3],\n",
       "       [4],\n",
       "       [5],\n",
       "       [0],\n",
       "       [1]])"
      ]
     },
     "execution_count": 23,
     "metadata": {},
     "output_type": "execute_result"
    }
   ],
   "source": [
    "A.reshape(-1,1)"
   ]
  },
  {
   "cell_type": "code",
   "execution_count": 17,
   "metadata": {},
   "outputs": [
    {
     "data": {
      "text/plain": [
       "array([[2, 3, 4],\n",
       "       [5, 0, 1]])"
      ]
     },
     "execution_count": 17,
     "metadata": {},
     "output_type": "execute_result"
    }
   ],
   "source": [
    "A"
   ]
  },
  {
   "cell_type": "code",
   "execution_count": 18,
   "metadata": {},
   "outputs": [
    {
     "data": {
      "text/plain": [
       "array([7, 3, 5])"
      ]
     },
     "execution_count": 18,
     "metadata": {},
     "output_type": "execute_result"
    }
   ],
   "source": [
    "A[1]+A[0]"
   ]
  },
  {
   "cell_type": "code",
   "execution_count": null,
   "metadata": {},
   "outputs": [],
   "source": []
  }
 ],
 "metadata": {
  "kernelspec": {
   "display_name": "Python 3",
   "language": "python",
   "name": "python3"
  },
  "language_info": {
   "codemirror_mode": {
    "name": "ipython",
    "version": 3
   },
   "file_extension": ".py",
   "mimetype": "text/x-python",
   "name": "python",
   "nbconvert_exporter": "python",
   "pygments_lexer": "ipython3",
   "version": "3.7.1"
  },
  "varInspector": {
   "cols": {
    "lenName": 16,
    "lenType": 16,
    "lenVar": 40
   },
   "kernels_config": {
    "python": {
     "delete_cmd_postfix": "",
     "delete_cmd_prefix": "del ",
     "library": "var_list.py",
     "varRefreshCmd": "print(var_dic_list())"
    },
    "r": {
     "delete_cmd_postfix": ") ",
     "delete_cmd_prefix": "rm(",
     "library": "var_list.r",
     "varRefreshCmd": "cat(var_dic_list()) "
    }
   },
   "types_to_exclude": [
    "module",
    "function",
    "builtin_function_or_method",
    "instance",
    "_Feature"
   ],
   "window_display": false
  }
 },
 "nbformat": 4,
 "nbformat_minor": 2
}
